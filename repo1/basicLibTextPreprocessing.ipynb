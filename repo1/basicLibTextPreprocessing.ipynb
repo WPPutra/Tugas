{
  "cells": [
    {
      "cell_type": "markdown",
      "source": [
        "Nama: Wisnu Permana Putra\n",
        "\n",
        "NIM: A11.2020.12598"
      ],
      "metadata": {
        "id": "tmRas7LECBlh"
      }
    },
    {
      "cell_type": "markdown",
      "metadata": {
        "id": "bVli2fXvkKm8"
      },
      "source": [
        "# Dasar Text-Preprocessing dengan Python#\n",
        "Text data needs to be cleaned and encoded to numerical values before giving them to machine learning models, this process of cleaning and encoding is called as text preprocessing.\n",
        "\n",
        "---\n",
        "\n",
        "## Case Folding: Lowercase ##\n",
        "Merubah format teks menjadi format huruf kecil semua (_lowercase_)."
      ]
    },
    {
      "cell_type": "code",
      "execution_count": 2,
      "metadata": {
        "colab": {
          "base_uri": "https://localhost:8080/"
        },
        "id": "Oq5uhQHfkKm-",
        "outputId": "48b1b9a2-6a5a-4c77-fff5-b486a322a694"
      },
      "outputs": [
        {
          "output_type": "stream",
          "name": "stdout",
          "text": [
            "jakarta, cnn indonesia -- pep guardiola akhirnya harus merasakan kesialan yang pernah dirasakan manajer-manajer klub lainnya musim ini. ya, dua pemain manchester city mengalami cedera saat ditahan imbang tanpa gol tim tuan rumah crystal palace di stadion selhurst park, minggu (31/12). mereka adalah gabriel jesus dan kevin de bruyne. jesus dipastikan bakal absen sekitar sebulan akibat cedera parah. sedangkan de bruyne diperkirakan absen hanya dalam dua laga ke ke depan. guardiola mengaku cukup pusing dengan cedera yang dialami dua pemainnya di mancity. tak ayal, ia meminta wasit agar memberikan perlindungan yang lebih besar lagi kepada para pemain sehingga terhindar dari cedera. “saya mengagumi permainan sarat fisik di liga primer inggris, tapi para wasit seharusnya melindungi para pemain, bukan hanya para pemain bintang, tapi semua pemain,” ujar guardiola dikutip dari bbc pelatih asal spanyol itu berpendapat, wasit seharusnya bisa meredam permainan kasar para pemain dengan keputusannya memberikan hukuman sepadan sehingga tak menekan kasus cedera para pemain. kebijakan itu juga harus didukung federasi sepak bola inggris (fa). “saya belum pernah berdiskusi dengan fa tentang masalah ini. mereka hanya fokus pada aksi diving terkait pelanggaran pemain.” “saya tahu kontak badan diperbolehkan di sini melebihi dari liga-liga lainnya, tapi tetap harus ada batasannya,” ucap guardiola. kebijakan melindungi pemain, guardiola menambahkan, tak harus mengubah gaya permainan sarat fisik di kompetisi sepak bola inggris. “tentu ada batasnya ketika anda sudah bertindak di luar batas dan itu berbahaya. kami cukup beruntung karena di masa sebelumnya para pemain kami masih tetap bertahan.” “kadang karena permainan sepak bola yang cepat hal itu [pelanggaran berbahaya] kerap terjadi dan mereka memang tak berniat mencelakai pemain lain. tapi mereka tetap bisa cedera dalam waktu lama,” terang pelatih berkepala plontos itu. (bac)\n"
          ]
        }
      ],
      "source": [
        "kalimat = \"Jakarta, CNN Indonesia -- Pep Guardiola akhirnya harus merasakan kesialan yang pernah dirasakan manajer-manajer klub lainnya musim ini. Ya, dua pemain Manchester City mengalami cedera saat ditahan imbang tanpa gol tim tuan rumah Crystal Palace di Stadion Selhurst Park, Minggu (31/12). Mereka adalah Gabriel Jesus dan Kevin De Bruyne. Jesus dipastikan bakal absen sekitar sebulan akibat cedera parah. Sedangkan De Bruyne diperkirakan absen hanya dalam dua laga ke ke depan. Guardiola mengaku cukup pusing dengan cedera yang dialami dua pemainnya di ManCity. Tak ayal, ia meminta wasit agar memberikan perlindungan yang lebih besar lagi kepada para pemain sehingga terhindar dari cedera. “Saya mengagumi permainan sarat fisik di Liga Primer Inggris, tapi para wasit seharusnya melindungi para pemain, bukan hanya para pemain bintang, tapi semua pemain,” ujar Guardiola dikutip dari BBC Pelatih asal Spanyol itu berpendapat, wasit seharusnya bisa meredam permainan kasar para pemain dengan keputusannya memberikan hukuman sepadan sehingga tak menekan kasus cedera para pemain. Kebijakan itu juga harus didukung Federasi Sepak Bola Inggris (FA). “Saya belum pernah berdiskusi dengan FA tentang masalah ini. Mereka hanya fokus pada aksi diving terkait pelanggaran pemain.” “Saya tahu kontak badan diperbolehkan di sini melebihi dari liga-liga lainnya, tapi tetap harus ada batasannya,” ucap Guardiola. Kebijakan melindungi pemain, Guardiola menambahkan, tak harus mengubah gaya permainan sarat fisik di kompetisi sepak bola Inggris. “Tentu ada batasnya ketika Anda sudah bertindak di luar batas dan itu berbahaya. Kami cukup beruntung karena di masa sebelumnya para pemain kami masih tetap bertahan.” “Kadang karena permainan sepak bola yang cepat hal itu [pelanggaran berbahaya] kerap terjadi dan mereka memang tak berniat mencelakai pemain lain. Tapi mereka tetap bisa cedera dalam waktu lama,” terang pelatih berkepala plontos itu. (bac)\"\n",
        "lower_case = kalimat.lower()\n",
        "print(lower_case)\n"
      ]
    },
    {
      "cell_type": "markdown",
      "metadata": {
        "id": "ejntjjvqkKnA"
      },
      "source": [
        "## Case Folding: Removing Number ##\n",
        "Menghapus karakter angka."
      ]
    },
    {
      "cell_type": "code",
      "execution_count": 3,
      "metadata": {
        "colab": {
          "base_uri": "https://localhost:8080/",
          "height": 105
        },
        "id": "LSeFzQKKkKnA",
        "outputId": "581a4fe7-1750-40e1-c6e1-a52946be551a"
      },
      "outputs": [
        {
          "output_type": "execute_result",
          "data": {
            "text/plain": [
              "'Jakarta, CNN Indonesia -- Pep Guardiola akhirnya harus merasakan kesialan yang pernah dirasakan manajer-manajer klub lainnya musim ini. Ya, dua pemain Manchester City mengalami cedera saat ditahan imbang tanpa gol tim tuan rumah Crystal Palace di Stadion Selhurst Park, Minggu (/). Mereka adalah Gabriel Jesus dan Kevin De Bruyne. Jesus dipastikan bakal absen sekitar sebulan akibat cedera parah. Sedangkan De Bruyne diperkirakan absen hanya dalam dua laga ke ke depan. Guardiola mengaku cukup pusing dengan cedera yang dialami dua pemainnya di ManCity. Tak ayal, ia meminta wasit agar memberikan perlindungan yang lebih besar lagi kepada para pemain sehingga terhindar dari cedera. “Saya mengagumi permainan sarat fisik di Liga Primer Inggris, tapi para wasit seharusnya melindungi para pemain, bukan hanya para pemain bintang, tapi semua pemain,” ujar Guardiola dikutip dari BBC Pelatih asal Spanyol itu berpendapat, wasit seharusnya bisa meredam permainan kasar para pemain dengan keputusannya memberikan hukuman sepadan sehingga tak menekan kasus cedera para pemain. Kebijakan itu juga harus didukung Federasi Sepak Bola Inggris (FA). “Saya belum pernah berdiskusi dengan FA tentang masalah ini. Mereka hanya fokus pada aksi diving terkait pelanggaran pemain.” “Saya tahu kontak badan diperbolehkan di sini melebihi dari liga-liga lainnya, tapi tetap harus ada batasannya,” ucap Guardiola. Kebijakan melindungi pemain, Guardiola menambahkan, tak harus mengubah gaya permainan sarat fisik di kompetisi sepak bola Inggris. “Tentu ada batasnya ketika Anda sudah bertindak di luar batas dan itu berbahaya. Kami cukup beruntung karena di masa sebelumnya para pemain kami masih tetap bertahan.” “Kadang karena permainan sepak bola yang cepat hal itu [pelanggaran berbahaya] kerap terjadi dan mereka memang tak berniat mencelakai pemain lain. Tapi mereka tetap bisa cedera dalam waktu lama,” terang pelatih berkepala plontos itu. (bac)'"
            ],
            "application/vnd.google.colaboratory.intrinsic+json": {
              "type": "string"
            }
          },
          "metadata": {},
          "execution_count": 3
        }
      ],
      "source": [
        "import re\n",
        "kalimat = \"Jakarta, CNN Indonesia -- Pep Guardiola akhirnya harus merasakan kesialan yang pernah dirasakan manajer-manajer klub lainnya musim ini. Ya, dua pemain Manchester City mengalami cedera saat ditahan imbang tanpa gol tim tuan rumah Crystal Palace di Stadion Selhurst Park, Minggu (31/12). Mereka adalah Gabriel Jesus dan Kevin De Bruyne. Jesus dipastikan bakal absen sekitar sebulan akibat cedera parah. Sedangkan De Bruyne diperkirakan absen hanya dalam dua laga ke ke depan. Guardiola mengaku cukup pusing dengan cedera yang dialami dua pemainnya di ManCity. Tak ayal, ia meminta wasit agar memberikan perlindungan yang lebih besar lagi kepada para pemain sehingga terhindar dari cedera. “Saya mengagumi permainan sarat fisik di Liga Primer Inggris, tapi para wasit seharusnya melindungi para pemain, bukan hanya para pemain bintang, tapi semua pemain,” ujar Guardiola dikutip dari BBC Pelatih asal Spanyol itu berpendapat, wasit seharusnya bisa meredam permainan kasar para pemain dengan keputusannya memberikan hukuman sepadan sehingga tak menekan kasus cedera para pemain. Kebijakan itu juga harus didukung Federasi Sepak Bola Inggris (FA). “Saya belum pernah berdiskusi dengan FA tentang masalah ini. Mereka hanya fokus pada aksi diving terkait pelanggaran pemain.” “Saya tahu kontak badan diperbolehkan di sini melebihi dari liga-liga lainnya, tapi tetap harus ada batasannya,” ucap Guardiola. Kebijakan melindungi pemain, Guardiola menambahkan, tak harus mengubah gaya permainan sarat fisik di kompetisi sepak bola Inggris. “Tentu ada batasnya ketika Anda sudah bertindak di luar batas dan itu berbahaya. Kami cukup beruntung karena di masa sebelumnya para pemain kami masih tetap bertahan.” “Kadang karena permainan sepak bola yang cepat hal itu [pelanggaran berbahaya] kerap terjadi dan mereka memang tak berniat mencelakai pemain lain. Tapi mereka tetap bisa cedera dalam waktu lama,” terang pelatih berkepala plontos itu. (bac)\"\n",
        "\n",
        "hasil = re.sub(r\"\\d+\", \"\", kalimat)\n",
        "hasil"
      ]
    },
    {
      "cell_type": "markdown",
      "metadata": {
        "id": "-RQbgkxCkKnA"
      },
      "source": [
        "## Case Folding: Removing Punctuation ##\n",
        "Menghapus karakter tanda baca."
      ]
    },
    {
      "cell_type": "code",
      "execution_count": 4,
      "metadata": {
        "colab": {
          "base_uri": "https://localhost:8080/",
          "height": 105
        },
        "id": "miX0FMgJkKnA",
        "outputId": "cd9ce550-5ec7-4170-fe6c-afb0b4834000"
      },
      "outputs": [
        {
          "output_type": "execute_result",
          "data": {
            "text/plain": [
              "'Jakarta CNN Indonesia  Pep Guardiola akhirnya harus merasakan kesialan yang pernah dirasakan manajermanajer klub lainnya musim ini Ya dua pemain Manchester City mengalami cedera saat ditahan imbang tanpa gol tim tuan rumah Crystal Palace di Stadion Selhurst Park Minggu 3112 Mereka adalah Gabriel Jesus dan Kevin De Bruyne Jesus dipastikan bakal absen sekitar sebulan akibat cedera parah Sedangkan De Bruyne diperkirakan absen hanya dalam dua laga ke ke depan Guardiola mengaku cukup pusing dengan cedera yang dialami dua pemainnya di ManCity Tak ayal ia meminta wasit agar memberikan perlindungan yang lebih besar lagi kepada para pemain sehingga terhindar dari cedera “Saya mengagumi permainan sarat fisik di Liga Primer Inggris tapi para wasit seharusnya melindungi para pemain bukan hanya para pemain bintang tapi semua pemain” ujar Guardiola dikutip dari BBC Pelatih asal Spanyol itu berpendapat wasit seharusnya bisa meredam permainan kasar para pemain dengan keputusannya memberikan hukuman sepadan sehingga tak menekan kasus cedera para pemain Kebijakan itu juga harus didukung Federasi Sepak Bola Inggris FA “Saya belum pernah berdiskusi dengan FA tentang masalah ini Mereka hanya fokus pada aksi diving terkait pelanggaran pemain” “Saya tahu kontak badan diperbolehkan di sini melebihi dari ligaliga lainnya tapi tetap harus ada batasannya” ucap Guardiola Kebijakan melindungi pemain Guardiola menambahkan tak harus mengubah gaya permainan sarat fisik di kompetisi sepak bola Inggris “Tentu ada batasnya ketika Anda sudah bertindak di luar batas dan itu berbahaya Kami cukup beruntung karena di masa sebelumnya para pemain kami masih tetap bertahan” “Kadang karena permainan sepak bola yang cepat hal itu pelanggaran berbahaya kerap terjadi dan mereka memang tak berniat mencelakai pemain lain Tapi mereka tetap bisa cedera dalam waktu lama” terang pelatih berkepala plontos itu bac'"
            ],
            "application/vnd.google.colaboratory.intrinsic+json": {
              "type": "string"
            }
          },
          "metadata": {},
          "execution_count": 4
        }
      ],
      "source": [
        "import string\n",
        "\n",
        "kalimat = \"Jakarta, CNN Indonesia -- Pep Guardiola akhirnya harus merasakan kesialan yang pernah dirasakan manajer-manajer klub lainnya musim ini. Ya, dua pemain Manchester City mengalami cedera saat ditahan imbang tanpa gol tim tuan rumah Crystal Palace di Stadion Selhurst Park, Minggu (31/12). Mereka adalah Gabriel Jesus dan Kevin De Bruyne. Jesus dipastikan bakal absen sekitar sebulan akibat cedera parah. Sedangkan De Bruyne diperkirakan absen hanya dalam dua laga ke ke depan. Guardiola mengaku cukup pusing dengan cedera yang dialami dua pemainnya di ManCity. Tak ayal, ia meminta wasit agar memberikan perlindungan yang lebih besar lagi kepada para pemain sehingga terhindar dari cedera. “Saya mengagumi permainan sarat fisik di Liga Primer Inggris, tapi para wasit seharusnya melindungi para pemain, bukan hanya para pemain bintang, tapi semua pemain,” ujar Guardiola dikutip dari BBC Pelatih asal Spanyol itu berpendapat, wasit seharusnya bisa meredam permainan kasar para pemain dengan keputusannya memberikan hukuman sepadan sehingga tak menekan kasus cedera para pemain. Kebijakan itu juga harus didukung Federasi Sepak Bola Inggris (FA). “Saya belum pernah berdiskusi dengan FA tentang masalah ini. Mereka hanya fokus pada aksi diving terkait pelanggaran pemain.” “Saya tahu kontak badan diperbolehkan di sini melebihi dari liga-liga lainnya, tapi tetap harus ada batasannya,” ucap Guardiola. Kebijakan melindungi pemain, Guardiola menambahkan, tak harus mengubah gaya permainan sarat fisik di kompetisi sepak bola Inggris. “Tentu ada batasnya ketika Anda sudah bertindak di luar batas dan itu berbahaya. Kami cukup beruntung karena di masa sebelumnya para pemain kami masih tetap bertahan.” “Kadang karena permainan sepak bola yang cepat hal itu [pelanggaran berbahaya] kerap terjadi dan mereka memang tak berniat mencelakai pemain lain. Tapi mereka tetap bisa cedera dalam waktu lama,” terang pelatih berkepala plontos itu. (bac)\"\n",
        "hasil = kalimat.translate(str.maketrans(\"\",\"\",string.punctuation))\n",
        "hasil"
      ]
    },
    {
      "cell_type": "markdown",
      "metadata": {
        "id": "payuVJTJkKnB"
      },
      "source": [
        "## Case Folding: Removing Whitespace ##\n",
        "Menghapus karakter kosong."
      ]
    },
    {
      "cell_type": "code",
      "execution_count": 5,
      "metadata": {
        "colab": {
          "base_uri": "https://localhost:8080/",
          "height": 105
        },
        "id": "td43O1zxkKnB",
        "outputId": "e445afb6-7b96-4002-d973-846d29d8cc12"
      },
      "outputs": [
        {
          "output_type": "execute_result",
          "data": {
            "text/plain": [
              "'Jakarta, CNN Indonesia -- Pep Guardiola akhirnya harus merasakan kesialan yang pernah dirasakan manajer-manajer klub lainnya musim ini. Ya, dua pemain Manchester City mengalami cedera saat ditahan imbang tanpa gol tim tuan rumah Crystal Palace di Stadion Selhurst Park, Minggu (31/12). Mereka adalah Gabriel Jesus dan Kevin De Bruyne. Jesus dipastikan bakal absen sekitar sebulan akibat cedera parah. Sedangkan De Bruyne diperkirakan absen hanya dalam dua laga ke ke depan. Guardiola mengaku cukup pusing dengan cedera yang dialami dua pemainnya di ManCity. Tak ayal, ia meminta wasit agar memberikan perlindungan yang lebih besar lagi kepada para pemain sehingga terhindar dari cedera. “Saya mengagumi permainan sarat fisik di Liga Primer Inggris, tapi para wasit seharusnya melindungi para pemain, bukan hanya para pemain bintang, tapi semua pemain,” ujar Guardiola dikutip dari BBC Pelatih asal Spanyol itu berpendapat, wasit seharusnya bisa meredam permainan kasar para pemain dengan keputusannya memberikan hukuman sepadan sehingga tak menekan kasus cedera para pemain. Kebijakan itu juga harus didukung Federasi Sepak Bola Inggris (FA). “Saya belum pernah berdiskusi dengan FA tentang masalah ini. Mereka hanya fokus pada aksi diving terkait pelanggaran pemain.” “Saya tahu kontak badan diperbolehkan di sini melebihi dari liga-liga lainnya, tapi tetap harus ada batasannya,” ucap Guardiola. Kebijakan melindungi pemain, Guardiola menambahkan, tak harus mengubah gaya permainan sarat fisik di kompetisi sepak bola Inggris. “Tentu ada batasnya ketika Anda sudah bertindak di luar batas dan itu berbahaya. Kami cukup beruntung karena di masa sebelumnya para pemain kami masih tetap bertahan.” “Kadang karena permainan sepak bola yang cepat hal itu [pelanggaran berbahaya] kerap terjadi dan mereka memang tak berniat mencelakai pemain lain. Tapi mereka tetap bisa cedera dalam waktu lama,” terang pelatih berkepala plontos itu. (bac)'"
            ],
            "application/vnd.google.colaboratory.intrinsic+json": {
              "type": "string"
            }
          },
          "metadata": {},
          "execution_count": 5
        }
      ],
      "source": [
        "kalimat = \" Jakarta, CNN Indonesia -- Pep Guardiola akhirnya harus merasakan kesialan yang pernah dirasakan manajer-manajer klub lainnya musim ini. Ya, dua pemain Manchester City mengalami cedera saat ditahan imbang tanpa gol tim tuan rumah Crystal Palace di Stadion Selhurst Park, Minggu (31/12). Mereka adalah Gabriel Jesus dan Kevin De Bruyne. Jesus dipastikan bakal absen sekitar sebulan akibat cedera parah. Sedangkan De Bruyne diperkirakan absen hanya dalam dua laga ke ke depan. Guardiola mengaku cukup pusing dengan cedera yang dialami dua pemainnya di ManCity. Tak ayal, ia meminta wasit agar memberikan perlindungan yang lebih besar lagi kepada para pemain sehingga terhindar dari cedera. “Saya mengagumi permainan sarat fisik di Liga Primer Inggris, tapi para wasit seharusnya melindungi para pemain, bukan hanya para pemain bintang, tapi semua pemain,” ujar Guardiola dikutip dari BBC Pelatih asal Spanyol itu berpendapat, wasit seharusnya bisa meredam permainan kasar para pemain dengan keputusannya memberikan hukuman sepadan sehingga tak menekan kasus cedera para pemain. Kebijakan itu juga harus didukung Federasi Sepak Bola Inggris (FA). “Saya belum pernah berdiskusi dengan FA tentang masalah ini. Mereka hanya fokus pada aksi diving terkait pelanggaran pemain.” “Saya tahu kontak badan diperbolehkan di sini melebihi dari liga-liga lainnya, tapi tetap harus ada batasannya,” ucap Guardiola. Kebijakan melindungi pemain, Guardiola menambahkan, tak harus mengubah gaya permainan sarat fisik di kompetisi sepak bola Inggris. “Tentu ada batasnya ketika Anda sudah bertindak di luar batas dan itu berbahaya. Kami cukup beruntung karena di masa sebelumnya para pemain kami masih tetap bertahan.” “Kadang karena permainan sepak bola yang cepat hal itu [pelanggaran berbahaya] kerap terjadi dan mereka memang tak berniat mencelakai pemain lain. Tapi mereka tetap bisa cedera dalam waktu lama,” terang pelatih berkepala plontos itu. (bac)\"\n",
        "hasil = kalimat.strip()\n",
        "\n",
        "hasil"
      ]
    },
    {
      "cell_type": "markdown",
      "metadata": {
        "id": "AKREdM3KkKnB"
      },
      "source": [
        "## Separating Sentences with Split () Method ##\n",
        "Fungsi `split()` memisahkan _string_ ke dalam _list_ dengan spasi sebagai pemisah jika tidak ditentukan pemisahnya.\n",
        "\n",
        "https://www.w3schools.com/python/ref_string_split.asp"
      ]
    },
    {
      "cell_type": "code",
      "execution_count": 6,
      "metadata": {
        "colab": {
          "base_uri": "https://localhost:8080/"
        },
        "id": "zoEa3oDokKnB",
        "outputId": "deb4199e-0684-48b9-eb85-d0255a2da6c9"
      },
      "outputs": [
        {
          "output_type": "execute_result",
          "data": {
            "text/plain": [
              "['Jakarta,',\n",
              " 'CNN',\n",
              " 'Indonesia',\n",
              " '--',\n",
              " 'Pep',\n",
              " 'Guardiola',\n",
              " 'akhirnya',\n",
              " 'harus',\n",
              " 'merasakan',\n",
              " 'kesialan',\n",
              " 'yang',\n",
              " 'pernah',\n",
              " 'dirasakan',\n",
              " 'manajer-manajer',\n",
              " 'klub',\n",
              " 'lainnya',\n",
              " 'musim',\n",
              " 'ini.',\n",
              " 'Ya,',\n",
              " 'dua',\n",
              " 'pemain',\n",
              " 'Manchester',\n",
              " 'City',\n",
              " 'mengalami',\n",
              " 'cedera',\n",
              " 'saat',\n",
              " 'ditahan',\n",
              " 'imbang',\n",
              " 'tanpa',\n",
              " 'gol',\n",
              " 'tim',\n",
              " 'tuan',\n",
              " 'rumah',\n",
              " 'Crystal',\n",
              " 'Palace',\n",
              " 'di',\n",
              " 'Stadion',\n",
              " 'Selhurst',\n",
              " 'Park,',\n",
              " 'Minggu',\n",
              " '(31/12).',\n",
              " 'Mereka',\n",
              " 'adalah',\n",
              " 'Gabriel',\n",
              " 'Jesus',\n",
              " 'dan',\n",
              " 'Kevin',\n",
              " 'De',\n",
              " 'Bruyne.',\n",
              " 'Jesus',\n",
              " 'dipastikan',\n",
              " 'bakal',\n",
              " 'absen',\n",
              " 'sekitar',\n",
              " 'sebulan',\n",
              " 'akibat',\n",
              " 'cedera',\n",
              " 'parah.',\n",
              " 'Sedangkan',\n",
              " 'De',\n",
              " 'Bruyne',\n",
              " 'diperkirakan',\n",
              " 'absen',\n",
              " 'hanya',\n",
              " 'dalam',\n",
              " 'dua',\n",
              " 'laga',\n",
              " 'ke',\n",
              " 'ke',\n",
              " 'depan.',\n",
              " 'Guardiola',\n",
              " 'mengaku',\n",
              " 'cukup',\n",
              " 'pusing',\n",
              " 'dengan',\n",
              " 'cedera',\n",
              " 'yang',\n",
              " 'dialami',\n",
              " 'dua',\n",
              " 'pemainnya',\n",
              " 'di',\n",
              " 'ManCity.',\n",
              " 'Tak',\n",
              " 'ayal,',\n",
              " 'ia',\n",
              " 'meminta',\n",
              " 'wasit',\n",
              " 'agar',\n",
              " 'memberikan',\n",
              " 'perlindungan',\n",
              " 'yang',\n",
              " 'lebih',\n",
              " 'besar',\n",
              " 'lagi',\n",
              " 'kepada',\n",
              " 'para',\n",
              " 'pemain',\n",
              " 'sehingga',\n",
              " 'terhindar',\n",
              " 'dari',\n",
              " 'cedera.',\n",
              " '“Saya',\n",
              " 'mengagumi',\n",
              " 'permainan',\n",
              " 'sarat',\n",
              " 'fisik',\n",
              " 'di',\n",
              " 'Liga',\n",
              " 'Primer',\n",
              " 'Inggris,',\n",
              " 'tapi',\n",
              " 'para',\n",
              " 'wasit',\n",
              " 'seharusnya',\n",
              " 'melindungi',\n",
              " 'para',\n",
              " 'pemain,',\n",
              " 'bukan',\n",
              " 'hanya',\n",
              " 'para',\n",
              " 'pemain',\n",
              " 'bintang,',\n",
              " 'tapi',\n",
              " 'semua',\n",
              " 'pemain,”',\n",
              " 'ujar',\n",
              " 'Guardiola',\n",
              " 'dikutip',\n",
              " 'dari',\n",
              " 'BBC',\n",
              " 'Pelatih',\n",
              " 'asal',\n",
              " 'Spanyol',\n",
              " 'itu',\n",
              " 'berpendapat,',\n",
              " 'wasit',\n",
              " 'seharusnya',\n",
              " 'bisa',\n",
              " 'meredam',\n",
              " 'permainan',\n",
              " 'kasar',\n",
              " 'para',\n",
              " 'pemain',\n",
              " 'dengan',\n",
              " 'keputusannya',\n",
              " 'memberikan',\n",
              " 'hukuman',\n",
              " 'sepadan',\n",
              " 'sehingga',\n",
              " 'tak',\n",
              " 'menekan',\n",
              " 'kasus',\n",
              " 'cedera',\n",
              " 'para',\n",
              " 'pemain.',\n",
              " 'Kebijakan',\n",
              " 'itu',\n",
              " 'juga',\n",
              " 'harus',\n",
              " 'didukung',\n",
              " 'Federasi',\n",
              " 'Sepak',\n",
              " 'Bola',\n",
              " 'Inggris',\n",
              " '(FA).',\n",
              " '“Saya',\n",
              " 'belum',\n",
              " 'pernah',\n",
              " 'berdiskusi',\n",
              " 'dengan',\n",
              " 'FA',\n",
              " 'tentang',\n",
              " 'masalah',\n",
              " 'ini.',\n",
              " 'Mereka',\n",
              " 'hanya',\n",
              " 'fokus',\n",
              " 'pada',\n",
              " 'aksi',\n",
              " 'diving',\n",
              " 'terkait',\n",
              " 'pelanggaran',\n",
              " 'pemain.”',\n",
              " '“Saya',\n",
              " 'tahu',\n",
              " 'kontak',\n",
              " 'badan',\n",
              " 'diperbolehkan',\n",
              " 'di',\n",
              " 'sini',\n",
              " 'melebihi',\n",
              " 'dari',\n",
              " 'liga-liga',\n",
              " 'lainnya,',\n",
              " 'tapi',\n",
              " 'tetap',\n",
              " 'harus',\n",
              " 'ada',\n",
              " 'batasannya,”',\n",
              " 'ucap',\n",
              " 'Guardiola.',\n",
              " 'Kebijakan',\n",
              " 'melindungi',\n",
              " 'pemain,',\n",
              " 'Guardiola',\n",
              " 'menambahkan,',\n",
              " 'tak',\n",
              " 'harus',\n",
              " 'mengubah',\n",
              " 'gaya',\n",
              " 'permainan',\n",
              " 'sarat',\n",
              " 'fisik',\n",
              " 'di',\n",
              " 'kompetisi',\n",
              " 'sepak',\n",
              " 'bola',\n",
              " 'Inggris.',\n",
              " '“Tentu',\n",
              " 'ada',\n",
              " 'batasnya',\n",
              " 'ketika',\n",
              " 'Anda',\n",
              " 'sudah',\n",
              " 'bertindak',\n",
              " 'di',\n",
              " 'luar',\n",
              " 'batas',\n",
              " 'dan',\n",
              " 'itu',\n",
              " 'berbahaya.',\n",
              " 'Kami',\n",
              " 'cukup',\n",
              " 'beruntung',\n",
              " 'karena',\n",
              " 'di',\n",
              " 'masa',\n",
              " 'sebelumnya',\n",
              " 'para',\n",
              " 'pemain',\n",
              " 'kami',\n",
              " 'masih',\n",
              " 'tetap',\n",
              " 'bertahan.”',\n",
              " '“Kadang',\n",
              " 'karena',\n",
              " 'permainan',\n",
              " 'sepak',\n",
              " 'bola',\n",
              " 'yang',\n",
              " 'cepat',\n",
              " 'hal',\n",
              " 'itu',\n",
              " '[pelanggaran',\n",
              " 'berbahaya]',\n",
              " 'kerap',\n",
              " 'terjadi',\n",
              " 'dan',\n",
              " 'mereka',\n",
              " 'memang',\n",
              " 'tak',\n",
              " 'berniat',\n",
              " 'mencelakai',\n",
              " 'pemain',\n",
              " 'lain.',\n",
              " 'Tapi',\n",
              " 'mereka',\n",
              " 'tetap',\n",
              " 'bisa',\n",
              " 'cedera',\n",
              " 'dalam',\n",
              " 'waktu',\n",
              " 'lama,”',\n",
              " 'terang',\n",
              " 'pelatih',\n",
              " 'berkepala',\n",
              " 'plontos',\n",
              " 'itu.',\n",
              " '(bac)']"
            ]
          },
          "metadata": {},
          "execution_count": 6
        }
      ],
      "source": [
        "kalimat = \"Jakarta, CNN Indonesia -- Pep Guardiola akhirnya harus merasakan kesialan yang pernah dirasakan manajer-manajer klub lainnya musim ini. Ya, dua pemain Manchester City mengalami cedera saat ditahan imbang tanpa gol tim tuan rumah Crystal Palace di Stadion Selhurst Park, Minggu (31/12). Mereka adalah Gabriel Jesus dan Kevin De Bruyne. Jesus dipastikan bakal absen sekitar sebulan akibat cedera parah. Sedangkan De Bruyne diperkirakan absen hanya dalam dua laga ke ke depan. Guardiola mengaku cukup pusing dengan cedera yang dialami dua pemainnya di ManCity. Tak ayal, ia meminta wasit agar memberikan perlindungan yang lebih besar lagi kepada para pemain sehingga terhindar dari cedera. “Saya mengagumi permainan sarat fisik di Liga Primer Inggris, tapi para wasit seharusnya melindungi para pemain, bukan hanya para pemain bintang, tapi semua pemain,” ujar Guardiola dikutip dari BBC Pelatih asal Spanyol itu berpendapat, wasit seharusnya bisa meredam permainan kasar para pemain dengan keputusannya memberikan hukuman sepadan sehingga tak menekan kasus cedera para pemain. Kebijakan itu juga harus didukung Federasi Sepak Bola Inggris (FA). “Saya belum pernah berdiskusi dengan FA tentang masalah ini. Mereka hanya fokus pada aksi diving terkait pelanggaran pemain.” “Saya tahu kontak badan diperbolehkan di sini melebihi dari liga-liga lainnya, tapi tetap harus ada batasannya,” ucap Guardiola. Kebijakan melindungi pemain, Guardiola menambahkan, tak harus mengubah gaya permainan sarat fisik di kompetisi sepak bola Inggris. “Tentu ada batasnya ketika Anda sudah bertindak di luar batas dan itu berbahaya. Kami cukup beruntung karena di masa sebelumnya para pemain kami masih tetap bertahan.” “Kadang karena permainan sepak bola yang cepat hal itu [pelanggaran berbahaya] kerap terjadi dan mereka memang tak berniat mencelakai pemain lain. Tapi mereka tetap bisa cedera dalam waktu lama,” terang pelatih berkepala plontos itu. (bac)\"\n",
        "pisah = kalimat.split()\n",
        "\n",
        "pisah"
      ]
    },
    {
      "cell_type": "code",
      "execution_count": 7,
      "metadata": {
        "id": "NJda7gtFkKnC",
        "colab": {
          "base_uri": "https://localhost:8080/"
        },
        "outputId": "b130c525-7b1b-493f-f509-e4f886698fe0"
      },
      "outputs": [
        {
          "output_type": "stream",
          "name": "stderr",
          "text": [
            "[nltk_data] Downloading package punkt to /root/nltk_data...\n",
            "[nltk_data]   Unzipping tokenizers/punkt.zip.\n"
          ]
        }
      ],
      "source": [
        "import nltk\n",
        "nltk.download('punkt')\n",
        "\n",
        "from nltk.tokenize import word_tokenize\n",
        "\n",
        "kalimat = \"Jakarta, CNN Indonesia -- Pep Guardiola akhirnya harus merasakan kesialan yang pernah dirasakan manajer-manajer klub lainnya musim ini. Ya, dua pemain Manchester City mengalami cedera saat ditahan imbang tanpa gol tim tuan rumah Crystal Palace di Stadion Selhurst Park, Minggu (31/12). Mereka adalah Gabriel Jesus dan Kevin De Bruyne. Jesus dipastikan bakal absen sekitar sebulan akibat cedera parah. Sedangkan De Bruyne diperkirakan absen hanya dalam dua laga ke ke depan. Guardiola mengaku cukup pusing dengan cedera yang dialami dua pemainnya di ManCity. Tak ayal, ia meminta wasit agar memberikan perlindungan yang lebih besar lagi kepada para pemain sehingga terhindar dari cedera. “Saya mengagumi permainan sarat fisik di Liga Primer Inggris, tapi para wasit seharusnya melindungi para pemain, bukan hanya para pemain bintang, tapi semua pemain,” ujar Guardiola dikutip dari BBC Pelatih asal Spanyol itu berpendapat, wasit seharusnya bisa meredam permainan kasar para pemain dengan keputusannya memberikan hukuman sepadan sehingga tak menekan kasus cedera para pemain. Kebijakan itu juga harus didukung Federasi Sepak Bola Inggris (FA). “Saya belum pernah berdiskusi dengan FA tentang masalah ini. Mereka hanya fokus pada aksi diving terkait pelanggaran pemain.” “Saya tahu kontak badan diperbolehkan di sini melebihi dari liga-liga lainnya, tapi tetap harus ada batasannya,” ucap Guardiola. Kebijakan melindungi pemain, Guardiola menambahkan, tak harus mengubah gaya permainan sarat fisik di kompetisi sepak bola Inggris. “Tentu ada batasnya ketika Anda sudah bertindak di luar batas dan itu berbahaya. Kami cukup beruntung karena di masa sebelumnya para pemain kami masih tetap bertahan.” “Kadang karena permainan sepak bola yang cepat hal itu [pelanggaran berbahaya] kerap terjadi dan mereka memang tak berniat mencelakai pemain lain. Tapi mereka tetap bisa cedera dalam waktu lama,” terang pelatih berkepala plontos itu. (bac)\"\n",
        "\n",
        "tokens = nltk.tokenize.word_tokenize(kalimat)"
      ]
    },
    {
      "cell_type": "markdown",
      "metadata": {
        "id": "vxketi4tkKnB"
      },
      "source": [
        "## Tokenizing: Word Tokenizing Using NLTK Module ##\n",
        "Menggunakan _library_ NLTK untuk memisahkan kata dalam sebuah kalimat.\n"
      ]
    },
    {
      "cell_type": "code",
      "execution_count": 8,
      "metadata": {
        "colab": {
          "base_uri": "https://localhost:8080/"
        },
        "id": "zotmmnAdkKnC",
        "outputId": "5fc8082a-faef-40a0-83ba-77594769b630"
      },
      "outputs": [
        {
          "output_type": "execute_result",
          "data": {
            "text/plain": [
              "['Jakarta',\n",
              " ',',\n",
              " 'CNN',\n",
              " 'Indonesia',\n",
              " '--',\n",
              " 'Pep',\n",
              " 'Guardiola',\n",
              " 'akhirnya',\n",
              " 'harus',\n",
              " 'merasakan',\n",
              " 'kesialan',\n",
              " 'yang',\n",
              " 'pernah',\n",
              " 'dirasakan',\n",
              " 'manajer-manajer',\n",
              " 'klub',\n",
              " 'lainnya',\n",
              " 'musim',\n",
              " 'ini',\n",
              " '.',\n",
              " 'Ya',\n",
              " ',',\n",
              " 'dua',\n",
              " 'pemain',\n",
              " 'Manchester',\n",
              " 'City',\n",
              " 'mengalami',\n",
              " 'cedera',\n",
              " 'saat',\n",
              " 'ditahan',\n",
              " 'imbang',\n",
              " 'tanpa',\n",
              " 'gol',\n",
              " 'tim',\n",
              " 'tuan',\n",
              " 'rumah',\n",
              " 'Crystal',\n",
              " 'Palace',\n",
              " 'di',\n",
              " 'Stadion',\n",
              " 'Selhurst',\n",
              " 'Park',\n",
              " ',',\n",
              " 'Minggu',\n",
              " '(',\n",
              " '31/12',\n",
              " ')',\n",
              " '.',\n",
              " 'Mereka',\n",
              " 'adalah',\n",
              " 'Gabriel',\n",
              " 'Jesus',\n",
              " 'dan',\n",
              " 'Kevin',\n",
              " 'De',\n",
              " 'Bruyne',\n",
              " '.',\n",
              " 'Jesus',\n",
              " 'dipastikan',\n",
              " 'bakal',\n",
              " 'absen',\n",
              " 'sekitar',\n",
              " 'sebulan',\n",
              " 'akibat',\n",
              " 'cedera',\n",
              " 'parah',\n",
              " '.',\n",
              " 'Sedangkan',\n",
              " 'De',\n",
              " 'Bruyne',\n",
              " 'diperkirakan',\n",
              " 'absen',\n",
              " 'hanya',\n",
              " 'dalam',\n",
              " 'dua',\n",
              " 'laga',\n",
              " 'ke',\n",
              " 'ke',\n",
              " 'depan',\n",
              " '.',\n",
              " 'Guardiola',\n",
              " 'mengaku',\n",
              " 'cukup',\n",
              " 'pusing',\n",
              " 'dengan',\n",
              " 'cedera',\n",
              " 'yang',\n",
              " 'dialami',\n",
              " 'dua',\n",
              " 'pemainnya',\n",
              " 'di',\n",
              " 'ManCity',\n",
              " '.',\n",
              " 'Tak',\n",
              " 'ayal',\n",
              " ',',\n",
              " 'ia',\n",
              " 'meminta',\n",
              " 'wasit',\n",
              " 'agar',\n",
              " 'memberikan',\n",
              " 'perlindungan',\n",
              " 'yang',\n",
              " 'lebih',\n",
              " 'besar',\n",
              " 'lagi',\n",
              " 'kepada',\n",
              " 'para',\n",
              " 'pemain',\n",
              " 'sehingga',\n",
              " 'terhindar',\n",
              " 'dari',\n",
              " 'cedera',\n",
              " '.',\n",
              " '“',\n",
              " 'Saya',\n",
              " 'mengagumi',\n",
              " 'permainan',\n",
              " 'sarat',\n",
              " 'fisik',\n",
              " 'di',\n",
              " 'Liga',\n",
              " 'Primer',\n",
              " 'Inggris',\n",
              " ',',\n",
              " 'tapi',\n",
              " 'para',\n",
              " 'wasit',\n",
              " 'seharusnya',\n",
              " 'melindungi',\n",
              " 'para',\n",
              " 'pemain',\n",
              " ',',\n",
              " 'bukan',\n",
              " 'hanya',\n",
              " 'para',\n",
              " 'pemain',\n",
              " 'bintang',\n",
              " ',',\n",
              " 'tapi',\n",
              " 'semua',\n",
              " 'pemain',\n",
              " ',',\n",
              " '”',\n",
              " 'ujar',\n",
              " 'Guardiola',\n",
              " 'dikutip',\n",
              " 'dari',\n",
              " 'BBC',\n",
              " 'Pelatih',\n",
              " 'asal',\n",
              " 'Spanyol',\n",
              " 'itu',\n",
              " 'berpendapat',\n",
              " ',',\n",
              " 'wasit',\n",
              " 'seharusnya',\n",
              " 'bisa',\n",
              " 'meredam',\n",
              " 'permainan',\n",
              " 'kasar',\n",
              " 'para',\n",
              " 'pemain',\n",
              " 'dengan',\n",
              " 'keputusannya',\n",
              " 'memberikan',\n",
              " 'hukuman',\n",
              " 'sepadan',\n",
              " 'sehingga',\n",
              " 'tak',\n",
              " 'menekan',\n",
              " 'kasus',\n",
              " 'cedera',\n",
              " 'para',\n",
              " 'pemain',\n",
              " '.',\n",
              " 'Kebijakan',\n",
              " 'itu',\n",
              " 'juga',\n",
              " 'harus',\n",
              " 'didukung',\n",
              " 'Federasi',\n",
              " 'Sepak',\n",
              " 'Bola',\n",
              " 'Inggris',\n",
              " '(',\n",
              " 'FA',\n",
              " ')',\n",
              " '.',\n",
              " '“',\n",
              " 'Saya',\n",
              " 'belum',\n",
              " 'pernah',\n",
              " 'berdiskusi',\n",
              " 'dengan',\n",
              " 'FA',\n",
              " 'tentang',\n",
              " 'masalah',\n",
              " 'ini',\n",
              " '.',\n",
              " 'Mereka',\n",
              " 'hanya',\n",
              " 'fokus',\n",
              " 'pada',\n",
              " 'aksi',\n",
              " 'diving',\n",
              " 'terkait',\n",
              " 'pelanggaran',\n",
              " 'pemain.',\n",
              " '”',\n",
              " '“',\n",
              " 'Saya',\n",
              " 'tahu',\n",
              " 'kontak',\n",
              " 'badan',\n",
              " 'diperbolehkan',\n",
              " 'di',\n",
              " 'sini',\n",
              " 'melebihi',\n",
              " 'dari',\n",
              " 'liga-liga',\n",
              " 'lainnya',\n",
              " ',',\n",
              " 'tapi',\n",
              " 'tetap',\n",
              " 'harus',\n",
              " 'ada',\n",
              " 'batasannya',\n",
              " ',',\n",
              " '”',\n",
              " 'ucap',\n",
              " 'Guardiola',\n",
              " '.',\n",
              " 'Kebijakan',\n",
              " 'melindungi',\n",
              " 'pemain',\n",
              " ',',\n",
              " 'Guardiola',\n",
              " 'menambahkan',\n",
              " ',',\n",
              " 'tak',\n",
              " 'harus',\n",
              " 'mengubah',\n",
              " 'gaya',\n",
              " 'permainan',\n",
              " 'sarat',\n",
              " 'fisik',\n",
              " 'di',\n",
              " 'kompetisi',\n",
              " 'sepak',\n",
              " 'bola',\n",
              " 'Inggris',\n",
              " '.',\n",
              " '“',\n",
              " 'Tentu',\n",
              " 'ada',\n",
              " 'batasnya',\n",
              " 'ketika',\n",
              " 'Anda',\n",
              " 'sudah',\n",
              " 'bertindak',\n",
              " 'di',\n",
              " 'luar',\n",
              " 'batas',\n",
              " 'dan',\n",
              " 'itu',\n",
              " 'berbahaya',\n",
              " '.',\n",
              " 'Kami',\n",
              " 'cukup',\n",
              " 'beruntung',\n",
              " 'karena',\n",
              " 'di',\n",
              " 'masa',\n",
              " 'sebelumnya',\n",
              " 'para',\n",
              " 'pemain',\n",
              " 'kami',\n",
              " 'masih',\n",
              " 'tetap',\n",
              " 'bertahan.',\n",
              " '”',\n",
              " '“',\n",
              " 'Kadang',\n",
              " 'karena',\n",
              " 'permainan',\n",
              " 'sepak',\n",
              " 'bola',\n",
              " 'yang',\n",
              " 'cepat',\n",
              " 'hal',\n",
              " 'itu',\n",
              " '[',\n",
              " 'pelanggaran',\n",
              " 'berbahaya',\n",
              " ']',\n",
              " 'kerap',\n",
              " 'terjadi',\n",
              " 'dan',\n",
              " 'mereka',\n",
              " 'memang',\n",
              " 'tak',\n",
              " 'berniat',\n",
              " 'mencelakai',\n",
              " 'pemain',\n",
              " 'lain',\n",
              " '.',\n",
              " 'Tapi',\n",
              " 'mereka',\n",
              " 'tetap',\n",
              " 'bisa',\n",
              " 'cedera',\n",
              " 'dalam',\n",
              " 'waktu',\n",
              " 'lama',\n",
              " ',',\n",
              " '”',\n",
              " 'terang',\n",
              " 'pelatih',\n",
              " 'berkepala',\n",
              " 'plontos',\n",
              " 'itu',\n",
              " '.',\n",
              " '(',\n",
              " 'bac',\n",
              " ')']"
            ]
          },
          "metadata": {},
          "execution_count": 8
        }
      ],
      "source": [
        "tokens"
      ]
    },
    {
      "cell_type": "markdown",
      "metadata": {
        "id": "-FdWxFFSkKnC"
      },
      "source": [
        "## Tokenizing with Case Folding ##\n",
        "Menggabungkan teknik _Case Foling_ dengan _Tokenizing_."
      ]
    },
    {
      "cell_type": "code",
      "execution_count": 9,
      "metadata": {
        "colab": {
          "base_uri": "https://localhost:8080/"
        },
        "id": "g_Z-YplMkKnC",
        "outputId": "7f958297-475c-45c8-a4e7-65e7861c458f"
      },
      "outputs": [
        {
          "output_type": "execute_result",
          "data": {
            "text/plain": [
              "['jakarta',\n",
              " 'cnn',\n",
              " 'indonesia',\n",
              " 'pep',\n",
              " 'guardiola',\n",
              " 'akhirnya',\n",
              " 'harus',\n",
              " 'merasakan',\n",
              " 'kesialan',\n",
              " 'yang',\n",
              " 'pernah',\n",
              " 'dirasakan',\n",
              " 'manajermanajer',\n",
              " 'klub',\n",
              " 'lainnya',\n",
              " 'musim',\n",
              " 'ini',\n",
              " 'ya',\n",
              " 'dua',\n",
              " 'pemain',\n",
              " 'manchester',\n",
              " 'city',\n",
              " 'mengalami',\n",
              " 'cedera',\n",
              " 'saat',\n",
              " 'ditahan',\n",
              " 'imbang',\n",
              " 'tanpa',\n",
              " 'gol',\n",
              " 'tim',\n",
              " 'tuan',\n",
              " 'rumah',\n",
              " 'crystal',\n",
              " 'palace',\n",
              " 'di',\n",
              " 'stadion',\n",
              " 'selhurst',\n",
              " 'park',\n",
              " 'minggu',\n",
              " '3112',\n",
              " 'mereka',\n",
              " 'adalah',\n",
              " 'gabriel',\n",
              " 'jesus',\n",
              " 'dan',\n",
              " 'kevin',\n",
              " 'de',\n",
              " 'bruyne',\n",
              " 'jesus',\n",
              " 'dipastikan',\n",
              " 'bakal',\n",
              " 'absen',\n",
              " 'sekitar',\n",
              " 'sebulan',\n",
              " 'akibat',\n",
              " 'cedera',\n",
              " 'parah',\n",
              " 'sedangkan',\n",
              " 'de',\n",
              " 'bruyne',\n",
              " 'diperkirakan',\n",
              " 'absen',\n",
              " 'hanya',\n",
              " 'dalam',\n",
              " 'dua',\n",
              " 'laga',\n",
              " 'ke',\n",
              " 'ke',\n",
              " 'depan',\n",
              " 'guardiola',\n",
              " 'mengaku',\n",
              " 'cukup',\n",
              " 'pusing',\n",
              " 'dengan',\n",
              " 'cedera',\n",
              " 'yang',\n",
              " 'dialami',\n",
              " 'dua',\n",
              " 'pemainnya',\n",
              " 'di',\n",
              " 'mancity',\n",
              " 'tak',\n",
              " 'ayal',\n",
              " 'ia',\n",
              " 'meminta',\n",
              " 'wasit',\n",
              " 'agar',\n",
              " 'memberikan',\n",
              " 'perlindungan',\n",
              " 'yang',\n",
              " 'lebih',\n",
              " 'besar',\n",
              " 'lagi',\n",
              " 'kepada',\n",
              " 'para',\n",
              " 'pemain',\n",
              " 'sehingga',\n",
              " 'terhindar',\n",
              " 'dari',\n",
              " 'cedera',\n",
              " '“',\n",
              " 'saya',\n",
              " 'mengagumi',\n",
              " 'permainan',\n",
              " 'sarat',\n",
              " 'fisik',\n",
              " 'di',\n",
              " 'liga',\n",
              " 'primer',\n",
              " 'inggris',\n",
              " 'tapi',\n",
              " 'para',\n",
              " 'wasit',\n",
              " 'seharusnya',\n",
              " 'melindungi',\n",
              " 'para',\n",
              " 'pemain',\n",
              " 'bukan',\n",
              " 'hanya',\n",
              " 'para',\n",
              " 'pemain',\n",
              " 'bintang',\n",
              " 'tapi',\n",
              " 'semua',\n",
              " 'pemain',\n",
              " '”',\n",
              " 'ujar',\n",
              " 'guardiola',\n",
              " 'dikutip',\n",
              " 'dari',\n",
              " 'bbc',\n",
              " 'pelatih',\n",
              " 'asal',\n",
              " 'spanyol',\n",
              " 'itu',\n",
              " 'berpendapat',\n",
              " 'wasit',\n",
              " 'seharusnya',\n",
              " 'bisa',\n",
              " 'meredam',\n",
              " 'permainan',\n",
              " 'kasar',\n",
              " 'para',\n",
              " 'pemain',\n",
              " 'dengan',\n",
              " 'keputusannya',\n",
              " 'memberikan',\n",
              " 'hukuman',\n",
              " 'sepadan',\n",
              " 'sehingga',\n",
              " 'tak',\n",
              " 'menekan',\n",
              " 'kasus',\n",
              " 'cedera',\n",
              " 'para',\n",
              " 'pemain',\n",
              " 'kebijakan',\n",
              " 'itu',\n",
              " 'juga',\n",
              " 'harus',\n",
              " 'didukung',\n",
              " 'federasi',\n",
              " 'sepak',\n",
              " 'bola',\n",
              " 'inggris',\n",
              " 'fa',\n",
              " '“',\n",
              " 'saya',\n",
              " 'belum',\n",
              " 'pernah',\n",
              " 'berdiskusi',\n",
              " 'dengan',\n",
              " 'fa',\n",
              " 'tentang',\n",
              " 'masalah',\n",
              " 'ini',\n",
              " 'mereka',\n",
              " 'hanya',\n",
              " 'fokus',\n",
              " 'pada',\n",
              " 'aksi',\n",
              " 'diving',\n",
              " 'terkait',\n",
              " 'pelanggaran',\n",
              " 'pemain',\n",
              " '”',\n",
              " '“',\n",
              " 'saya',\n",
              " 'tahu',\n",
              " 'kontak',\n",
              " 'badan',\n",
              " 'diperbolehkan',\n",
              " 'di',\n",
              " 'sini',\n",
              " 'melebihi',\n",
              " 'dari',\n",
              " 'ligaliga',\n",
              " 'lainnya',\n",
              " 'tapi',\n",
              " 'tetap',\n",
              " 'harus',\n",
              " 'ada',\n",
              " 'batasannya',\n",
              " '”',\n",
              " 'ucap',\n",
              " 'guardiola',\n",
              " 'kebijakan',\n",
              " 'melindungi',\n",
              " 'pemain',\n",
              " 'guardiola',\n",
              " 'menambahkan',\n",
              " 'tak',\n",
              " 'harus',\n",
              " 'mengubah',\n",
              " 'gaya',\n",
              " 'permainan',\n",
              " 'sarat',\n",
              " 'fisik',\n",
              " 'di',\n",
              " 'kompetisi',\n",
              " 'sepak',\n",
              " 'bola',\n",
              " 'inggris',\n",
              " '“',\n",
              " 'tentu',\n",
              " 'ada',\n",
              " 'batasnya',\n",
              " 'ketika',\n",
              " 'anda',\n",
              " 'sudah',\n",
              " 'bertindak',\n",
              " 'di',\n",
              " 'luar',\n",
              " 'batas',\n",
              " 'dan',\n",
              " 'itu',\n",
              " 'berbahaya',\n",
              " 'kami',\n",
              " 'cukup',\n",
              " 'beruntung',\n",
              " 'karena',\n",
              " 'di',\n",
              " 'masa',\n",
              " 'sebelumnya',\n",
              " 'para',\n",
              " 'pemain',\n",
              " 'kami',\n",
              " 'masih',\n",
              " 'tetap',\n",
              " 'bertahan',\n",
              " '”',\n",
              " '“',\n",
              " 'kadang',\n",
              " 'karena',\n",
              " 'permainan',\n",
              " 'sepak',\n",
              " 'bola',\n",
              " 'yang',\n",
              " 'cepat',\n",
              " 'hal',\n",
              " 'itu',\n",
              " 'pelanggaran',\n",
              " 'berbahaya',\n",
              " 'kerap',\n",
              " 'terjadi',\n",
              " 'dan',\n",
              " 'mereka',\n",
              " 'memang',\n",
              " 'tak',\n",
              " 'berniat',\n",
              " 'mencelakai',\n",
              " 'pemain',\n",
              " 'lain',\n",
              " 'tapi',\n",
              " 'mereka',\n",
              " 'tetap',\n",
              " 'bisa',\n",
              " 'cedera',\n",
              " 'dalam',\n",
              " 'waktu',\n",
              " 'lama',\n",
              " '”',\n",
              " 'terang',\n",
              " 'pelatih',\n",
              " 'berkepala',\n",
              " 'plontos',\n",
              " 'itu',\n",
              " 'bac']"
            ]
          },
          "metadata": {},
          "execution_count": 9
        }
      ],
      "source": [
        "from nltk.tokenize import word_tokenize\n",
        "\n",
        "kalimat = \"Jakarta, CNN Indonesia -- Pep Guardiola akhirnya harus merasakan kesialan yang pernah dirasakan manajer-manajer klub lainnya musim ini. Ya, dua pemain Manchester City mengalami cedera saat ditahan imbang tanpa gol tim tuan rumah Crystal Palace di Stadion Selhurst Park, Minggu (31/12). Mereka adalah Gabriel Jesus dan Kevin De Bruyne. Jesus dipastikan bakal absen sekitar sebulan akibat cedera parah. Sedangkan De Bruyne diperkirakan absen hanya dalam dua laga ke ke depan. Guardiola mengaku cukup pusing dengan cedera yang dialami dua pemainnya di ManCity. Tak ayal, ia meminta wasit agar memberikan perlindungan yang lebih besar lagi kepada para pemain sehingga terhindar dari cedera. “Saya mengagumi permainan sarat fisik di Liga Primer Inggris, tapi para wasit seharusnya melindungi para pemain, bukan hanya para pemain bintang, tapi semua pemain,” ujar Guardiola dikutip dari BBC Pelatih asal Spanyol itu berpendapat, wasit seharusnya bisa meredam permainan kasar para pemain dengan keputusannya memberikan hukuman sepadan sehingga tak menekan kasus cedera para pemain. Kebijakan itu juga harus didukung Federasi Sepak Bola Inggris (FA). “Saya belum pernah berdiskusi dengan FA tentang masalah ini. Mereka hanya fokus pada aksi diving terkait pelanggaran pemain.” “Saya tahu kontak badan diperbolehkan di sini melebihi dari liga-liga lainnya, tapi tetap harus ada batasannya,” ucap Guardiola. Kebijakan melindungi pemain, Guardiola menambahkan, tak harus mengubah gaya permainan sarat fisik di kompetisi sepak bola Inggris. “Tentu ada batasnya ketika Anda sudah bertindak di luar batas dan itu berbahaya. Kami cukup beruntung karena di masa sebelumnya para pemain kami masih tetap bertahan.” “Kadang karena permainan sepak bola yang cepat hal itu [pelanggaran berbahaya] kerap terjadi dan mereka memang tak berniat mencelakai pemain lain. Tapi mereka tetap bisa cedera dalam waktu lama,” terang pelatih berkepala plontos itu. (bac)\"\n",
        "kalimat = kalimat.translate(str.maketrans('','',string.punctuation)).lower()\n",
        "\n",
        "tokens = nltk.tokenize.word_tokenize(kalimat)\n",
        "\n",
        "tokens"
      ]
    },
    {
      "cell_type": "markdown",
      "metadata": {
        "id": "Pp4IxnMLkKnC"
      },
      "source": [
        "## Frequency Distribution ##\n",
        "Menghitung frekuensi kemunculan setiap tokens(kata) dalam teks."
      ]
    },
    {
      "cell_type": "code",
      "execution_count": 10,
      "metadata": {
        "colab": {
          "base_uri": "https://localhost:8080/"
        },
        "id": "OnS_jyu0kKnC",
        "outputId": "e28c5554-83ec-458b-b871-abdb416b37f3"
      },
      "outputs": [
        {
          "output_type": "stream",
          "name": "stdout",
          "text": [
            "[('pemain', 11), ('di', 7), ('para', 7), ('cedera', 6), ('guardiola', 5), ('“', 5), ('”', 5), ('itu', 5), ('harus', 4), ('yang', 4), ('mereka', 4), ('tak', 4), ('permainan', 4), ('tapi', 4), ('dua', 3), ('dan', 3), ('hanya', 3), ('dengan', 3), ('wasit', 3), ('dari', 3), ('saya', 3), ('inggris', 3), ('sepak', 3), ('bola', 3), ('tetap', 3), ('pernah', 2), ('lainnya', 2), ('ini', 2), ('jesus', 2), ('de', 2), ('bruyne', 2), ('absen', 2), ('dalam', 2), ('ke', 2), ('cukup', 2), ('memberikan', 2), ('sehingga', 2), ('sarat', 2), ('fisik', 2), ('seharusnya', 2), ('melindungi', 2), ('pelatih', 2), ('bisa', 2), ('kebijakan', 2), ('fa', 2), ('pelanggaran', 2), ('ada', 2), ('berbahaya', 2), ('kami', 2), ('karena', 2), ('jakarta', 1), ('cnn', 1), ('indonesia', 1), ('pep', 1), ('akhirnya', 1), ('merasakan', 1), ('kesialan', 1), ('dirasakan', 1), ('manajermanajer', 1), ('klub', 1), ('musim', 1), ('ya', 1), ('manchester', 1), ('city', 1), ('mengalami', 1), ('saat', 1), ('ditahan', 1), ('imbang', 1), ('tanpa', 1), ('gol', 1), ('tim', 1), ('tuan', 1), ('rumah', 1), ('crystal', 1), ('palace', 1), ('stadion', 1), ('selhurst', 1), ('park', 1), ('minggu', 1), ('3112', 1), ('adalah', 1), ('gabriel', 1), ('kevin', 1), ('dipastikan', 1), ('bakal', 1), ('sekitar', 1), ('sebulan', 1), ('akibat', 1), ('parah', 1), ('sedangkan', 1), ('diperkirakan', 1), ('laga', 1), ('depan', 1), ('mengaku', 1), ('pusing', 1), ('dialami', 1), ('pemainnya', 1), ('mancity', 1), ('ayal', 1), ('ia', 1), ('meminta', 1), ('agar', 1), ('perlindungan', 1), ('lebih', 1), ('besar', 1), ('lagi', 1), ('kepada', 1), ('terhindar', 1), ('mengagumi', 1), ('liga', 1), ('primer', 1), ('bukan', 1), ('bintang', 1), ('semua', 1), ('ujar', 1), ('dikutip', 1), ('bbc', 1), ('asal', 1), ('spanyol', 1), ('berpendapat', 1), ('meredam', 1), ('kasar', 1), ('keputusannya', 1), ('hukuman', 1), ('sepadan', 1), ('menekan', 1), ('kasus', 1), ('juga', 1), ('didukung', 1), ('federasi', 1), ('belum', 1), ('berdiskusi', 1), ('tentang', 1), ('masalah', 1), ('fokus', 1), ('pada', 1), ('aksi', 1), ('diving', 1), ('terkait', 1), ('tahu', 1), ('kontak', 1), ('badan', 1), ('diperbolehkan', 1), ('sini', 1), ('melebihi', 1), ('ligaliga', 1), ('batasannya', 1), ('ucap', 1), ('menambahkan', 1), ('mengubah', 1), ('gaya', 1), ('kompetisi', 1), ('tentu', 1), ('batasnya', 1), ('ketika', 1), ('anda', 1), ('sudah', 1), ('bertindak', 1), ('luar', 1), ('batas', 1), ('beruntung', 1), ('masa', 1), ('sebelumnya', 1), ('masih', 1), ('bertahan', 1), ('kadang', 1), ('cepat', 1), ('hal', 1), ('kerap', 1), ('terjadi', 1), ('memang', 1), ('berniat', 1), ('mencelakai', 1), ('lain', 1), ('waktu', 1), ('lama', 1), ('terang', 1), ('berkepala', 1), ('plontos', 1), ('bac', 1)]\n"
          ]
        }
      ],
      "source": [
        "from nltk.tokenize import word_tokenize\n",
        "from nltk.probability import FreqDist\n",
        "\n",
        "kalimat = \"Jakarta, CNN Indonesia -- Pep Guardiola akhirnya harus merasakan kesialan yang pernah dirasakan manajer-manajer klub lainnya musim ini. Ya, dua pemain Manchester City mengalami cedera saat ditahan imbang tanpa gol tim tuan rumah Crystal Palace di Stadion Selhurst Park, Minggu (31/12). Mereka adalah Gabriel Jesus dan Kevin De Bruyne. Jesus dipastikan bakal absen sekitar sebulan akibat cedera parah. Sedangkan De Bruyne diperkirakan absen hanya dalam dua laga ke ke depan. Guardiola mengaku cukup pusing dengan cedera yang dialami dua pemainnya di ManCity. Tak ayal, ia meminta wasit agar memberikan perlindungan yang lebih besar lagi kepada para pemain sehingga terhindar dari cedera. “Saya mengagumi permainan sarat fisik di Liga Primer Inggris, tapi para wasit seharusnya melindungi para pemain, bukan hanya para pemain bintang, tapi semua pemain,” ujar Guardiola dikutip dari BBC Pelatih asal Spanyol itu berpendapat, wasit seharusnya bisa meredam permainan kasar para pemain dengan keputusannya memberikan hukuman sepadan sehingga tak menekan kasus cedera para pemain. Kebijakan itu juga harus didukung Federasi Sepak Bola Inggris (FA). “Saya belum pernah berdiskusi dengan FA tentang masalah ini. Mereka hanya fokus pada aksi diving terkait pelanggaran pemain.” “Saya tahu kontak badan diperbolehkan di sini melebihi dari liga-liga lainnya, tapi tetap harus ada batasannya,” ucap Guardiola. Kebijakan melindungi pemain, Guardiola menambahkan, tak harus mengubah gaya permainan sarat fisik di kompetisi sepak bola Inggris. “Tentu ada batasnya ketika Anda sudah bertindak di luar batas dan itu berbahaya. Kami cukup beruntung karena di masa sebelumnya para pemain kami masih tetap bertahan.” “Kadang karena permainan sepak bola yang cepat hal itu [pelanggaran berbahaya] kerap terjadi dan mereka memang tak berniat mencelakai pemain lain. Tapi mereka tetap bisa cedera dalam waktu lama,” terang pelatih berkepala plontos itu. (bac)\"\n",
        "kalimat = kalimat.translate(str.maketrans('','',string.punctuation)).lower()\n",
        "\n",
        "tokens = nltk.tokenize.word_tokenize(kalimat)\n",
        "kemunculan = nltk.FreqDist(tokens)\n",
        "\n",
        "print(kemunculan.most_common())"
      ]
    },
    {
      "cell_type": "markdown",
      "metadata": {
        "id": "sy5LNruQkKnD"
      },
      "source": [
        "## Frequency Distribution Visualization with Matplotlib ##\n",
        "Untuk menggambarkan frekuensi kemunculan setiap tokens dapat menggunakan _library_ __matplotlib__ pada Python.\n",
        "\n",
        "https://matplotlib.org"
      ]
    },
    {
      "cell_type": "code",
      "execution_count": 11,
      "metadata": {
        "colab": {
          "base_uri": "https://localhost:8080/",
          "height": 510
        },
        "id": "u2xs4inXkKnD",
        "outputId": "ca564b03-3c58-41af-c9d1-6f66ede66def"
      },
      "outputs": [
        {
          "output_type": "display_data",
          "data": {
            "text/plain": [
              "<Figure size 640x480 with 1 Axes>"
            ],
            "image/png": "[encoded data removed]"
          },
          "metadata": {}
        }
      ],
      "source": [
        "import matplotlib.pyplot as plt\n",
        "\n",
        "kemunculan.plot(30, cumulative=False)\n",
        "\n",
        "plt.show()"
      ]
    },
    {
      "cell_type": "markdown",
      "metadata": {
        "id": "GAOkFnn0kKnD"
      },
      "source": [
        "## Tokenizing: Sentences Tokenizing Using NLTK Module ##\n",
        "Memisahkan kalimat dalam sebuah paragraf."
      ]
    },
    {
      "cell_type": "code",
      "execution_count": 12,
      "metadata": {
        "colab": {
          "base_uri": "https://localhost:8080/"
        },
        "id": "HRgoQ9bakKnD",
        "outputId": "3c44e7e3-282f-4ca4-8bd0-5401871b51ce"
      },
      "outputs": [
        {
          "output_type": "stream",
          "name": "stdout",
          "text": [
            "['Jakarta, CNN Indonesia -- Pep Guardiola akhirnya harus merasakan kesialan yang pernah dirasakan manajer-manajer klub lainnya musim ini.', 'Ya, dua pemain Manchester City mengalami cedera saat ditahan imbang tanpa gol tim tuan rumah Crystal Palace di Stadion Selhurst Park, Minggu (31/12).', 'Mereka adalah Gabriel Jesus dan Kevin De Bruyne.', 'Jesus dipastikan bakal absen sekitar sebulan akibat cedera parah.', 'Sedangkan De Bruyne diperkirakan absen hanya dalam dua laga ke ke depan.', 'Guardiola mengaku cukup pusing dengan cedera yang dialami dua pemainnya di ManCity.', 'Tak ayal, ia meminta wasit agar memberikan perlindungan yang lebih besar lagi kepada para pemain sehingga terhindar dari cedera.', '“Saya mengagumi permainan sarat fisik di Liga Primer Inggris, tapi para wasit seharusnya melindungi para pemain, bukan hanya para pemain bintang, tapi semua pemain,” ujar Guardiola dikutip dari BBC Pelatih asal Spanyol itu berpendapat, wasit seharusnya bisa meredam permainan kasar para pemain dengan keputusannya memberikan hukuman sepadan sehingga tak menekan kasus cedera para pemain.', 'Kebijakan itu juga harus didukung Federasi Sepak Bola Inggris (FA).', '“Saya belum pernah berdiskusi dengan FA tentang masalah ini.', 'Mereka hanya fokus pada aksi diving terkait pelanggaran pemain.” “Saya tahu kontak badan diperbolehkan di sini melebihi dari liga-liga lainnya, tapi tetap harus ada batasannya,” ucap Guardiola.', 'Kebijakan melindungi pemain, Guardiola menambahkan, tak harus mengubah gaya permainan sarat fisik di kompetisi sepak bola Inggris.', '“Tentu ada batasnya ketika Anda sudah bertindak di luar batas dan itu berbahaya.', 'Kami cukup beruntung karena di masa sebelumnya para pemain kami masih tetap bertahan.” “Kadang karena permainan sepak bola yang cepat hal itu [pelanggaran berbahaya] kerap terjadi dan mereka memang tak berniat mencelakai pemain lain.', 'Tapi mereka tetap bisa cedera dalam waktu lama,” terang pelatih berkepala plontos itu.', '(bac)']\n"
          ]
        }
      ],
      "source": [
        "from nltk.tokenize import sent_tokenize\n",
        "\n",
        "kalimat = \"Jakarta, CNN Indonesia -- Pep Guardiola akhirnya harus merasakan kesialan yang pernah dirasakan manajer-manajer klub lainnya musim ini. Ya, dua pemain Manchester City mengalami cedera saat ditahan imbang tanpa gol tim tuan rumah Crystal Palace di Stadion Selhurst Park, Minggu (31/12). Mereka adalah Gabriel Jesus dan Kevin De Bruyne. Jesus dipastikan bakal absen sekitar sebulan akibat cedera parah. Sedangkan De Bruyne diperkirakan absen hanya dalam dua laga ke ke depan. Guardiola mengaku cukup pusing dengan cedera yang dialami dua pemainnya di ManCity. Tak ayal, ia meminta wasit agar memberikan perlindungan yang lebih besar lagi kepada para pemain sehingga terhindar dari cedera. “Saya mengagumi permainan sarat fisik di Liga Primer Inggris, tapi para wasit seharusnya melindungi para pemain, bukan hanya para pemain bintang, tapi semua pemain,” ujar Guardiola dikutip dari BBC Pelatih asal Spanyol itu berpendapat, wasit seharusnya bisa meredam permainan kasar para pemain dengan keputusannya memberikan hukuman sepadan sehingga tak menekan kasus cedera para pemain. Kebijakan itu juga harus didukung Federasi Sepak Bola Inggris (FA). “Saya belum pernah berdiskusi dengan FA tentang masalah ini. Mereka hanya fokus pada aksi diving terkait pelanggaran pemain.” “Saya tahu kontak badan diperbolehkan di sini melebihi dari liga-liga lainnya, tapi tetap harus ada batasannya,” ucap Guardiola. Kebijakan melindungi pemain, Guardiola menambahkan, tak harus mengubah gaya permainan sarat fisik di kompetisi sepak bola Inggris. “Tentu ada batasnya ketika Anda sudah bertindak di luar batas dan itu berbahaya. Kami cukup beruntung karena di masa sebelumnya para pemain kami masih tetap bertahan.” “Kadang karena permainan sepak bola yang cepat hal itu [pelanggaran berbahaya] kerap terjadi dan mereka memang tak berniat mencelakai pemain lain. Tapi mereka tetap bisa cedera dalam waktu lama,” terang pelatih berkepala plontos itu. (bac)\"\n",
        "\n",
        "tokens = nltk.tokenize.sent_tokenize(kalimat)\n",
        "\n",
        "print(tokens)"
      ]
    },
    {
      "cell_type": "markdown",
      "metadata": {
        "id": "Inb-buFQkKnD"
      },
      "source": [
        "## Filtering using NLTK ##"
      ]
    },
    {
      "cell_type": "code",
      "execution_count": 13,
      "metadata": {
        "colab": {
          "base_uri": "https://localhost:8080/"
        },
        "id": "EEtW0nUpkKnD",
        "outputId": "dbe8ce17-6a3f-44eb-eee8-eb59806503d2"
      },
      "outputs": [
        {
          "output_type": "stream",
          "name": "stdout",
          "text": [
            "['jakarta', 'cnn', 'indonesia', 'pep', 'guardiola', 'merasakan', 'kesialan', 'dirasakan', 'manajermanajer', 'klub', 'musim', 'ya', 'pemain', 'manchester', 'city', 'mengalami', 'cedera', 'ditahan', 'imbang', 'gol', 'tim', 'tuan', 'rumah', 'crystal', 'palace', 'stadion', 'selhurst', 'park', 'minggu', '3112', 'gabriel', 'jesus', 'kevin', 'de', 'bruyne', 'jesus', 'absen', 'sebulan', 'akibat', 'cedera', 'parah', 'de', 'bruyne', 'absen', 'laga', 'guardiola', 'mengaku', 'pusing', 'cedera', 'dialami', 'pemainnya', 'mancity', 'ayal', 'wasit', 'perlindungan', 'pemain', 'terhindar', 'cedera', '“', 'mengagumi', 'permainan', 'sarat', 'fisik', 'liga', 'primer', 'inggris', 'wasit', 'melindungi', 'pemain', 'pemain', 'bintang', 'pemain', '”', 'guardiola', 'dikutip', 'bbc', 'pelatih', 'spanyol', 'berpendapat', 'wasit', 'meredam', 'permainan', 'kasar', 'pemain', 'keputusannya', 'hukuman', 'sepadan', 'menekan', 'cedera', 'pemain', 'kebijakan', 'didukung', 'federasi', 'sepak', 'bola', 'inggris', 'fa', '“', 'berdiskusi', 'fa', 'fokus', 'aksi', 'diving', 'terkait', 'pelanggaran', 'pemain', '”', '“', 'kontak', 'badan', 'diperbolehkan', 'melebihi', 'ligaliga', 'batasannya', '”', 'guardiola', 'kebijakan', 'melindungi', 'pemain', 'guardiola', 'mengubah', 'gaya', 'permainan', 'sarat', 'fisik', 'kompetisi', 'sepak', 'bola', 'inggris', '“', 'batasnya', 'bertindak', 'batas', 'berbahaya', 'beruntung', 'pemain', 'bertahan', '”', '“', 'kadang', 'permainan', 'sepak', 'bola', 'cepat', 'pelanggaran', 'berbahaya', 'kerap', 'berniat', 'mencelakai', 'pemain', 'cedera', '”', 'terang', 'pelatih', 'berkepala', 'plontos', 'bac']\n"
          ]
        },
        {
          "output_type": "stream",
          "name": "stderr",
          "text": [
            "[nltk_data] Downloading package stopwords to /root/nltk_data...\n",
            "[nltk_data]   Unzipping corpora/stopwords.zip.\n"
          ]
        }
      ],
      "source": [
        "import nltk\n",
        "nltk.download('stopwords')\n",
        "from nltk.tokenize import sent_tokenize, word_tokenize\n",
        "from nltk.corpus import stopwords\n",
        "\n",
        "kalimat = \"Jakarta, CNN Indonesia -- Pep Guardiola akhirnya harus merasakan kesialan yang pernah dirasakan manajer-manajer klub lainnya musim ini. Ya, dua pemain Manchester City mengalami cedera saat ditahan imbang tanpa gol tim tuan rumah Crystal Palace di Stadion Selhurst Park, Minggu (31/12). Mereka adalah Gabriel Jesus dan Kevin De Bruyne. Jesus dipastikan bakal absen sekitar sebulan akibat cedera parah. Sedangkan De Bruyne diperkirakan absen hanya dalam dua laga ke ke depan. Guardiola mengaku cukup pusing dengan cedera yang dialami dua pemainnya di ManCity. Tak ayal, ia meminta wasit agar memberikan perlindungan yang lebih besar lagi kepada para pemain sehingga terhindar dari cedera. “Saya mengagumi permainan sarat fisik di Liga Primer Inggris, tapi para wasit seharusnya melindungi para pemain, bukan hanya para pemain bintang, tapi semua pemain,” ujar Guardiola dikutip dari BBC Pelatih asal Spanyol itu berpendapat, wasit seharusnya bisa meredam permainan kasar para pemain dengan keputusannya memberikan hukuman sepadan sehingga tak menekan kasus cedera para pemain. Kebijakan itu juga harus didukung Federasi Sepak Bola Inggris (FA). “Saya belum pernah berdiskusi dengan FA tentang masalah ini. Mereka hanya fokus pada aksi diving terkait pelanggaran pemain.” “Saya tahu kontak badan diperbolehkan di sini melebihi dari liga-liga lainnya, tapi tetap harus ada batasannya,” ucap Guardiola. Kebijakan melindungi pemain, Guardiola menambahkan, tak harus mengubah gaya permainan sarat fisik di kompetisi sepak bola Inggris. “Tentu ada batasnya ketika Anda sudah bertindak di luar batas dan itu berbahaya. Kami cukup beruntung karena di masa sebelumnya para pemain kami masih tetap bertahan.” “Kadang karena permainan sepak bola yang cepat hal itu [pelanggaran berbahaya] kerap terjadi dan mereka memang tak berniat mencelakai pemain lain. Tapi mereka tetap bisa cedera dalam waktu lama,” terang pelatih berkepala plontos itu. (bac)\"\n",
        "kalimat = kalimat.translate(str.maketrans('','',string.punctuation)).lower()\n",
        "\n",
        "tokens = word_tokenize(kalimat)\n",
        "listStopword = set(stopwords.words('indonesian'))\n",
        "\n",
        "removed = []\n",
        "for t in tokens:\n",
        "    if t not in listStopword:\n",
        "        removed.append(t)\n",
        "\n",
        "print(removed)"
      ]
    },
    {
      "cell_type": "markdown",
      "metadata": {
        "id": "xIzupLQkkKnE"
      },
      "source": [
        "## Filtering using Sastrawi: Stopword List ##\n",
        "Melihat daftar _stopword_ pada Sastrawi."
      ]
    },
    {
      "cell_type": "code",
      "execution_count": 14,
      "metadata": {
        "colab": {
          "base_uri": "https://localhost:8080/"
        },
        "id": "WEZuDnvVkKnE",
        "outputId": "f4b3615c-8f6d-4885-ef15-11b50bad0f82"
      },
      "outputs": [
        {
          "output_type": "stream",
          "name": "stdout",
          "text": [
            "Collecting sastrawi\n",
            "  Downloading Sastrawi-1.0.1-py2.py3-none-any.whl (209 kB)\n",
            "\u001b[?25l     \u001b[90m━━━━━━━━━━━━━━━━━━━━━━━━━━━━━━━━━━━━━━━━\u001b[0m \u001b[32m0.0/209.7 kB\u001b[0m \u001b[31m?\u001b[0m eta \u001b[36m-:--:--\u001b[0m\r\u001b[2K     \u001b[91m━━━━━━━━━━━━━━━━━━━━━━\u001b[0m\u001b[91m╸\u001b[0m\u001b[90m━━━━━━━━━━━━━━━━\u001b[0m \u001b[32m122.9/209.7 kB\u001b[0m \u001b[31m3.4 MB/s\u001b[0m eta \u001b[36m0:00:01\u001b[0m\r\u001b[2K     \u001b[90m━━━━━━━━━━━━━━━━━━━━━━━━━━━━━━━━━━━━━━━\u001b[0m \u001b[32m209.7/209.7 kB\u001b[0m \u001b[31m3.7 MB/s\u001b[0m eta \u001b[36m0:00:00\u001b[0m\n",
            "\u001b[?25hInstalling collected packages: sastrawi\n",
            "Successfully installed sastrawi-1.0.1\n",
            "['jakarta', 'cnn', 'indonesia', 'pep', 'guardiola', 'akhirnya', 'merasakan', 'kesialan', 'pernah', 'dirasakan', 'manajermanajer', 'klub', 'lainnya', 'musim', 'ya', 'pemain', 'manchester', 'city', 'mengalami', 'cedera', 'ditahan', 'imbang', 'gol', 'tim', 'tuan', 'rumah', 'crystal', 'palace', 'stadion', 'selhurst', 'park', 'minggu', '3112', 'adalah', 'gabriel', 'jesus', 'kevin', 'de', 'bruyne', 'jesus', 'dipastikan', 'bakal', 'absen', 'sebulan', 'akibat', 'cedera', 'parah', 'de', 'bruyne', 'diperkirakan', 'absen', 'laga', 'ke', 'depan', 'guardiola', 'mengaku', 'cukup', 'pusing', 'cedera', 'dialami', 'pemainnya', 'mancity', 'tak', 'ayal', 'meminta', 'wasit', 'memberikan', 'perlindungan', 'lebih', 'besar', 'kepada', 'pemain', 'terhindar', 'cedera', '“', 'saya', 'mengagumi', 'permainan', 'sarat', 'fisik', 'liga', 'primer', 'inggris', 'wasit', 'melindungi', 'pemain', 'bukan', 'pemain', 'bintang', 'semua', 'pemain', '”', 'ujar', 'guardiola', 'dikutip', 'bbc', 'pelatih', 'asal', 'spanyol', 'berpendapat', 'wasit', 'meredam', 'permainan', 'kasar', 'pemain', 'keputusannya', 'memberikan', 'hukuman', 'sepadan', 'tak', 'menekan', 'kasus', 'cedera', 'para', 'pemain', 'kebijakan', 'juga', 'didukung', 'federasi', 'sepak', 'bola', 'inggris', 'fa', '“', 'saya', 'pernah', 'berdiskusi', 'fa', 'masalah', 'fokus', 'aksi', 'diving', 'terkait', 'pelanggaran', 'pemain', '”', '“', 'saya', 'tahu', 'kontak', 'badan', 'diperbolehkan', 'sini', 'melebihi', 'ligaliga', 'lainnya', 'tetap', 'batasannya', '”', 'ucap', 'guardiola', 'kebijakan', 'melindungi', 'pemain', 'guardiola', 'menambahkan', 'tak', 'mengubah', 'gaya', 'permainan', 'sarat', 'fisik', 'kompetisi', 'sepak', 'bola', 'inggris', '“', 'tentu', 'ada', 'batasnya', 'anda', 'bertindak', 'luar', 'batas', 'berbahaya', 'cukup', 'beruntung', 'di', 'masa', 'sebelumnya', 'para', 'pemain', 'masih', 'tetap', 'bertahan', '”', '“', 'kadang', 'permainan', 'sepak', 'bola', 'cepat', 'itu', 'pelanggaran', 'berbahaya', 'kerap', 'terjadi', 'mereka', 'memang', 'tak', 'berniat', 'mencelakai', 'pemain', 'tapi', 'mereka', 'tetap', 'bisa', 'cedera', 'dalam', 'waktu', 'lama', '”', 'terang', 'pelatih', 'berkepala', 'plontos', 'itu', 'bac']\n"
          ]
        }
      ],
      "source": [
        "!pip install sastrawi\n",
        "from Sastrawi.StopWordRemover.StopWordRemoverFactory import StopWordRemoverFactory\n",
        "from nltk.tokenize import word_tokenize\n",
        "\n",
        "factory = StopWordRemoverFactory()\n",
        "stopword = factory.create_stop_word_remover()\n",
        "\n",
        "kalimat = \"Jakarta, CNN Indonesia -- Pep Guardiola akhirnya harus merasakan kesialan yang pernah dirasakan manajer-manajer klub lainnya musim ini. Ya, dua pemain Manchester City mengalami cedera saat ditahan imbang tanpa gol tim tuan rumah Crystal Palace di Stadion Selhurst Park, Minggu (31/12). Mereka adalah Gabriel Jesus dan Kevin De Bruyne. Jesus dipastikan bakal absen sekitar sebulan akibat cedera parah. Sedangkan De Bruyne diperkirakan absen hanya dalam dua laga ke ke depan. Guardiola mengaku cukup pusing dengan cedera yang dialami dua pemainnya di ManCity. Tak ayal, ia meminta wasit agar memberikan perlindungan yang lebih besar lagi kepada para pemain sehingga terhindar dari cedera. “Saya mengagumi permainan sarat fisik di Liga Primer Inggris, tapi para wasit seharusnya melindungi para pemain, bukan hanya para pemain bintang, tapi semua pemain,” ujar Guardiola dikutip dari BBC Pelatih asal Spanyol itu berpendapat, wasit seharusnya bisa meredam permainan kasar para pemain dengan keputusannya memberikan hukuman sepadan sehingga tak menekan kasus cedera para pemain. Kebijakan itu juga harus didukung Federasi Sepak Bola Inggris (FA). “Saya belum pernah berdiskusi dengan FA tentang masalah ini. Mereka hanya fokus pada aksi diving terkait pelanggaran pemain.” “Saya tahu kontak badan diperbolehkan di sini melebihi dari liga-liga lainnya, tapi tetap harus ada batasannya,” ucap Guardiola. Kebijakan melindungi pemain, Guardiola menambahkan, tak harus mengubah gaya permainan sarat fisik di kompetisi sepak bola Inggris. “Tentu ada batasnya ketika Anda sudah bertindak di luar batas dan itu berbahaya. Kami cukup beruntung karena di masa sebelumnya para pemain kami masih tetap bertahan.” “Kadang karena permainan sepak bola yang cepat hal itu [pelanggaran berbahaya] kerap terjadi dan mereka memang tak berniat mencelakai pemain lain. Tapi mereka tetap bisa cedera dalam waktu lama,” terang pelatih berkepala plontos itu. (bac)\"\n",
        "kalimat = kalimat.translate(str.maketrans('','',string.punctuation)).lower()\n",
        "\n",
        "stop = stopword.remove(kalimat)\n",
        "tokens = nltk.tokenize.word_tokenize(stop)\n",
        "\n",
        "print(tokens)"
      ]
    },
    {
      "cell_type": "markdown",
      "metadata": {
        "id": "M09YuxehkKnE"
      },
      "source": [
        "## Filtering using Sastrawi ##"
      ]
    },
    {
      "cell_type": "code",
      "execution_count": 15,
      "metadata": {
        "colab": {
          "base_uri": "https://localhost:8080/"
        },
        "id": "Dsg64FZIkKnE",
        "outputId": "a3ea85bd-b89a-4d5e-93f6-26bf65f3168d"
      },
      "outputs": [
        {
          "output_type": "stream",
          "name": "stdout",
          "text": [
            "Requirement already satisfied: sastrawi in /usr/local/lib/python3.10/dist-packages (1.0.1)\n",
            "['jakarta', 'cnn', 'indonesia', 'pep', 'guardiola', 'akhirnya', 'merasakan', 'kesialan', 'pernah', 'dirasakan', 'manajermanajer', 'klub', 'lainnya', 'musim', 'ya', 'pemain', 'manchester', 'city', 'mengalami', 'cedera', 'ditahan', 'imbang', 'gol', 'tim', 'tuan', 'rumah', 'crystal', 'palace', 'stadion', 'selhurst', 'park', 'minggu', '3112', 'adalah', 'gabriel', 'jesus', 'kevin', 'de', 'bruyne', 'jesus', 'dipastikan', 'bakal', 'absen', 'sebulan', 'akibat', 'cedera', 'parah', 'de', 'bruyne', 'diperkirakan', 'absen', 'laga', 'ke', 'depan', 'guardiola', 'mengaku', 'cukup', 'pusing', 'cedera', 'dialami', 'pemainnya', 'mancity', 'tak', 'ayal', 'meminta', 'wasit', 'memberikan', 'perlindungan', 'lebih', 'besar', 'kepada', 'pemain', 'terhindar', 'cedera', '“', 'saya', 'mengagumi', 'permainan', 'sarat', 'fisik', 'liga', 'primer', 'inggris', 'wasit', 'melindungi', 'pemain', 'bukan', 'pemain', 'bintang', 'semua', 'pemain', '”', 'ujar', 'guardiola', 'dikutip', 'bbc', 'pelatih', 'asal', 'spanyol', 'berpendapat', 'wasit', 'meredam', 'permainan', 'kasar', 'pemain', 'keputusannya', 'memberikan', 'hukuman', 'sepadan', 'tak', 'menekan', 'kasus', 'cedera', 'para', 'pemain', 'kebijakan', 'juga', 'didukung', 'federasi', 'sepak', 'bola', 'inggris', 'fa', '“', 'saya', 'pernah', 'berdiskusi', 'fa', 'masalah', 'fokus', 'aksi', 'diving', 'terkait', 'pelanggaran', 'pemain', '”', '“', 'saya', 'tahu', 'kontak', 'badan', 'diperbolehkan', 'sini', 'melebihi', 'ligaliga', 'lainnya', 'tetap', 'batasannya', '”', 'ucap', 'guardiola', 'kebijakan', 'melindungi', 'pemain', 'guardiola', 'menambahkan', 'tak', 'mengubah', 'gaya', 'permainan', 'sarat', 'fisik', 'kompetisi', 'sepak', 'bola', 'inggris', '“', 'tentu', 'ada', 'batasnya', 'anda', 'bertindak', 'luar', 'batas', 'berbahaya', 'cukup', 'beruntung', 'di', 'masa', 'sebelumnya', 'para', 'pemain', 'masih', 'tetap', 'bertahan', '”', '“', 'kadang', 'permainan', 'sepak', 'bola', 'cepat', 'itu', 'pelanggaran', 'berbahaya', 'kerap', 'terjadi', 'mereka', 'memang', 'tak', 'berniat', 'mencelakai', 'pemain', 'tapi', 'mereka', 'tetap', 'bisa', 'cedera', 'dalam', 'waktu', 'lama', '”', 'terang', 'pelatih', 'berkepala', 'plontos', 'itu', 'bac']\n"
          ]
        }
      ],
      "source": [
        "!pip install sastrawi\n",
        "from Sastrawi.StopWordRemover.StopWordRemoverFactory import StopWordRemoverFactory\n",
        "from nltk.tokenize import word_tokenize\n",
        "\n",
        "factory = StopWordRemoverFactory()\n",
        "stopword = factory.create_stop_word_remover()\n",
        "\n",
        "kalimat = \"Jakarta, CNN Indonesia -- Pep Guardiola akhirnya harus merasakan kesialan yang pernah dirasakan manajer-manajer klub lainnya musim ini. Ya, dua pemain Manchester City mengalami cedera saat ditahan imbang tanpa gol tim tuan rumah Crystal Palace di Stadion Selhurst Park, Minggu (31/12). Mereka adalah Gabriel Jesus dan Kevin De Bruyne. Jesus dipastikan bakal absen sekitar sebulan akibat cedera parah. Sedangkan De Bruyne diperkirakan absen hanya dalam dua laga ke ke depan. Guardiola mengaku cukup pusing dengan cedera yang dialami dua pemainnya di ManCity. Tak ayal, ia meminta wasit agar memberikan perlindungan yang lebih besar lagi kepada para pemain sehingga terhindar dari cedera. “Saya mengagumi permainan sarat fisik di Liga Primer Inggris, tapi para wasit seharusnya melindungi para pemain, bukan hanya para pemain bintang, tapi semua pemain,” ujar Guardiola dikutip dari BBC Pelatih asal Spanyol itu berpendapat, wasit seharusnya bisa meredam permainan kasar para pemain dengan keputusannya memberikan hukuman sepadan sehingga tak menekan kasus cedera para pemain. Kebijakan itu juga harus didukung Federasi Sepak Bola Inggris (FA). “Saya belum pernah berdiskusi dengan FA tentang masalah ini. Mereka hanya fokus pada aksi diving terkait pelanggaran pemain.” “Saya tahu kontak badan diperbolehkan di sini melebihi dari liga-liga lainnya, tapi tetap harus ada batasannya,” ucap Guardiola. Kebijakan melindungi pemain, Guardiola menambahkan, tak harus mengubah gaya permainan sarat fisik di kompetisi sepak bola Inggris. “Tentu ada batasnya ketika Anda sudah bertindak di luar batas dan itu berbahaya. Kami cukup beruntung karena di masa sebelumnya para pemain kami masih tetap bertahan.” “Kadang karena permainan sepak bola yang cepat hal itu [pelanggaran berbahaya] kerap terjadi dan mereka memang tak berniat mencelakai pemain lain. Tapi mereka tetap bisa cedera dalam waktu lama,” terang pelatih berkepala plontos itu. (bac)\"\n",
        "kalimat = kalimat.translate(str.maketrans('','',string.punctuation)).lower()\n",
        "\n",
        "stop = stopword.remove(kalimat)\n",
        "tokens = nltk.tokenize.word_tokenize(stop)\n",
        "\n",
        "print(tokens)"
      ]
    },
    {
      "cell_type": "markdown",
      "metadata": {
        "id": "MkfGNUadkKnE"
      },
      "source": [
        "## Add Custom Stopword ##\n",
        "Menambahkan kata di _stopword_ untuk dihilangkan pada sebuah teks."
      ]
    },
    {
      "cell_type": "code",
      "execution_count": 16,
      "metadata": {
        "id": "j9NHF5BgkKnE",
        "colab": {
          "base_uri": "https://localhost:8080/"
        },
        "outputId": "15868cd0-e33a-48ff-ee79-b471a2ef40f6"
      },
      "outputs": [
        {
          "output_type": "stream",
          "name": "stdout",
          "text": [
            "['andi', 'kerap', 'melakukan', 'transaksi', 'rutin', 'daring', 'andi', 'belanja', 'online', 'lebih', 'praktis', 'murah']\n"
          ]
        }
      ],
      "source": [
        "from Sastrawi.StopWordRemover.StopWordRemoverFactory import StopWordRemoverFactory, StopWordRemover, ArrayDictionary\n",
        "from nltk.tokenize import word_tokenize\n",
        "\n",
        "# ambil stopword bawaan\n",
        "stop_factory = StopWordRemoverFactory().get_stop_words()\n",
        "more_stopword = ['daring', 'online']\n",
        "\n",
        "kalimat = \"Andi kerap melakukan transaksi rutin secara daring atau online. Menurut Andi belanja online lebih praktis & murah.\"\n",
        "kalimat = kalimat.translate(str.maketrans('','',string.punctuation)).lower()\n",
        "\n",
        "# menggabungkan stopword\n",
        "data = stop_factory + more_stopword\n",
        "\n",
        "dictionary = ArrayDictionary(data)\n",
        "str = StopWordRemover(dictionary)\n",
        "tokens = nltk.tokenize.word_tokenize(str.remove(kalimat))\n",
        "\n",
        "print(tokens)"
      ]
    },
    {
      "cell_type": "markdown",
      "metadata": {
        "id": "LJ8s8HfikKnE"
      },
      "source": [
        "## Stemming : Porter Stemming Algorithm using NLTK ##\n",
        "\n",
        "https://tartarus.org/martin/PorterStemmer/index-old.html"
      ]
    },
    {
      "cell_type": "code",
      "execution_count": 17,
      "metadata": {
        "colab": {
          "base_uri": "https://localhost:8080/"
        },
        "id": "6FeHjgMEkKnE",
        "outputId": "0e92902b-ad25-4c23-a0e8-1dadb1d892dd"
      },
      "outputs": [
        {
          "output_type": "stream",
          "name": "stdout",
          "text": [
            "program  :  program\n",
            "programs  :  program\n",
            "programer  :  program\n",
            "programing  :  program\n",
            "programers  :  program\n"
          ]
        }
      ],
      "source": [
        "from nltk.stem import PorterStemmer\n",
        "ps = PorterStemmer()\n",
        "\n",
        "kata = [\"program\", \"programs\", \"programer\", \"programing\", \"programers\"]\n",
        "\n",
        "for k in kata:\n",
        "    print(k, \" : \", ps.stem(k))"
      ]
    },
    {
      "cell_type": "markdown",
      "metadata": {
        "id": "lXFCPmKQkKnF"
      },
      "source": [
        "## Stemming Bahasa Indonesia using Sastrawi ##"
      ]
    },
    {
      "cell_type": "code",
      "execution_count": 18,
      "metadata": {
        "colab": {
          "base_uri": "https://localhost:8080/",
          "height": 105
        },
        "id": "dlOWfkfWkKnF",
        "outputId": "7e2179f4-7cc6-401e-ca47-5a3f992643f3"
      },
      "outputs": [
        {
          "output_type": "execute_result",
          "data": {
            "text/plain": [
              "'jakarta cnn indonesia -- pep guardiola akhir harus rasa sial yang pernah rasa manajer klub lain musim ini ya dua main manchester city alami cedera saat tahan imbang tanpa gol tim tuan rumah crystal palace di stadion selhurst park minggu 31 12 mereka adalah gabriel jesus dan kevin de bruyne jesus pasti bakal absen sekitar bulan akibat cedera parah sedang de bruyne kira absen hanya dalam dua laga ke ke depan guardiola aku cukup pusing dengan cedera yang alami dua main di mancity tak ayal ia minta wasit agar beri lindung yang lebih besar lagi kepada para main sehingga hindar dari cedera saya kagum main sarat fisik di liga primer inggris tapi para wasit harus lindung para main bukan hanya para main bintang tapi semua main ujar guardiola kutip dari bbc latih asal spanyol itu dapat wasit harus bisa redam main kasar para main dengan putus beri hukum padan sehingga tak tekan kasus cedera para main bijak itu juga harus dukung federasi sepak bola inggris fa saya belum pernah diskus dengan fa tentang masalah ini mereka hanya fokus pada aksi diving kait langgar main saya tahu kontak badan boleh di sini lebih dari liga lain tapi tetap harus ada batas ucap guardiola bijak lindung main guardiola tambah tak harus ubah gaya main sarat fisik di kompetisi sepak bola inggris tentu ada batas ketika anda sudah tindak di luar batas dan itu bahaya kami cukup untung karena di masa belum para main kami masih tetap tahan kadang karena main sepak bola yang cepat hal itu langgar bahaya kerap jadi dan mereka memang tak niat celaka main lain tapi mereka tetap bisa cedera dalam waktu lama terang latih kepala plontos itu bac'"
            ],
            "application/vnd.google.colaboratory.intrinsic+json": {
              "type": "string"
            }
          },
          "metadata": {},
          "execution_count": 18
        }
      ],
      "source": [
        "from Sastrawi.Stemmer.StemmerFactory import StemmerFactory\n",
        "factory = StemmerFactory()\n",
        "stemmer = factory.create_stemmer()\n",
        "\n",
        "kalimat = \"Jakarta, CNN Indonesia -- Pep Guardiola akhirnya harus merasakan kesialan yang pernah dirasakan manajer-manajer klub lainnya musim ini. Ya, dua pemain Manchester City mengalami cedera saat ditahan imbang tanpa gol tim tuan rumah Crystal Palace di Stadion Selhurst Park, Minggu (31/12). Mereka adalah Gabriel Jesus dan Kevin De Bruyne. Jesus dipastikan bakal absen sekitar sebulan akibat cedera parah. Sedangkan De Bruyne diperkirakan absen hanya dalam dua laga ke ke depan. Guardiola mengaku cukup pusing dengan cedera yang dialami dua pemainnya di ManCity. Tak ayal, ia meminta wasit agar memberikan perlindungan yang lebih besar lagi kepada para pemain sehingga terhindar dari cedera. “Saya mengagumi permainan sarat fisik di Liga Primer Inggris, tapi para wasit seharusnya melindungi para pemain, bukan hanya para pemain bintang, tapi semua pemain,” ujar Guardiola dikutip dari BBC Pelatih asal Spanyol itu berpendapat, wasit seharusnya bisa meredam permainan kasar para pemain dengan keputusannya memberikan hukuman sepadan sehingga tak menekan kasus cedera para pemain. Kebijakan itu juga harus didukung Federasi Sepak Bola Inggris (FA). “Saya belum pernah berdiskusi dengan FA tentang masalah ini. Mereka hanya fokus pada aksi diving terkait pelanggaran pemain.” “Saya tahu kontak badan diperbolehkan di sini melebihi dari liga-liga lainnya, tapi tetap harus ada batasannya,” ucap Guardiola. Kebijakan melindungi pemain, Guardiola menambahkan, tak harus mengubah gaya permainan sarat fisik di kompetisi sepak bola Inggris. “Tentu ada batasnya ketika Anda sudah bertindak di luar batas dan itu berbahaya. Kami cukup beruntung karena di masa sebelumnya para pemain kami masih tetap bertahan.” “Kadang karena permainan sepak bola yang cepat hal itu [pelanggaran berbahaya] kerap terjadi dan mereka memang tak berniat mencelakai pemain lain. Tapi mereka tetap bisa cedera dalam waktu lama,” terang pelatih berkepala plontos itu. (bac)\"\n",
        "\n",
        "hasil = stemmer.stem(kalimat)\n",
        "\n",
        "hasil\n"
      ]
    },
    {
      "cell_type": "markdown",
      "metadata": {
        "id": "_ixDtOBmkKnF"
      },
      "source": [
        "Referensi Artikel:\n",
        "\n",
        "https://medium.com/@ksnugroho/dasar-text-preprocessing-dengan-python-a4fa52608ffe"
      ]
    }
  ],
  "metadata": {
    "kernelspec": {
      "display_name": "Python 3 (ipykernel)",
      "language": "python",
      "name": "python3"
    },
    "language_info": {
      "codemirror_mode": {
        "name": "ipython",
        "version": 3
      },
      "file_extension": ".py",
      "mimetype": "text/x-python",
      "name": "python",
      "nbconvert_exporter": "python",
      "pygments_lexer": "ipython3",
      "version": "3.9.5"
    },
    "colab": {
      "provenance": []
    }
  },
  "nbformat": 4,
  "nbformat_minor": 0
}