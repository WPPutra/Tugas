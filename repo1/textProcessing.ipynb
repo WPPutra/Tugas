{
  "cells": [
    {
      "cell_type": "markdown",
      "source": [
        "Nama: Wisnu Permana Putra\n",
        "\n",
        "NIM: A11.2020.12598"
      ],
      "metadata": {
        "id": "-qCqqIhJCRlO"
      }
    },
    {
      "cell_type": "markdown",
      "metadata": {
        "id": "PKSBqh4OtdVe"
      },
      "source": [
        "### Mengenal String dalam Python\n",
        "Sebelum menggunakan library untuk text pre procesing, lebih baik jika mengenal type string dalam python."
      ]
    },
    {
      "cell_type": "code",
      "execution_count": null,
      "metadata": {
        "colab": {
          "base_uri": "https://localhost:8080/"
        },
        "id": "fMv8C6FYtdVg",
        "outputId": "6b94f689-a6e0-4707-a146-74356db08e81"
      },
      "outputs": [
        {
          "output_type": "stream",
          "name": "stdout",
          "text": [
            "1936\n"
          ]
        }
      ],
      "source": [
        "word = 'Jakarta, CNN Indonesia -- Pep Guardiola akhirnya harus merasakan kesialan yang pernah dirasakan manajer-manajer klub lainnya musim ini. Ya, dua pemain Manchester City mengalami cedera saat ditahan imbang tanpa gol tim tuan rumah Crystal Palace di Stadion Selhurst Park, Minggu (31/12). Mereka adalah Gabriel Jesus dan Kevin De Bruyne. Jesus dipastikan bakal absen sekitar sebulan akibat cedera parah. Sedangkan De Bruyne diperkirakan absen hanya dalam dua laga ke ke depan. Guardiola mengaku cukup pusing dengan cedera yang dialami dua pemainnya di ManCity. Tak ayal, ia meminta wasit agar memberikan perlindungan yang lebih besar lagi kepada para pemain sehingga terhindar dari cedera. “Saya mengagumi permainan sarat fisik di Liga Primer Inggris, tapi para wasit seharusnya melindungi para pemain, bukan hanya para pemain bintang, tapi semua pemain,” ujar Guardiola dikutip dari BBC Pelatih asal Spanyol itu berpendapat, wasit seharusnya bisa meredam permainan kasar para pemain dengan keputusannya memberikan hukuman sepadan sehingga tak menekan kasus cedera para pemain. Kebijakan itu juga harus didukung Federasi Sepak Bola Inggris (FA). “Saya belum pernah berdiskusi dengan FA tentang masalah ini. Mereka hanya fokus pada aksi diving terkait pelanggaran pemain.” “Saya tahu kontak badan diperbolehkan di sini melebihi dari liga-liga lainnya, tapi tetap harus ada batasannya,” ucap Guardiola. Kebijakan melindungi pemain, Guardiola menambahkan, tak harus mengubah gaya permainan sarat fisik di kompetisi sepak bola Inggris. “Tentu ada batasnya ketika Anda sudah bertindak di luar batas dan itu berbahaya. Kami cukup beruntung karena di masa sebelumnya para pemain kami masih tetap bertahan.” “Kadang karena permainan sepak bola yang cepat hal itu [pelanggaran berbahaya] kerap terjadi dan mereka memang tak berniat mencelakai pemain lain. Tapi mereka tetap bisa cedera dalam waktu lama,” terang pelatih berkepala plontos itu. (bac)'\n",
        "print(len(word))"
      ]
    },
    {
      "cell_type": "code",
      "execution_count": null,
      "metadata": {
        "colab": {
          "base_uri": "https://localhost:8080/"
        },
        "id": "4ivI5KottdVh",
        "outputId": "77359f8b-02b6-46f0-860a-fb4d23eb73da"
      },
      "outputs": [
        {
          "output_type": "stream",
          "name": "stdout",
          "text": [
            "6\n"
          ]
        }
      ],
      "source": [
        "multiline = '''1\n",
        "2\n",
        "3\n",
        "'''\n",
        "print(len(multiline))"
      ]
    },
    {
      "cell_type": "code",
      "execution_count": null,
      "metadata": {
        "colab": {
          "base_uri": "https://localhost:8080/"
        },
        "id": "1XCo2vrJtdVi",
        "outputId": "3d02c616-6f72-4d53-cfdc-30826392331b"
      },
      "outputs": [
        {
          "output_type": "stream",
          "name": "stdout",
          "text": [
            "12\n"
          ]
        }
      ],
      "source": [
        "str1 = '1'\n",
        "str2 = '2'\n",
        "\n",
        "print(str1 + str2)"
      ]
    },
    {
      "cell_type": "code",
      "execution_count": null,
      "metadata": {
        "colab": {
          "base_uri": "https://localhost:8080/"
        },
        "id": "q8WB9KgOtdVi",
        "outputId": "6ab0bd29-6e55-4199-c8e8-9fb84ffa7adc"
      },
      "outputs": [
        {
          "output_type": "stream",
          "name": "stdout",
          "text": [
            "97\n",
            "32\n",
            "65\n"
          ]
        }
      ],
      "source": [
        "ch1 = 'a'\n",
        "ch2 = ' ' #space\n",
        "ch3 = 'A'\n",
        "\n",
        "print(ord(ch1))\n",
        "print(ord(ch2))\n",
        "print(ord(ch3))"
      ]
    },
    {
      "cell_type": "code",
      "execution_count": null,
      "metadata": {
        "colab": {
          "base_uri": "https://localhost:8080/"
        },
        "id": "h9QQ8H8wtdVi",
        "outputId": "c99ef990-e0e8-450a-e87f-fbf1800dc255"
      },
      "outputs": [
        {
          "output_type": "stream",
          "name": "stdout",
          "text": [
            "E\n"
          ]
        }
      ],
      "source": [
        "print(chr(69))"
      ]
    },
    {
      "cell_type": "code",
      "execution_count": null,
      "metadata": {
        "colab": {
          "base_uri": "https://localhost:8080/"
        },
        "id": "o_az7-5UtdVi",
        "outputId": "68ff8b2a-0f28-4600-a28e-a6fe8779c662"
      },
      "outputs": [
        {
          "output_type": "stream",
          "name": "stdout",
          "text": [
            "Jkrt, CNN ndns -- Pp Grdl khrny hrs mrskn ksln yng prnh drskn mnjr-mnjr klb lnny msm n. Y, d pmn Mnchstr Cty mnglm cdr st dthn mbng tnp gl tm tn rmh Crystl Plc d Stdn Slhrst Prk, Mngg (31/12). Mrk dlh Gbrl Jss dn Kvn D Bryn. Jss dpstkn bkl bsn sktr sbln kbt cdr prh. Sdngkn D Bryn dprkrkn bsn hny dlm d lg k k dpn. Grdl mngk ckp psng dngn cdr yng dlm d pmnny d MnCty. Tk yl,  mmnt wst gr mmbrkn prlndngn yng lbh bsr lg kpd pr pmn shngg trhndr dr cdr. “Sy mnggm prmnn srt fsk d Lg Prmr nggrs, tp pr wst shrsny mlndng pr pmn, bkn hny pr pmn bntng, tp sm pmn,” jr Grdl dktp dr BBC Plth sl Spnyl t brpndpt, wst shrsny bs mrdm prmnn ksr pr pmn dngn kptsnny mmbrkn hkmn spdn shngg tk mnkn kss cdr pr pmn. Kbjkn t jg hrs ddkng Fdrs Spk Bl nggrs (F). “Sy blm prnh brdsks dngn F tntng mslh n. Mrk hny fks pd ks dvng trkt plnggrn pmn.” “Sy th kntk bdn dprblhkn d sn mlbh dr lg-lg lnny, tp ttp hrs d btsnny,” cp Grdl. Kbjkn mlndng pmn, Grdl mnmbhkn, tk hrs mngbh gy prmnn srt fsk d kmpts spk bl nggrs. “Tnt d btsny ktk nd sdh brtndk d lr bts dn t brbhy. Km ckp brntng krn d ms sblmny pr pmn km msh ttp brthn.” “Kdng krn prmnn spk bl yng cpt hl t [plnggrn brbhy] krp trjd dn mrk mmng tk brnt mnclk pmn ln. Tp mrk ttp bs cdr dlm wkt lm,” trng plth brkpl plnts t. (bc)"
          ]
        }
      ],
      "source": [
        "cthString=\"Jakarta, CNN Indonesia -- Pep Guardiola akhirnya harus merasakan kesialan yang pernah dirasakan manajer-manajer klub lainnya musim ini. Ya, dua pemain Manchester City mengalami cedera saat ditahan imbang tanpa gol tim tuan rumah Crystal Palace di Stadion Selhurst Park, Minggu (31/12). Mereka adalah Gabriel Jesus dan Kevin De Bruyne. Jesus dipastikan bakal absen sekitar sebulan akibat cedera parah. Sedangkan De Bruyne diperkirakan absen hanya dalam dua laga ke ke depan. Guardiola mengaku cukup pusing dengan cedera yang dialami dua pemainnya di ManCity. Tak ayal, ia meminta wasit agar memberikan perlindungan yang lebih besar lagi kepada para pemain sehingga terhindar dari cedera. “Saya mengagumi permainan sarat fisik di Liga Primer Inggris, tapi para wasit seharusnya melindungi para pemain, bukan hanya para pemain bintang, tapi semua pemain,” ujar Guardiola dikutip dari BBC Pelatih asal Spanyol itu berpendapat, wasit seharusnya bisa meredam permainan kasar para pemain dengan keputusannya memberikan hukuman sepadan sehingga tak menekan kasus cedera para pemain. Kebijakan itu juga harus didukung Federasi Sepak Bola Inggris (FA). “Saya belum pernah berdiskusi dengan FA tentang masalah ini. Mereka hanya fokus pada aksi diving terkait pelanggaran pemain.” “Saya tahu kontak badan diperbolehkan di sini melebihi dari liga-liga lainnya, tapi tetap harus ada batasannya,” ucap Guardiola. Kebijakan melindungi pemain, Guardiola menambahkan, tak harus mengubah gaya permainan sarat fisik di kompetisi sepak bola Inggris. “Tentu ada batasnya ketika Anda sudah bertindak di luar batas dan itu berbahaya. Kami cukup beruntung karena di masa sebelumnya para pemain kami masih tetap bertahan.” “Kadang karena permainan sepak bola yang cepat hal itu [pelanggaran berbahaya] kerap terjadi dan mereka memang tak berniat mencelakai pemain lain. Tapi mereka tetap bisa cedera dalam waktu lama,” terang pelatih berkepala plontos itu. (bac)\"\n",
        "vokal = ['a','i','u','e','o']\n",
        "\n",
        "for i in range(len(cthString)):\n",
        "    if cthString[i].lower() in vokal:\n",
        "        continue\n",
        "    print(cthString[i], end=\"\")"
      ]
    },
    {
      "cell_type": "code",
      "execution_count": null,
      "metadata": {
        "colab": {
          "base_uri": "https://localhost:8080/"
        },
        "id": "BYcNbVq-tdVi",
        "outputId": "1789c2d5-ba48-43de-b948-6b600451dd96"
      },
      "outputs": [
        {
          "output_type": "stream",
          "name": "stdout",
          "text": [
            "atCIna  rlknhsrkka gr aaaeaellnmmiauenns ynacradhina   nmCtPcianlsa g(1 eaaaee  ieu.sdsaa eeaeaktd aSnn ydra ea auakep rleku idaeanimuen Mi  lamasa bkpin gbbrgearenhgen id.amairnstsdiPenit assryedirenu yapiint uenu rliiaBPta n  pa,ssryimdpansp adaeunmeauaeaegtmkksd am.bkij uiuFr aoIr(.abmr dudaAngshieanfsdkdneiegaen“ahokddren ilhal-aiaatprabsy pao iaedim,aommk  uebg maa iimisklni“tdankknshrddubsnura ikbngr m enp ak ie tn“aknei aoy aatpnrbaae j  emnaeaelim namke ad aa atneiep n .a\n",
            "akar\n",
            "arta, CNN Indonesia -- Pep Guardiola akhirnya harus merasakan kesialan yang pernah dirasakan manajer-manajer klub lainnya musim ini. Ya, dua pemain Manchester City mengalami cedera saat ditahan imbang tanpa gol tim tuan rumah Crystal Palace di Stadion Selhurst Park, Minggu (31/12). Mereka adalah Gabriel Jesus dan Kevin De Bruyne. Jesus dipastikan bakal absen sekitar sebulan akibat cedera parah. Sedangkan De Bruyne diperkirakan absen hanya dalam dua laga ke ke depan. Guardiola mengaku cukup pusing dengan cedera yang dialami dua pemainnya di ManCity. Tak ayal, ia meminta wasit agar memberikan perlindungan yang lebih besar lagi kepada para pemain sehingga terhindar dari cedera. “Saya mengagumi permainan sarat fisik di Liga Primer Inggris, tapi para wasit seharusnya melindungi para pemain, bukan hanya para pemain bintang, tapi semua pemain,” ujar Guardiola dikutip dari BBC Pelatih asal Spanyol itu berpendapat, wasit seharusnya bisa meredam permainan kasar para pemain dengan keputusannya memberikan hukuman sepadan sehingga tak menekan kasus cedera para pemain. Kebijakan itu juga harus didukung Federasi Sepak Bola Inggris (FA). “Saya belum pernah berdiskusi dengan FA tentang masalah ini. Mereka hanya fokus pada aksi diving terkait pelanggaran pemain.” “Saya tahu kontak badan diperbolehkan di sini melebihi dari liga-liga lainnya, tapi tetap harus ada batasannya,” ucap Guardiola. Kebijakan melindungi pemain, Guardiola menambahkan, tak harus mengubah gaya permainan sarat fisik di kompetisi sepak bola Inggris. “Tentu ada batasnya ketika Anda sudah bertindak di luar batas dan itu berbahaya. Kami cukup beruntung karena di masa sebelumnya para pemain kami masih tetap bertahan.” “Kadang karena permainan sepak bola yang cepat hal itu [pelanggaran berbahaya] kerap terjadi dan mereka memang tak berniat mencelakai pemain lain. Tapi mereka tetap bisa cedera dalam waktu lama,” terang pelatih berkepala plontos itu. (bac)\n",
            "Jak\n",
            "Jkra N noei -PpGadoaahry au eaaa eilnyn enhdrsknmnjrmnjrku any ui n.Y,dapmi acetrCt eglm eeasa iaa magtnagltmta ua rsa aaed tdo ehrtPr,Mng 3/2.Mrk dlhGbilJssdnKvnD rye eu iatknbklasnsktrsblnaia eeaprh eaga eBun iekrknasnhnadlmdalg ek ea.Gadoamnauckppsn egncdr agdaaidapminad aCt.Tkaa,i eit ai grmmeia elnugnyn ei ea aikpd aapmi eigatridrdr eea Sy eggm emia aa ii iLg rmrIgrs aipr ai eaunamlnug aapmi,bknhnapr eanbnag aismapmi, jrGadoadktpdr B eai slSayliubredpt ai eaunabs eea emia aa aapmi egnkptsny ebrknhkmnspdnshng a eea au eeapr ean eiaa t uahrsddkn eeaiSpkBl ngi F) Sy eu enhbriks egnF etn aaa n.Mrk ay ou aaas iigtratplngrnpmi. Sy aukna aa ieblha isn eeiidr ialg any,tp ea au d aaana”ua uril.Kbjknmlnug ean uril eabha,tkhrsmnua aaprannsrtfskd opts ea oaIgrs Tnuaabtsy eiaAd ua etna ila aa a t ebhy.Km uu eutn aead aasblmy aapmi aimshttpbraa. Kdn aeaprannspkbl agcpthliu[eagaa ebhy]krptraidnmrk eagtkbritmneaa eanli.Tp eeattpbs eeadlmwkulm, eagplthbreaapotsiu bc\n"
          ]
        }
      ],
      "source": [
        "cthSlice = \"Jakarta, CNN Indonesia -- Pep Guardiola akhirnya harus merasakan kesialan yang pernah dirasakan manajer-manajer klub lainnya musim ini. Ya, dua pemain Manchester City mengalami cedera saat ditahan imbang tanpa gol tim tuan rumah Crystal Palace di Stadion Selhurst Park, Minggu (31/12). Mereka adalah Gabriel Jesus dan Kevin De Bruyne. Jesus dipastikan bakal absen sekitar sebulan akibat cedera parah. Sedangkan De Bruyne diperkirakan absen hanya dalam dua laga ke ke depan. Guardiola mengaku cukup pusing dengan cedera yang dialami dua pemainnya di ManCity. Tak ayal, ia meminta wasit agar memberikan perlindungan yang lebih besar lagi kepada para pemain sehingga terhindar dari cedera. “Saya mengagumi permainan sarat fisik di Liga Primer Inggris, tapi para wasit seharusnya melindungi para pemain, bukan hanya para pemain bintang, tapi semua pemain,” ujar Guardiola dikutip dari BBC Pelatih asal Spanyol itu berpendapat, wasit seharusnya bisa meredam permainan kasar para pemain dengan keputusannya memberikan hukuman sepadan sehingga tak menekan kasus cedera para pemain. Kebijakan itu juga harus didukung Federasi Sepak Bola Inggris (FA). “Saya belum pernah berdiskusi dengan FA tentang masalah ini. Mereka hanya fokus pada aksi diving terkait pelanggaran pemain.” “Saya tahu kontak badan diperbolehkan di sini melebihi dari liga-liga lainnya, tapi tetap harus ada batasannya,” ucap Guardiola. Kebijakan melindungi pemain, Guardiola menambahkan, tak harus mengubah gaya permainan sarat fisik di kompetisi sepak bola Inggris. “Tentu ada batasnya ketika Anda sudah bertindak di luar batas dan itu berbahaya. Kami cukup beruntung karena di masa sebelumnya para pemain kami masih tetap bertahan.” “Kadang karena permainan sepak bola yang cepat hal itu [pelanggaran berbahaya] kerap terjadi dan mereka memang tak berniat mencelakai pemain lain. Tapi mereka tetap bisa cedera dalam waktu lama,” terang pelatih berkepala plontos itu. (bac)\"\n",
        "\n",
        "print(cthSlice[1::4])\n",
        "print(cthSlice[1:5])\n",
        "print(cthSlice[3:])\n",
        "print(cthSlice[:3])\n",
        "print(cthSlice[::2])"
      ]
    },
    {
      "cell_type": "code",
      "execution_count": null,
      "metadata": {
        "colab": {
          "base_uri": "https://localhost:8080/",
          "height": 227
        },
        "id": "W03DZNJItdVj",
        "outputId": "77aa8276-24c9-4d9f-d97b-e47d9839b658"
      },
      "outputs": [
        {
          "output_type": "stream",
          "name": "stdout",
          "text": [
            "b\n"
          ]
        },
        {
          "output_type": "error",
          "ename": "TypeError",
          "evalue": "ignored",
          "traceback": [
            "\u001b[0;31m---------------------------------------------------------------------------\u001b[0m",
            "\u001b[0;31mTypeError\u001b[0m                                 Traceback (most recent call last)",
            "\u001b[0;32m<ipython-input-12-8cb3fb4d0294>\u001b[0m in \u001b[0;36m<cell line: 4>\u001b[0;34m()\u001b[0m\n\u001b[1;32m      2\u001b[0m \u001b[0;34m\u001b[0m\u001b[0m\n\u001b[1;32m      3\u001b[0m \u001b[0mprint\u001b[0m\u001b[0;34m(\u001b[0m\u001b[0malphabet\u001b[0m\u001b[0;34m[\u001b[0m\u001b[0;36m1\u001b[0m\u001b[0;34m]\u001b[0m\u001b[0;34m)\u001b[0m\u001b[0;34m\u001b[0m\u001b[0;34m\u001b[0m\u001b[0m\n\u001b[0;32m----> 4\u001b[0;31m \u001b[0;32mdel\u001b[0m \u001b[0malphabet\u001b[0m\u001b[0;34m[\u001b[0m\u001b[0;36m0\u001b[0m\u001b[0;34m]\u001b[0m\u001b[0;34m\u001b[0m\u001b[0;34m\u001b[0m\u001b[0m\n\u001b[0m",
            "\u001b[0;31mTypeError\u001b[0m: 'str' object doesn't support item deletion"
          ]
        }
      ],
      "source": [
        "alphabet = 'abcdefghijklmnopqrstuvwxyz'\n",
        "\n",
        "print(alphabet[1])\n",
        "del alphabet[0]"
      ]
    },
    {
      "cell_type": "code",
      "execution_count": null,
      "metadata": {
        "id": "pMJEvGh6tdVj"
      },
      "outputs": [],
      "source": [
        "alphabet.insert(\"A\")"
      ]
    },
    {
      "cell_type": "code",
      "execution_count": null,
      "metadata": {
        "colab": {
          "base_uri": "https://localhost:8080/"
        },
        "id": "cg3BzM5mtdVj",
        "outputId": "045b0730-c58f-4e4c-c827-dd0b192120eb"
      },
      "outputs": [
        {
          "output_type": "stream",
          "name": "stdout",
          "text": [
            "A\n"
          ]
        }
      ],
      "source": [
        "print(min(\"aAbByYzZ\"))"
      ]
    },
    {
      "cell_type": "code",
      "execution_count": null,
      "metadata": {
        "colab": {
          "base_uri": "https://localhost:8080/"
        },
        "id": "qWFT4Xj-tdVj",
        "outputId": "c9450eaf-35c6-43ee-c13b-ce6e7ae02a58"
      },
      "outputs": [
        {
          "output_type": "stream",
          "name": "stdout",
          "text": [
            "3\n"
          ]
        }
      ],
      "source": [
        "t = \"theta\"\n",
        "print(t.find('ta'))"
      ]
    },
    {
      "cell_type": "code",
      "execution_count": null,
      "metadata": {
        "id": "Ec51rR-qtdVj"
      },
      "outputs": [],
      "source": [
        "txt = \"\"\"Jakarta, CNN Indonesia -- Pep Guardiola akhirnya harus merasakan kesialan yang pernah dirasakan manajer-manajer\n",
        " klub lainnya musim ini. Ya, dua pemain Manchester City mengalami cedera saat ditahan imbang tanpa gol tim tuan\n",
        " rumah Crystal Palace di Stadion Selhurst Park, Minggu (31/12). Mereka adalah Gabriel Jesus dan Kevin De Bruyne.\n",
        " Jesus dipastikan bakal absen sekitar sebulan akibat cedera parah. Sedangkan De Bruyne diperkirakan absen hanya\n",
        " dalam dua laga ke ke depan. Guardiola mengaku cukup pusing dengan cedera yang dialami dua pemainnya di ManCity.\n",
        " Tak ayal, ia meminta wasit agar memberikan perlindungan yang lebih besar lagi kepada para pemain sehingga terhindar\n",
        " dari cedera. “Saya mengagumi permainan sarat fisik di Liga Primer Inggris, tapi para wasit seharusnya melindungi para pemain,\n",
        " bukan hanya para pemain bintang, tapi semua pemain,” ujar Guardiola dikutip dari BBC Pelatih asal Spanyol itu berpendapat,\n",
        " wasit seharusnya bisa meredam permainan kasar para pemain dengan keputusannya memberikan hukuman sepadan sehingga tak menekan kasus\n",
        " cedera para pemain. Kebijakan itu juga harus didukung Federasi Sepak Bola Inggris (FA). “Saya belum pernah berdiskusi dengan FA tentang\n",
        " masalah ini. Mereka hanya fokus pada aksi diving terkait pelanggaran pemain.” “Saya tahu kontak badan diperbolehkan di sini melebihi dari\n",
        " liga-liga lainnya, tapi tetap harus ada batasannya,” ucap Guardiola. Kebijakan melindungi pemain, Guardiola menambahkan, tak harus mengubah\n",
        " gaya permainan sarat fisik di kompetisi sepak bola Inggris. “Tentu ada batasnya ketika Anda sudah bertindak di luar batas dan itu berbahaya. Kami\n",
        " cukup beruntung karena di masa sebelumnya para pemain kami masih tetap bertahan.” “Kadang karena permainan sepak bola yang cepat hal itu [pelanggaran berbahaya]\n",
        " kerap terjadi dan mereka memang tak berniat mencelakai pemain lain. Tapi mereka tetap bisa cedera dalam waktu lama,” terang pelatih berkepala plontos itu. (bac)\"\"\"\n",
        "\n",
        "fnd = txt.find('the')\n",
        "while fnd != -1:\n",
        "    print(fnd)\n",
        "    fnd = txt.find('the', fnd + 1)"
      ]
    },
    {
      "cell_type": "markdown",
      "metadata": {
        "id": "ZAbUg_HotdVk"
      },
      "source": [
        "#### 1. Some of the methods offered by strings are:\n",
        "\n",
        "- `capitalize()` – changes all string letters to capitals;\n",
        "- `center()` – centers the string inside the field of a known length;\n",
        "- `count()` – counts the occurrences of a given character;\n",
        "- `join()` – joins all items of a tuple/list into one string;\n",
        "- `lower()` – converts all the string's letters into lower-case letters;\n",
        "- `lstrip()` – removes the white characters from the beginning of the string;\n",
        "- `replace()` – replaces a given substring with another;\n",
        "- `rfind()` – finds a substring starting from the end of the string;\n",
        "- `rstrip()` – removes the trailing white spaces from the end of the string;\n",
        "- `split()` – splits the string into a substring using a given delimiter;\n",
        "- `strip()` – removes the leading and trailing white spaces;\n",
        "- `swapcase()` – swaps the letters' cases (lower to upper and vice versa)\n",
        "- `title()` – makes the first letter in each word upper-case;\n",
        "- `upper()` – converts all the string's letter into upper-case letters.\n",
        "\n",
        "#### 2. String content can be determined using the following methods (all of them return Boolean values):\n",
        "\n",
        "- `endswith()` – does the string end with a given substring?\n",
        "- `isalnum()` – does the string consist only of letters and digits?\n",
        "- `isalpha()` – does the string consist only of letters?\n",
        "- `islower()` – does the string consists only of lower-case letters?\n",
        "- `isspace()` – does the string consists only of white spaces?\n",
        "- `isupper()` – does the string consists only of upper-case letters?\n",
        "- `startswith()` – does the string begin with a given substring?"
      ]
    },
    {
      "cell_type": "markdown",
      "metadata": {
        "id": "z7BbtSMPtdVk"
      },
      "source": [
        "# Table of contents\n",
        "- [Cleaning Words](#cleaning-words)\n",
        "    - [import library](#import-library)\n",
        "    - [remove tab new line and back slice](#remove-tab-new-line-and-back-slice)\n",
        "    - [remove non ASCII emoticon chinese word](#remove-non-ASCII-emoticon-chinese-word)\n",
        "    - [remove mention link hashtag](#remove-mention-link-hashtag)\n",
        "    - [remove RT](#remove-rt)\n",
        "    - [lower](#lower)\n",
        "    - [remove incomplete url](#remove-incomplete-url)\n",
        "    - [remove number](#remove-number)\n",
        "    - [remove whitespace leading and trailing](#remove-whitespace-leading-and-trailing)\n",
        "    - [remove multiple whitespace into single whitespace](#remove-multiple-whitespace-into-single-whitespace)\n",
        "    - [remove single char](#remove-single-char)\n",
        "    - [remove excessive dot](#remove-excessive-dot)\n",
        "    - [remove punctuation](#remove-punctuation)\n",
        "    - [remove excessive whitespace](#remove-excessive-whitespace)"
      ]
    },
    {
      "cell_type": "markdown",
      "metadata": {
        "id": "vbmNaELqtdVk"
      },
      "source": [
        "# Cleaning Words <a name=\"cleaning-words\"></a>\n",
        "\n",
        "asumsikan kita sudah mendapat data dari twitter, kemudian kita ingin membersihkan datanya. Maka, kita bisa menggunakan `regular expression`\n",
        "\n",
        "sebagai contoh:\n",
        "\n",
        "`RT : @alzami1986 suka menonton Attack on Titans! (進撃の巨人) #aot  setiap kamis pukul 21.00 di http://netflix.com/aot . \\\\n meski tidak suka kekerasan, tapi cukup menikmati ?! #EldiaHarusMenang melawan #Marley  A ... `"
      ]
    },
    {
      "cell_type": "code",
      "execution_count": 2,
      "metadata": {
        "id": "Sud3LaOutdVk"
      },
      "outputs": [],
      "source": [
        "text = 'Jakarta, CNN Indonesia -- Pep Guardiola akhirnya harus merasakan kesialan yang pernah dirasakan manajer-manajer klub lainnya musim ini. Ya, dua pemain Manchester City mengalami cedera saat ditahan imbang tanpa gol tim tuan rumah Crystal Palace di Stadion Selhurst Park, Minggu (31/12). Mereka adalah Gabriel Jesus dan Kevin De Bruyne. Jesus dipastikan bakal absen sekitar sebulan akibat cedera parah. Sedangkan De Bruyne diperkirakan absen hanya dalam dua laga ke ke depan. Guardiola mengaku cukup pusing dengan cedera yang dialami dua pemainnya di ManCity. Tak ayal, ia meminta wasit agar memberikan perlindungan yang lebih besar lagi kepada para pemain sehingga terhindar dari cedera. “Saya mengagumi permainan sarat fisik di Liga Primer Inggris, tapi para wasit seharusnya melindungi para pemain, bukan hanya para pemain bintang, tapi semua pemain,” ujar Guardiola dikutip dari BBC Pelatih asal Spanyol itu berpendapat, wasit seharusnya bisa meredam permainan kasar para pemain dengan keputusannya memberikan hukuman sepadan sehingga tak menekan kasus cedera para pemain. Kebijakan itu juga harus didukung Federasi Sepak Bola Inggris (FA). “Saya belum pernah berdiskusi dengan FA tentang masalah ini. Mereka hanya fokus pada aksi diving terkait pelanggaran pemain.” “Saya tahu kontak badan diperbolehkan di sini melebihi dari liga-liga lainnya, tapi tetap harus ada batasannya,” ucap Guardiola. Kebijakan melindungi pemain, Guardiola menambahkan, tak harus mengubah gaya permainan sarat fisik di kompetisi sepak bola Inggris. “Tentu ada batasnya ketika Anda sudah bertindak di luar batas dan itu berbahaya. Kami cukup beruntung karena di masa sebelumnya para pemain kami masih tetap bertahan.” “Kadang karena permainan sepak bola yang cepat hal itu [pelanggaran berbahaya] kerap terjadi dan mereka memang tak berniat mencelakai pemain lain. Tapi mereka tetap bisa cedera dalam waktu lama,” terang pelatih berkepala plontos itu. (bac)'"
      ]
    },
    {
      "cell_type": "code",
      "execution_count": 3,
      "metadata": {
        "colab": {
          "base_uri": "https://localhost:8080/"
        },
        "id": "gBQg_b3etdVk",
        "outputId": "f926ef59-65a1-4089-9900-384e3025e4de"
      },
      "outputs": [
        {
          "output_type": "stream",
          "name": "stdout",
          "text": [
            "Jakarta, CNN Indonesia -- Pep Guardiola akhirnya harus merasakan kesialan yang pernah dirasakan manajer-manajer klub lainnya musim ini. Ya, dua pemain Manchester City mengalami cedera saat ditahan imbang tanpa gol tim tuan rumah Crystal Palace di Stadion Selhurst Park, Minggu (31/12). Mereka adalah Gabriel Jesus dan Kevin De Bruyne. Jesus dipastikan bakal absen sekitar sebulan akibat cedera parah. Sedangkan De Bruyne diperkirakan absen hanya dalam dua laga ke ke depan. Guardiola mengaku cukup pusing dengan cedera yang dialami dua pemainnya di ManCity. Tak ayal, ia meminta wasit agar memberikan perlindungan yang lebih besar lagi kepada para pemain sehingga terhindar dari cedera. “Saya mengagumi permainan sarat fisik di Liga Primer Inggris, tapi para wasit seharusnya melindungi para pemain, bukan hanya para pemain bintang, tapi semua pemain,” ujar Guardiola dikutip dari BBC Pelatih asal Spanyol itu berpendapat, wasit seharusnya bisa meredam permainan kasar para pemain dengan keputusannya memberikan hukuman sepadan sehingga tak menekan kasus cedera para pemain. Kebijakan itu juga harus didukung Federasi Sepak Bola Inggris (FA). “Saya belum pernah berdiskusi dengan FA tentang masalah ini. Mereka hanya fokus pada aksi diving terkait pelanggaran pemain.” “Saya tahu kontak badan diperbolehkan di sini melebihi dari liga-liga lainnya, tapi tetap harus ada batasannya,” ucap Guardiola. Kebijakan melindungi pemain, Guardiola menambahkan, tak harus mengubah gaya permainan sarat fisik di kompetisi sepak bola Inggris. “Tentu ada batasnya ketika Anda sudah bertindak di luar batas dan itu berbahaya. Kami cukup beruntung karena di masa sebelumnya para pemain kami masih tetap bertahan.” “Kadang karena permainan sepak bola yang cepat hal itu [pelanggaran berbahaya] kerap terjadi dan mereka memang tak berniat mencelakai pemain lain. Tapi mereka tetap bisa cedera dalam waktu lama,” terang pelatih berkepala plontos itu. (bac)\n"
          ]
        }
      ],
      "source": [
        "print(text)"
      ]
    },
    {
      "cell_type": "markdown",
      "metadata": {
        "id": "DK67HC5etdVl"
      },
      "source": [
        "## import library <a name=\"import-library\"></a>"
      ]
    },
    {
      "cell_type": "code",
      "execution_count": 4,
      "metadata": {
        "id": "rwdtM8NxtdVl"
      },
      "outputs": [],
      "source": [
        "import re\n",
        "import string\n",
        "import time\n",
        "from copy import deepcopy"
      ]
    },
    {
      "cell_type": "markdown",
      "metadata": {
        "id": "7FW4R6QHtdVl"
      },
      "source": [
        "## remove tab new line and back slice  <a name=\"remove-tab-new-line-and-back-slice\"></a>"
      ]
    },
    {
      "cell_type": "code",
      "execution_count": 5,
      "metadata": {
        "id": "2P05nVCTtdVl"
      },
      "outputs": [],
      "source": [
        "hasil = text.replace('\\\\t',\" \").replace('\\\\n',\" \").replace('\\\\u',\" \").replace('\\\\',\"\")"
      ]
    },
    {
      "cell_type": "code",
      "execution_count": 6,
      "metadata": {
        "colab": {
          "base_uri": "https://localhost:8080/",
          "height": 105
        },
        "id": "zEJyxwmktdVl",
        "outputId": "317bf306-00b0-4b7d-d100-6cac80d2a1f7"
      },
      "outputs": [
        {
          "output_type": "execute_result",
          "data": {
            "text/plain": [
              "'Jakarta, CNN Indonesia -- Pep Guardiola akhirnya harus merasakan kesialan yang pernah dirasakan manajer-manajer klub lainnya musim ini. Ya, dua pemain Manchester City mengalami cedera saat ditahan imbang tanpa gol tim tuan rumah Crystal Palace di Stadion Selhurst Park, Minggu (31/12). Mereka adalah Gabriel Jesus dan Kevin De Bruyne. Jesus dipastikan bakal absen sekitar sebulan akibat cedera parah. Sedangkan De Bruyne diperkirakan absen hanya dalam dua laga ke ke depan. Guardiola mengaku cukup pusing dengan cedera yang dialami dua pemainnya di ManCity. Tak ayal, ia meminta wasit agar memberikan perlindungan yang lebih besar lagi kepada para pemain sehingga terhindar dari cedera. “Saya mengagumi permainan sarat fisik di Liga Primer Inggris, tapi para wasit seharusnya melindungi para pemain, bukan hanya para pemain bintang, tapi semua pemain,” ujar Guardiola dikutip dari BBC Pelatih asal Spanyol itu berpendapat, wasit seharusnya bisa meredam permainan kasar para pemain dengan keputusannya memberikan hukuman sepadan sehingga tak menekan kasus cedera para pemain. Kebijakan itu juga harus didukung Federasi Sepak Bola Inggris (FA). “Saya belum pernah berdiskusi dengan FA tentang masalah ini. Mereka hanya fokus pada aksi diving terkait pelanggaran pemain.” “Saya tahu kontak badan diperbolehkan di sini melebihi dari liga-liga lainnya, tapi tetap harus ada batasannya,” ucap Guardiola. Kebijakan melindungi pemain, Guardiola menambahkan, tak harus mengubah gaya permainan sarat fisik di kompetisi sepak bola Inggris. “Tentu ada batasnya ketika Anda sudah bertindak di luar batas dan itu berbahaya. Kami cukup beruntung karena di masa sebelumnya para pemain kami masih tetap bertahan.” “Kadang karena permainan sepak bola yang cepat hal itu [pelanggaran berbahaya] kerap terjadi dan mereka memang tak berniat mencelakai pemain lain. Tapi mereka tetap bisa cedera dalam waktu lama,” terang pelatih berkepala plontos itu. (bac)'"
            ],
            "application/vnd.google.colaboratory.intrinsic+json": {
              "type": "string"
            }
          },
          "metadata": {},
          "execution_count": 6
        }
      ],
      "source": [
        "hasil"
      ]
    },
    {
      "cell_type": "markdown",
      "metadata": {
        "id": "6kt6gbyxtdVl"
      },
      "source": [
        "## remove non ASCII emoticon chinese word <a name=\"remove-non-ASCII-emoticon-chinese-word\"></a>"
      ]
    },
    {
      "cell_type": "code",
      "execution_count": 7,
      "metadata": {
        "id": "udr98CEutdVl"
      },
      "outputs": [],
      "source": [
        "hasil = hasil.encode('ascii', 'replace').decode('ascii')"
      ]
    },
    {
      "cell_type": "code",
      "execution_count": 8,
      "metadata": {
        "colab": {
          "base_uri": "https://localhost:8080/",
          "height": 105
        },
        "id": "yGXeH5VGtdVl",
        "outputId": "c526d0fd-3791-41cd-e0c2-405339b16f97"
      },
      "outputs": [
        {
          "output_type": "execute_result",
          "data": {
            "text/plain": [
              "'Jakarta, CNN Indonesia -- Pep Guardiola akhirnya harus merasakan kesialan yang pernah dirasakan manajer-manajer klub lainnya musim ini. Ya, dua pemain Manchester City mengalami cedera saat ditahan imbang tanpa gol tim tuan rumah Crystal Palace di Stadion Selhurst Park, Minggu (31/12). Mereka adalah Gabriel Jesus dan Kevin De Bruyne. Jesus dipastikan bakal absen sekitar sebulan akibat cedera parah. Sedangkan De Bruyne diperkirakan absen hanya dalam dua laga ke ke depan. Guardiola mengaku cukup pusing dengan cedera yang dialami dua pemainnya di ManCity. Tak ayal, ia meminta wasit agar memberikan perlindungan yang lebih besar lagi kepada para pemain sehingga terhindar dari cedera. ?Saya mengagumi permainan sarat fisik di Liga Primer Inggris, tapi para wasit seharusnya melindungi para pemain, bukan hanya para pemain bintang, tapi semua pemain,? ujar Guardiola dikutip dari BBC Pelatih asal Spanyol itu berpendapat, wasit seharusnya bisa meredam permainan kasar para pemain dengan keputusannya memberikan hukuman sepadan sehingga tak menekan kasus cedera para pemain. Kebijakan itu juga harus didukung Federasi Sepak Bola Inggris (FA). ?Saya belum pernah berdiskusi dengan FA tentang masalah ini. Mereka hanya fokus pada aksi diving terkait pelanggaran pemain.? ?Saya tahu kontak badan diperbolehkan di sini melebihi dari liga-liga lainnya, tapi tetap harus ada batasannya,? ucap Guardiola. Kebijakan melindungi pemain, Guardiola menambahkan, tak harus mengubah gaya permainan sarat fisik di kompetisi sepak bola Inggris. ?Tentu ada batasnya ketika Anda sudah bertindak di luar batas dan itu berbahaya. Kami cukup beruntung karena di masa sebelumnya para pemain kami masih tetap bertahan.? ?Kadang karena permainan sepak bola yang cepat hal itu [pelanggaran berbahaya] kerap terjadi dan mereka memang tak berniat mencelakai pemain lain. Tapi mereka tetap bisa cedera dalam waktu lama,? terang pelatih berkepala plontos itu. (bac)'"
            ],
            "application/vnd.google.colaboratory.intrinsic+json": {
              "type": "string"
            }
          },
          "metadata": {},
          "execution_count": 8
        }
      ],
      "source": [
        "hasil"
      ]
    },
    {
      "cell_type": "markdown",
      "metadata": {
        "id": "bPfroDR9tdVl"
      },
      "source": [
        "## remove mention, link, hashtag <a name=\"remove-mention-link-hashtag\"></a>"
      ]
    },
    {
      "cell_type": "code",
      "execution_count": 9,
      "metadata": {
        "id": "a49utaH0tdVl"
      },
      "outputs": [],
      "source": [
        "hasil = ' '.join(re.sub(\"([@#][A-Za-z0-9]+)|(\\w+:\\/\\/\\S+)\",\" \", hasil).split())"
      ]
    },
    {
      "cell_type": "code",
      "execution_count": 10,
      "metadata": {
        "colab": {
          "base_uri": "https://localhost:8080/",
          "height": 105
        },
        "id": "ci3XuU-_tdVm",
        "outputId": "360bb827-1602-4989-fd0e-9a75b944a03d"
      },
      "outputs": [
        {
          "output_type": "execute_result",
          "data": {
            "text/plain": [
              "'Jakarta, CNN Indonesia -- Pep Guardiola akhirnya harus merasakan kesialan yang pernah dirasakan manajer-manajer klub lainnya musim ini. Ya, dua pemain Manchester City mengalami cedera saat ditahan imbang tanpa gol tim tuan rumah Crystal Palace di Stadion Selhurst Park, Minggu (31/12). Mereka adalah Gabriel Jesus dan Kevin De Bruyne. Jesus dipastikan bakal absen sekitar sebulan akibat cedera parah. Sedangkan De Bruyne diperkirakan absen hanya dalam dua laga ke ke depan. Guardiola mengaku cukup pusing dengan cedera yang dialami dua pemainnya di ManCity. Tak ayal, ia meminta wasit agar memberikan perlindungan yang lebih besar lagi kepada para pemain sehingga terhindar dari cedera. ?Saya mengagumi permainan sarat fisik di Liga Primer Inggris, tapi para wasit seharusnya melindungi para pemain, bukan hanya para pemain bintang, tapi semua pemain,? ujar Guardiola dikutip dari BBC Pelatih asal Spanyol itu berpendapat, wasit seharusnya bisa meredam permainan kasar para pemain dengan keputusannya memberikan hukuman sepadan sehingga tak menekan kasus cedera para pemain. Kebijakan itu juga harus didukung Federasi Sepak Bola Inggris (FA). ?Saya belum pernah berdiskusi dengan FA tentang masalah ini. Mereka hanya fokus pada aksi diving terkait pelanggaran pemain.? ?Saya tahu kontak badan diperbolehkan di sini melebihi dari liga-liga lainnya, tapi tetap harus ada batasannya,? ucap Guardiola. Kebijakan melindungi pemain, Guardiola menambahkan, tak harus mengubah gaya permainan sarat fisik di kompetisi sepak bola Inggris. ?Tentu ada batasnya ketika Anda sudah bertindak di luar batas dan itu berbahaya. Kami cukup beruntung karena di masa sebelumnya para pemain kami masih tetap bertahan.? ?Kadang karena permainan sepak bola yang cepat hal itu [pelanggaran berbahaya] kerap terjadi dan mereka memang tak berniat mencelakai pemain lain. Tapi mereka tetap bisa cedera dalam waktu lama,? terang pelatih berkepala plontos itu. (bac)'"
            ],
            "application/vnd.google.colaboratory.intrinsic+json": {
              "type": "string"
            }
          },
          "metadata": {},
          "execution_count": 10
        }
      ],
      "source": [
        "hasil"
      ]
    },
    {
      "cell_type": "markdown",
      "metadata": {
        "id": "eR74XV3OtdVm"
      },
      "source": [
        "## remove RT <a name=\"remove-rt\"></a>"
      ]
    },
    {
      "cell_type": "code",
      "execution_count": 13,
      "metadata": {
        "id": "n3nsjcPQtdVm"
      },
      "outputs": [],
      "source": [
        "hasil = hasil.replace('Jakarta, ',\"\")"
      ]
    },
    {
      "cell_type": "code",
      "execution_count": 14,
      "metadata": {
        "colab": {
          "base_uri": "https://localhost:8080/",
          "height": 105
        },
        "id": "Cq1NQFm4tdVm",
        "outputId": "7a7a6d31-5152-44a5-c2b8-b62fa1e26172"
      },
      "outputs": [
        {
          "output_type": "execute_result",
          "data": {
            "text/plain": [
              "'CNN Indonesia -- Pep Guardiola akhirnya harus merasakan kesialan yang pernah dirasakan manajer-manajer klub lainnya musim ini. Ya, dua pemain Manchester City mengalami cedera saat ditahan imbang tanpa gol tim tuan rumah Crystal Palace di Stadion Selhurst Park, Minggu (31/12). Mereka adalah Gabriel Jesus dan Kevin De Bruyne. Jesus dipastikan bakal absen sekitar sebulan akibat cedera parah. Sedangkan De Bruyne diperkirakan absen hanya dalam dua laga ke ke depan. Guardiola mengaku cukup pusing dengan cedera yang dialami dua pemainnya di ManCity. Tak ayal, ia meminta wasit agar memberikan perlindungan yang lebih besar lagi kepada para pemain sehingga terhindar dari cedera. ?Saya mengagumi permainan sarat fisik di Liga Primer Inggris, tapi para wasit seharusnya melindungi para pemain, bukan hanya para pemain bintang, tapi semua pemain,? ujar Guardiola dikutip dari BBC Pelatih asal Spanyol itu berpendapat, wasit seharusnya bisa meredam permainan kasar para pemain dengan keputusannya memberikan hukuman sepadan sehingga tak menekan kasus cedera para pemain. Kebijakan itu juga harus didukung Federasi Sepak Bola Inggris (FA). ?Saya belum pernah berdiskusi dengan FA tentang masalah ini. Mereka hanya fokus pada aksi diving terkait pelanggaran pemain.? ?Saya tahu kontak badan diperbolehkan di sini melebihi dari liga-liga lainnya, tapi tetap harus ada batasannya,? ucap Guardiola. Kebijakan melindungi pemain, Guardiola menambahkan, tak harus mengubah gaya permainan sarat fisik di kompetisi sepak bola Inggris. ?Tentu ada batasnya ketika Anda sudah bertindak di luar batas dan itu berbahaya. Kami cukup beruntung karena di masa sebelumnya para pemain kami masih tetap bertahan.? ?Kadang karena permainan sepak bola yang cepat hal itu [pelanggaran berbahaya] kerap terjadi dan mereka memang tak berniat mencelakai pemain lain. Tapi mereka tetap bisa cedera dalam waktu lama,? terang pelatih berkepala plontos itu. (bac)'"
            ],
            "application/vnd.google.colaboratory.intrinsic+json": {
              "type": "string"
            }
          },
          "metadata": {},
          "execution_count": 14
        }
      ],
      "source": [
        "hasil"
      ]
    },
    {
      "cell_type": "markdown",
      "metadata": {
        "id": "46T4yIqdtdVm"
      },
      "source": [
        "## lower <a name=\"lower\"></a>"
      ]
    },
    {
      "cell_type": "code",
      "execution_count": null,
      "metadata": {
        "id": "6RcLIX24tdVm"
      },
      "outputs": [],
      "source": [
        "hasil = hasil.lower()"
      ]
    },
    {
      "cell_type": "code",
      "execution_count": null,
      "metadata": {
        "colab": {
          "base_uri": "https://localhost:8080/",
          "height": 105
        },
        "id": "Qr4FXzdMtdVm",
        "outputId": "5b173f29-2eb0-4ace-cdfd-f1f018e2ea0f"
      },
      "outputs": [
        {
          "output_type": "execute_result",
          "data": {
            "text/plain": [
              "'jakarta, cnn indonesia -- pep guardiola akhirnya harus merasakan kesialan yang pernah dirasakan manajer-manajer klub lainnya musim ini. ya, dua pemain manchester city mengalami cedera saat ditahan imbang tanpa gol tim tuan rumah crystal palace di stadion selhurst park, minggu (31/12). mereka adalah gabriel jesus dan kevin de bruyne. jesus dipastikan bakal absen sekitar sebulan akibat cedera parah. sedangkan de bruyne diperkirakan absen hanya dalam dua laga ke ke depan. guardiola mengaku cukup pusing dengan cedera yang dialami dua pemainnya di mancity. tak ayal, ia meminta wasit agar memberikan perlindungan yang lebih besar lagi kepada para pemain sehingga terhindar dari cedera. ?saya mengagumi permainan sarat fisik di liga primer inggris, tapi para wasit seharusnya melindungi para pemain, bukan hanya para pemain bintang, tapi semua pemain,? ujar guardiola dikutip dari bbc pelatih asal spanyol itu berpendapat, wasit seharusnya bisa meredam permainan kasar para pemain dengan keputusannya memberikan hukuman sepadan sehingga tak menekan kasus cedera para pemain. kebijakan itu juga harus didukung federasi sepak bola inggris (fa). ?saya belum pernah berdiskusi dengan fa tentang masalah ini. mereka hanya fokus pada aksi diving terkait pelanggaran pemain.? ?saya tahu kontak badan diperbolehkan di sini melebihi dari liga-liga lainnya, tapi tetap harus ada batasannya,? ucap guardiola. kebijakan melindungi pemain, guardiola menambahkan, tak harus mengubah gaya permainan sarat fisik di kompetisi sepak bola inggris. ?tentu ada batasnya ketika anda sudah bertindak di luar batas dan itu berbahaya. kami cukup beruntung karena di masa sebelumnya para pemain kami masih tetap bertahan.? ?kadang karena permainan sepak bola yang cepat hal itu [pelanggaran berbahaya] kerap terjadi dan mereka memang tak berniat mencelakai pemain lain. tapi mereka tetap bisa cedera dalam waktu lama,? terang pelatih berkepala plontos itu. (bac)'"
            ],
            "application/vnd.google.colaboratory.intrinsic+json": {
              "type": "string"
            }
          },
          "metadata": {},
          "execution_count": 34
        }
      ],
      "source": [
        "hasil"
      ]
    },
    {
      "cell_type": "markdown",
      "metadata": {
        "id": "07JbZfF4tdVm"
      },
      "source": [
        "## remove incomplete URL <a name=\"remove-incomplete-url\"></a>"
      ]
    },
    {
      "cell_type": "code",
      "execution_count": 15,
      "metadata": {
        "id": "BpEOziIxtdVm"
      },
      "outputs": [],
      "source": [
        "hasil = hasil.replace('--',\"\").replace('',\"\")"
      ]
    },
    {
      "cell_type": "code",
      "execution_count": 16,
      "metadata": {
        "colab": {
          "base_uri": "https://localhost:8080/",
          "height": 105
        },
        "id": "EV4kr3mNtdVn",
        "outputId": "c1577912-bf26-41dc-d2ad-200cb07cd850"
      },
      "outputs": [
        {
          "output_type": "execute_result",
          "data": {
            "text/plain": [
              "'CNN Indonesia  Pep Guardiola akhirnya harus merasakan kesialan yang pernah dirasakan manajer-manajer klub lainnya musim ini. Ya, dua pemain Manchester City mengalami cedera saat ditahan imbang tanpa gol tim tuan rumah Crystal Palace di Stadion Selhurst Park, Minggu (31/12). Mereka adalah Gabriel Jesus dan Kevin De Bruyne. Jesus dipastikan bakal absen sekitar sebulan akibat cedera parah. Sedangkan De Bruyne diperkirakan absen hanya dalam dua laga ke ke depan. Guardiola mengaku cukup pusing dengan cedera yang dialami dua pemainnya di ManCity. Tak ayal, ia meminta wasit agar memberikan perlindungan yang lebih besar lagi kepada para pemain sehingga terhindar dari cedera. ?Saya mengagumi permainan sarat fisik di Liga Primer Inggris, tapi para wasit seharusnya melindungi para pemain, bukan hanya para pemain bintang, tapi semua pemain,? ujar Guardiola dikutip dari BBC Pelatih asal Spanyol itu berpendapat, wasit seharusnya bisa meredam permainan kasar para pemain dengan keputusannya memberikan hukuman sepadan sehingga tak menekan kasus cedera para pemain. Kebijakan itu juga harus didukung Federasi Sepak Bola Inggris (FA). ?Saya belum pernah berdiskusi dengan FA tentang masalah ini. Mereka hanya fokus pada aksi diving terkait pelanggaran pemain.? ?Saya tahu kontak badan diperbolehkan di sini melebihi dari liga-liga lainnya, tapi tetap harus ada batasannya,? ucap Guardiola. Kebijakan melindungi pemain, Guardiola menambahkan, tak harus mengubah gaya permainan sarat fisik di kompetisi sepak bola Inggris. ?Tentu ada batasnya ketika Anda sudah bertindak di luar batas dan itu berbahaya. Kami cukup beruntung karena di masa sebelumnya para pemain kami masih tetap bertahan.? ?Kadang karena permainan sepak bola yang cepat hal itu [pelanggaran berbahaya] kerap terjadi dan mereka memang tak berniat mencelakai pemain lain. Tapi mereka tetap bisa cedera dalam waktu lama,? terang pelatih berkepala plontos itu. (bac)'"
            ],
            "application/vnd.google.colaboratory.intrinsic+json": {
              "type": "string"
            }
          },
          "metadata": {},
          "execution_count": 16
        }
      ],
      "source": [
        "hasil"
      ]
    },
    {
      "cell_type": "markdown",
      "metadata": {
        "id": "xlbzeAQ5tdVn"
      },
      "source": [
        "## remove number <a name=\"remove-number\"></a>"
      ]
    },
    {
      "cell_type": "code",
      "execution_count": null,
      "metadata": {
        "id": "1XJlpljLtdVn"
      },
      "outputs": [],
      "source": [
        "def remove_number(hasil):\n",
        "    return re.sub(r\"\\d+\", \"\", hasil)"
      ]
    },
    {
      "cell_type": "code",
      "execution_count": null,
      "metadata": {
        "id": "2v-C7F0QtdVn"
      },
      "outputs": [],
      "source": [
        "hasil = remove_number(hasil)"
      ]
    },
    {
      "cell_type": "code",
      "execution_count": null,
      "metadata": {
        "colab": {
          "base_uri": "https://localhost:8080/",
          "height": 105
        },
        "id": "Hx7dQyaftdVn",
        "outputId": "cd7a91f9-8694-47ed-9c83-6a61f7f1456c"
      },
      "outputs": [
        {
          "output_type": "execute_result",
          "data": {
            "text/plain": [
              "'jakarta, cnn indonesia  pep guardiola akhirnya harus merasakan kesialan yang pernah dirasakan manajermanajer klub lainnya musim ini. ya, dua pemain manchester city mengalami cedera saat ditahan imbang tanpa gol tim tuan rumah crystal palace di stadion selhurst park, minggu (/). mereka adalah gabriel jesus dan kevin de bruyne. jesus dipastikan bakal absen sekitar sebulan akibat cedera parah. sedangkan de bruyne diperkirakan absen hanya dalam dua laga ke ke depan. guardiola mengaku cukup pusing dengan cedera yang dialami dua pemainnya di mancity. tak ayal, ia meminta wasit agar memberikan perlindungan yang lebih besar lagi kepada para pemain sehingga terhindar dari cedera. ?saya mengagumi permainan sarat fisik di liga primer inggris, tapi para wasit seharusnya melindungi para pemain, bukan hanya para pemain bintang, tapi semua pemain,? ujar guardiola dikutip dari bbc pelatih asal spanyol itu berpendapat, wasit seharusnya bisa meredam permainan kasar para pemain dengan keputusannya memberikan hukuman sepadan sehingga tak menekan kasus cedera para pemain. kebijakan itu juga harus didukung federasi sepak bola inggris (fa). ?saya belum pernah berdiskusi dengan fa tentang masalah ini. mereka hanya fokus pada aksi diving terkait pelanggaran pemain.? ?saya tahu kontak badan diperbolehkan di sini melebihi dari ligaliga lainnya, tapi tetap harus ada batasannya,? ucap guardiola. kebijakan melindungi pemain, guardiola menambahkan, tak harus mengubah gaya permainan sarat fisik di kompetisi sepak bola inggris. ?tentu ada batasnya ketika anda sudah bertindak di luar batas dan itu berbahaya. kami cukup beruntung karena di masa sebelumnya para pemain kami masih tetap bertahan.? ?kadang karena permainan sepak bola yang cepat hal itu [pelanggaran berbahaya] kerap terjadi dan mereka memang tak berniat mencelakai pemain lain. tapi mereka tetap bisa cedera dalam waktu lama,? terang pelatih berkepala plontos itu. (bac)'"
            ],
            "application/vnd.google.colaboratory.intrinsic+json": {
              "type": "string"
            }
          },
          "metadata": {},
          "execution_count": 45
        }
      ],
      "source": [
        "hasil"
      ]
    },
    {
      "cell_type": "markdown",
      "metadata": {
        "id": "lqYdoQQ5tdVo"
      },
      "source": [
        "## remove whitespace leading and trailing <a name=\"remove-whitespace-leading-and-trailing\"></a>\n",
        "\n",
        "digunakan untuk menghapus tanda spasi setelah titik pada akhir kalimat"
      ]
    },
    {
      "cell_type": "code",
      "execution_count": null,
      "metadata": {
        "id": "xhSHXVG2tdVo"
      },
      "outputs": [],
      "source": [
        "def remove_whitespace(hasil):\n",
        "    return hasil.strip()"
      ]
    },
    {
      "cell_type": "code",
      "execution_count": null,
      "metadata": {
        "id": "b2Vr3uSstdVo"
      },
      "outputs": [],
      "source": [
        "hasil = remove_whitespace(hasil)"
      ]
    },
    {
      "cell_type": "code",
      "execution_count": null,
      "metadata": {
        "colab": {
          "base_uri": "https://localhost:8080/",
          "height": 105
        },
        "id": "vOoZV1yFtdVo",
        "outputId": "448352ba-f468-461b-da1e-e9c4674f8c90"
      },
      "outputs": [
        {
          "output_type": "execute_result",
          "data": {
            "text/plain": [
              "'Jakarta, CNN Indonesia -- Pep Guardiola akhirnya harus merasakan kesialan yang pernah dirasakan manajer-manajer klub lainnya musim ini. Ya, dua pemain Manchester City mengalami cedera saat ditahan imbang tanpa gol tim tuan rumah Crystal Palace di Stadion Selhurst Park, Minggu (31/12). Mereka adalah Gabriel Jesus dan Kevin De Bruyne. Jesus dipastikan bakal absen sekitar sebulan akibat cedera parah. Sedangkan De Bruyne diperkirakan absen hanya dalam dua laga ke ke depan. Guardiola mengaku cukup pusing dengan cedera yang dialami dua pemainnya di ManCity. Tak ayal, ia meminta wasit agar memberikan perlindungan yang lebih besar lagi kepada para pemain sehingga terhindar dari cedera. “Saya mengagumi permainan sarat fisik di Liga Primer Inggris, tapi para wasit seharusnya melindungi para pemain, bukan hanya para pemain bintang, tapi semua pemain,” ujar Guardiola dikutip dari BBC Pelatih asal Spanyol itu berpendapat, wasit seharusnya bisa meredam permainan kasar para pemain dengan keputusannya memberikan hukuman sepadan sehingga tak menekan kasus cedera para pemain. Kebijakan itu juga harus didukung Federasi Sepak Bola Inggris (FA). “Saya belum pernah berdiskusi dengan FA tentang masalah ini. Mereka hanya fokus pada aksi diving terkait pelanggaran pemain.” “Saya tahu kontak badan diperbolehkan di sini melebihi dari liga-liga lainnya, tapi tetap harus ada batasannya,” ucap Guardiola. Kebijakan melindungi pemain, Guardiola menambahkan, tak harus mengubah gaya permainan sarat fisik di kompetisi sepak bola Inggris. “Tentu ada batasnya ketika Anda sudah bertindak di luar batas dan itu berbahaya. Kami cukup beruntung karena di masa sebelumnya para pemain kami masih tetap bertahan.” “Kadang karena permainan sepak bola yang cepat hal itu [pelanggaran berbahaya] kerap terjadi dan mereka memang tak berniat mencelakai pemain lain. Tapi mereka tetap bisa cedera dalam waktu lama,” terang pelatih berkepala plontos itu. (bac)'"
            ],
            "application/vnd.google.colaboratory.intrinsic+json": {
              "type": "string"
            }
          },
          "metadata": {},
          "execution_count": 48
        }
      ],
      "source": [
        "text"
      ]
    },
    {
      "cell_type": "code",
      "execution_count": null,
      "metadata": {
        "colab": {
          "base_uri": "https://localhost:8080/",
          "height": 105
        },
        "id": "Lo6DXjTBtdVo",
        "outputId": "72a81eb4-e79b-4cf0-a9d0-b06352598950"
      },
      "outputs": [
        {
          "output_type": "execute_result",
          "data": {
            "text/plain": [
              "'jakarta, cnn indonesia  pep guardiola akhirnya harus merasakan kesialan yang pernah dirasakan manajermanajer klub lainnya musim ini. ya, dua pemain manchester city mengalami cedera saat ditahan imbang tanpa gol tim tuan rumah crystal palace di stadion selhurst park, minggu (/). mereka adalah gabriel jesus dan kevin de bruyne. jesus dipastikan bakal absen sekitar sebulan akibat cedera parah. sedangkan de bruyne diperkirakan absen hanya dalam dua laga ke ke depan. guardiola mengaku cukup pusing dengan cedera yang dialami dua pemainnya di mancity. tak ayal, ia meminta wasit agar memberikan perlindungan yang lebih besar lagi kepada para pemain sehingga terhindar dari cedera. ?saya mengagumi permainan sarat fisik di liga primer inggris, tapi para wasit seharusnya melindungi para pemain, bukan hanya para pemain bintang, tapi semua pemain,? ujar guardiola dikutip dari bbc pelatih asal spanyol itu berpendapat, wasit seharusnya bisa meredam permainan kasar para pemain dengan keputusannya memberikan hukuman sepadan sehingga tak menekan kasus cedera para pemain. kebijakan itu juga harus didukung federasi sepak bola inggris (fa). ?saya belum pernah berdiskusi dengan fa tentang masalah ini. mereka hanya fokus pada aksi diving terkait pelanggaran pemain.? ?saya tahu kontak badan diperbolehkan di sini melebihi dari ligaliga lainnya, tapi tetap harus ada batasannya,? ucap guardiola. kebijakan melindungi pemain, guardiola menambahkan, tak harus mengubah gaya permainan sarat fisik di kompetisi sepak bola inggris. ?tentu ada batasnya ketika anda sudah bertindak di luar batas dan itu berbahaya. kami cukup beruntung karena di masa sebelumnya para pemain kami masih tetap bertahan.? ?kadang karena permainan sepak bola yang cepat hal itu [pelanggaran berbahaya] kerap terjadi dan mereka memang tak berniat mencelakai pemain lain. tapi mereka tetap bisa cedera dalam waktu lama,? terang pelatih berkepala plontos itu. (bac)'"
            ],
            "application/vnd.google.colaboratory.intrinsic+json": {
              "type": "string"
            }
          },
          "metadata": {},
          "execution_count": 49
        }
      ],
      "source": [
        "hasil"
      ]
    },
    {
      "cell_type": "markdown",
      "metadata": {
        "id": "9HgFgU8dtdVo"
      },
      "source": [
        "## remove multiple whitespace into single whitespace <a name=\"remove-multiple-whitespace-into-single-whitespace\"></a>"
      ]
    },
    {
      "cell_type": "code",
      "execution_count": null,
      "metadata": {
        "id": "0fnDBl-WtdVo"
      },
      "outputs": [],
      "source": [
        "def remove_whitespace_multi(hasil):\n",
        "    return re.sub('\\s+',' ',hasil)"
      ]
    },
    {
      "cell_type": "code",
      "execution_count": null,
      "metadata": {
        "id": "GW3Mp8EvtdVo"
      },
      "outputs": [],
      "source": [
        "hasil = remove_whitespace_multi(hasil)"
      ]
    },
    {
      "cell_type": "code",
      "execution_count": null,
      "metadata": {
        "colab": {
          "base_uri": "https://localhost:8080/",
          "height": 105
        },
        "id": "oAhF9GBntdVp",
        "outputId": "646d4b55-769d-42b8-8004-928d0ef9b537"
      },
      "outputs": [
        {
          "output_type": "execute_result",
          "data": {
            "text/plain": [
              "'jakarta, cnn indonesia pep guardiola akhirnya harus merasakan kesialan yang pernah dirasakan manajermanajer klub lainnya musim ini. ya, dua pemain manchester city mengalami cedera saat ditahan imbang tanpa gol tim tuan rumah crystal palace di stadion selhurst park, minggu (/). mereka adalah gabriel jesus dan kevin de bruyne. jesus dipastikan bakal absen sekitar sebulan akibat cedera parah. sedangkan de bruyne diperkirakan absen hanya dalam dua laga ke ke depan. guardiola mengaku cukup pusing dengan cedera yang dialami dua pemainnya di mancity. tak ayal, ia meminta wasit agar memberikan perlindungan yang lebih besar lagi kepada para pemain sehingga terhindar dari cedera. ?saya mengagumi permainan sarat fisik di liga primer inggris, tapi para wasit seharusnya melindungi para pemain, bukan hanya para pemain bintang, tapi semua pemain,? ujar guardiola dikutip dari bbc pelatih asal spanyol itu berpendapat, wasit seharusnya bisa meredam permainan kasar para pemain dengan keputusannya memberikan hukuman sepadan sehingga tak menekan kasus cedera para pemain. kebijakan itu juga harus didukung federasi sepak bola inggris (fa). ?saya belum pernah berdiskusi dengan fa tentang masalah ini. mereka hanya fokus pada aksi diving terkait pelanggaran pemain.? ?saya tahu kontak badan diperbolehkan di sini melebihi dari ligaliga lainnya, tapi tetap harus ada batasannya,? ucap guardiola. kebijakan melindungi pemain, guardiola menambahkan, tak harus mengubah gaya permainan sarat fisik di kompetisi sepak bola inggris. ?tentu ada batasnya ketika anda sudah bertindak di luar batas dan itu berbahaya. kami cukup beruntung karena di masa sebelumnya para pemain kami masih tetap bertahan.? ?kadang karena permainan sepak bola yang cepat hal itu [pelanggaran berbahaya] kerap terjadi dan mereka memang tak berniat mencelakai pemain lain. tapi mereka tetap bisa cedera dalam waktu lama,? terang pelatih berkepala plontos itu. (bac)'"
            ],
            "application/vnd.google.colaboratory.intrinsic+json": {
              "type": "string"
            }
          },
          "metadata": {},
          "execution_count": 52
        }
      ],
      "source": [
        "hasil"
      ]
    },
    {
      "cell_type": "markdown",
      "metadata": {
        "id": "7PPOO0jPtdVp"
      },
      "source": [
        "## remove single char <a name=\"remove-single-char\"></a>"
      ]
    },
    {
      "cell_type": "code",
      "execution_count": null,
      "metadata": {
        "id": "6z-_C5kvtdVp"
      },
      "outputs": [],
      "source": [
        "def remove_single_char(hasil):\n",
        "    return re.sub(r\"\\b[a-zA-Z]\\b\", \"\", hasil)"
      ]
    },
    {
      "cell_type": "code",
      "execution_count": null,
      "metadata": {
        "id": "nf6XCba6tdVp"
      },
      "outputs": [],
      "source": [
        "hasil = remove_single_char(hasil)"
      ]
    },
    {
      "cell_type": "code",
      "execution_count": null,
      "metadata": {
        "colab": {
          "base_uri": "https://localhost:8080/",
          "height": 105
        },
        "id": "beGHLC52tdVp",
        "outputId": "4eaa2de2-f4ce-43b8-a70a-2590b4ce384c"
      },
      "outputs": [
        {
          "output_type": "execute_result",
          "data": {
            "text/plain": [
              "'jakarta, cnn indonesia pep guardiola akhirnya harus merasakan kesialan yang pernah dirasakan manajermanajer klub lainnya musim ini. ya, dua pemain manchester city mengalami cedera saat ditahan imbang tanpa gol tim tuan rumah crystal palace di stadion selhurst park, minggu (/). mereka adalah gabriel jesus dan kevin de bruyne. jesus dipastikan bakal absen sekitar sebulan akibat cedera parah. sedangkan de bruyne diperkirakan absen hanya dalam dua laga ke ke depan. guardiola mengaku cukup pusing dengan cedera yang dialami dua pemainnya di mancity. tak ayal, ia meminta wasit agar memberikan perlindungan yang lebih besar lagi kepada para pemain sehingga terhindar dari cedera. ?saya mengagumi permainan sarat fisik di liga primer inggris, tapi para wasit seharusnya melindungi para pemain, bukan hanya para pemain bintang, tapi semua pemain,? ujar guardiola dikutip dari bbc pelatih asal spanyol itu berpendapat, wasit seharusnya bisa meredam permainan kasar para pemain dengan keputusannya memberikan hukuman sepadan sehingga tak menekan kasus cedera para pemain. kebijakan itu juga harus didukung federasi sepak bola inggris (fa). ?saya belum pernah berdiskusi dengan fa tentang masalah ini. mereka hanya fokus pada aksi diving terkait pelanggaran pemain.? ?saya tahu kontak badan diperbolehkan di sini melebihi dari ligaliga lainnya, tapi tetap harus ada batasannya,? ucap guardiola. kebijakan melindungi pemain, guardiola menambahkan, tak harus mengubah gaya permainan sarat fisik di kompetisi sepak bola inggris. ?tentu ada batasnya ketika anda sudah bertindak di luar batas dan itu berbahaya. kami cukup beruntung karena di masa sebelumnya para pemain kami masih tetap bertahan.? ?kadang karena permainan sepak bola yang cepat hal itu [pelanggaran berbahaya] kerap terjadi dan mereka memang tak berniat mencelakai pemain lain. tapi mereka tetap bisa cedera dalam waktu lama,? terang pelatih berkepala plontos itu. (bac)'"
            ],
            "application/vnd.google.colaboratory.intrinsic+json": {
              "type": "string"
            }
          },
          "metadata": {},
          "execution_count": 55
        }
      ],
      "source": [
        "hasil"
      ]
    },
    {
      "cell_type": "markdown",
      "metadata": {
        "id": "f9zzUmmntdVp"
      },
      "source": [
        "## remove excessive dot <a name=\"remove-excessive-dot\"></a>"
      ]
    },
    {
      "cell_type": "code",
      "execution_count": null,
      "metadata": {
        "id": "_DLJG8f5tdVp"
      },
      "outputs": [],
      "source": [
        "def remove_excessive_dot(hasil):\n",
        "    return hasil.replace('...',\" \")"
      ]
    },
    {
      "cell_type": "code",
      "execution_count": null,
      "metadata": {
        "id": "eNDGhU3qtdVq"
      },
      "outputs": [],
      "source": [
        "hasil = remove_excessive_dot(hasil)"
      ]
    },
    {
      "cell_type": "code",
      "execution_count": null,
      "metadata": {
        "colab": {
          "base_uri": "https://localhost:8080/",
          "height": 105
        },
        "id": "M7hoFt9itdVq",
        "outputId": "69d5595f-71b1-434a-d756-448ff81e2c1e"
      },
      "outputs": [
        {
          "output_type": "execute_result",
          "data": {
            "text/plain": [
              "'jakarta, cnn indonesia pep guardiola akhirnya harus merasakan kesialan yang pernah dirasakan manajermanajer klub lainnya musim ini. ya, dua pemain manchester city mengalami cedera saat ditahan imbang tanpa gol tim tuan rumah crystal palace di stadion selhurst park, minggu (/). mereka adalah gabriel jesus dan kevin de bruyne. jesus dipastikan bakal absen sekitar sebulan akibat cedera parah. sedangkan de bruyne diperkirakan absen hanya dalam dua laga ke ke depan. guardiola mengaku cukup pusing dengan cedera yang dialami dua pemainnya di mancity. tak ayal, ia meminta wasit agar memberikan perlindungan yang lebih besar lagi kepada para pemain sehingga terhindar dari cedera. ?saya mengagumi permainan sarat fisik di liga primer inggris, tapi para wasit seharusnya melindungi para pemain, bukan hanya para pemain bintang, tapi semua pemain,? ujar guardiola dikutip dari bbc pelatih asal spanyol itu berpendapat, wasit seharusnya bisa meredam permainan kasar para pemain dengan keputusannya memberikan hukuman sepadan sehingga tak menekan kasus cedera para pemain. kebijakan itu juga harus didukung federasi sepak bola inggris (fa). ?saya belum pernah berdiskusi dengan fa tentang masalah ini. mereka hanya fokus pada aksi diving terkait pelanggaran pemain.? ?saya tahu kontak badan diperbolehkan di sini melebihi dari ligaliga lainnya, tapi tetap harus ada batasannya,? ucap guardiola. kebijakan melindungi pemain, guardiola menambahkan, tak harus mengubah gaya permainan sarat fisik di kompetisi sepak bola inggris. ?tentu ada batasnya ketika anda sudah bertindak di luar batas dan itu berbahaya. kami cukup beruntung karena di masa sebelumnya para pemain kami masih tetap bertahan.? ?kadang karena permainan sepak bola yang cepat hal itu [pelanggaran berbahaya] kerap terjadi dan mereka memang tak berniat mencelakai pemain lain. tapi mereka tetap bisa cedera dalam waktu lama,? terang pelatih berkepala plontos itu. (bac)'"
            ],
            "application/vnd.google.colaboratory.intrinsic+json": {
              "type": "string"
            }
          },
          "metadata": {},
          "execution_count": 58
        }
      ],
      "source": [
        "hasil"
      ]
    },
    {
      "cell_type": "markdown",
      "metadata": {
        "id": "ZeaYSNPDtdVq"
      },
      "source": [
        "## remove punctuation <a name=\"remove-punctuation\"></a>"
      ]
    },
    {
      "cell_type": "code",
      "execution_count": null,
      "metadata": {
        "id": "0uCXNI6AtdVq"
      },
      "outputs": [],
      "source": [
        "def remove_punctuation(hasil):\n",
        "    return hasil.translate(str.maketrans(\"\",\"\",string.punctuation))"
      ]
    },
    {
      "cell_type": "code",
      "execution_count": null,
      "metadata": {
        "id": "4eJcMFjgtdVq"
      },
      "outputs": [],
      "source": [
        "hasil = remove_punctuation(hasil)"
      ]
    },
    {
      "cell_type": "code",
      "execution_count": null,
      "metadata": {
        "colab": {
          "base_uri": "https://localhost:8080/",
          "height": 105
        },
        "id": "8OM8xRh2tdVq",
        "outputId": "70180512-7ee3-4e2e-901d-17d8c5106c73"
      },
      "outputs": [
        {
          "output_type": "execute_result",
          "data": {
            "text/plain": [
              "'Jakarta, CNN Indonesia -- Pep Guardiola akhirnya harus merasakan kesialan yang pernah dirasakan manajer-manajer klub lainnya musim ini. Ya, dua pemain Manchester City mengalami cedera saat ditahan imbang tanpa gol tim tuan rumah Crystal Palace di Stadion Selhurst Park, Minggu (31/12). Mereka adalah Gabriel Jesus dan Kevin De Bruyne. Jesus dipastikan bakal absen sekitar sebulan akibat cedera parah. Sedangkan De Bruyne diperkirakan absen hanya dalam dua laga ke ke depan. Guardiola mengaku cukup pusing dengan cedera yang dialami dua pemainnya di ManCity. Tak ayal, ia meminta wasit agar memberikan perlindungan yang lebih besar lagi kepada para pemain sehingga terhindar dari cedera. “Saya mengagumi permainan sarat fisik di Liga Primer Inggris, tapi para wasit seharusnya melindungi para pemain, bukan hanya para pemain bintang, tapi semua pemain,” ujar Guardiola dikutip dari BBC Pelatih asal Spanyol itu berpendapat, wasit seharusnya bisa meredam permainan kasar para pemain dengan keputusannya memberikan hukuman sepadan sehingga tak menekan kasus cedera para pemain. Kebijakan itu juga harus didukung Federasi Sepak Bola Inggris (FA). “Saya belum pernah berdiskusi dengan FA tentang masalah ini. Mereka hanya fokus pada aksi diving terkait pelanggaran pemain.” “Saya tahu kontak badan diperbolehkan di sini melebihi dari liga-liga lainnya, tapi tetap harus ada batasannya,” ucap Guardiola. Kebijakan melindungi pemain, Guardiola menambahkan, tak harus mengubah gaya permainan sarat fisik di kompetisi sepak bola Inggris. “Tentu ada batasnya ketika Anda sudah bertindak di luar batas dan itu berbahaya. Kami cukup beruntung karena di masa sebelumnya para pemain kami masih tetap bertahan.” “Kadang karena permainan sepak bola yang cepat hal itu [pelanggaran berbahaya] kerap terjadi dan mereka memang tak berniat mencelakai pemain lain. Tapi mereka tetap bisa cedera dalam waktu lama,” terang pelatih berkepala plontos itu. (bac)'"
            ],
            "application/vnd.google.colaboratory.intrinsic+json": {
              "type": "string"
            }
          },
          "metadata": {},
          "execution_count": 61
        }
      ],
      "source": [
        "text"
      ]
    },
    {
      "cell_type": "code",
      "execution_count": null,
      "metadata": {
        "colab": {
          "base_uri": "https://localhost:8080/",
          "height": 105
        },
        "id": "DpQFZQ__tdVq",
        "outputId": "4c93bcf6-6433-4d9b-f0c5-a73147e68d24"
      },
      "outputs": [
        {
          "output_type": "execute_result",
          "data": {
            "text/plain": [
              "'jakarta cnn indonesia pep guardiola akhirnya harus merasakan kesialan yang pernah dirasakan manajermanajer klub lainnya musim ini ya dua pemain manchester city mengalami cedera saat ditahan imbang tanpa gol tim tuan rumah crystal palace di stadion selhurst park minggu  mereka adalah gabriel jesus dan kevin de bruyne jesus dipastikan bakal absen sekitar sebulan akibat cedera parah sedangkan de bruyne diperkirakan absen hanya dalam dua laga ke ke depan guardiola mengaku cukup pusing dengan cedera yang dialami dua pemainnya di mancity tak ayal ia meminta wasit agar memberikan perlindungan yang lebih besar lagi kepada para pemain sehingga terhindar dari cedera saya mengagumi permainan sarat fisik di liga primer inggris tapi para wasit seharusnya melindungi para pemain bukan hanya para pemain bintang tapi semua pemain ujar guardiola dikutip dari bbc pelatih asal spanyol itu berpendapat wasit seharusnya bisa meredam permainan kasar para pemain dengan keputusannya memberikan hukuman sepadan sehingga tak menekan kasus cedera para pemain kebijakan itu juga harus didukung federasi sepak bola inggris fa saya belum pernah berdiskusi dengan fa tentang masalah ini mereka hanya fokus pada aksi diving terkait pelanggaran pemain saya tahu kontak badan diperbolehkan di sini melebihi dari ligaliga lainnya tapi tetap harus ada batasannya ucap guardiola kebijakan melindungi pemain guardiola menambahkan tak harus mengubah gaya permainan sarat fisik di kompetisi sepak bola inggris tentu ada batasnya ketika anda sudah bertindak di luar batas dan itu berbahaya kami cukup beruntung karena di masa sebelumnya para pemain kami masih tetap bertahan kadang karena permainan sepak bola yang cepat hal itu pelanggaran berbahaya kerap terjadi dan mereka memang tak berniat mencelakai pemain lain tapi mereka tetap bisa cedera dalam waktu lama terang pelatih berkepala plontos itu bac'"
            ],
            "application/vnd.google.colaboratory.intrinsic+json": {
              "type": "string"
            }
          },
          "metadata": {},
          "execution_count": 62
        }
      ],
      "source": [
        "hasil"
      ]
    },
    {
      "cell_type": "markdown",
      "metadata": {
        "id": "wF0Jyu2btdVq"
      },
      "source": [
        "## remove excessive whitespace <a name=\"remove-excessive-whitespace\"></a>"
      ]
    },
    {
      "cell_type": "code",
      "execution_count": null,
      "metadata": {
        "id": "Q5lxIkbltdVq"
      },
      "outputs": [],
      "source": [
        "document = \"Jakarta, CNN Indonesia -- Pep Guardiola akhirnya harus merasakan kesialan yang pernah dirasakan manajer-manajer klub lainnya musim ini. Ya, dua pemain Manchester City mengalami cedera saat ditahan imbang tanpa gol tim tuan rumah Crystal Palace di Stadion Selhurst Park, Minggu (31/12). Mereka adalah Gabriel Jesus dan Kevin De Bruyne. Jesus dipastikan bakal absen sekitar sebulan akibat cedera parah. Sedangkan De Bruyne diperkirakan absen hanya dalam dua laga ke ke depan. Guardiola mengaku cukup pusing dengan cedera yang dialami dua pemainnya di ManCity. Tak ayal, ia meminta wasit agar memberikan perlindungan yang lebih besar lagi kepada para pemain sehingga terhindar dari cedera. “Saya mengagumi permainan sarat fisik di Liga Primer Inggris, tapi para wasit seharusnya melindungi para pemain, bukan hanya para pemain bintang, tapi semua pemain,” ujar Guardiola dikutip dari BBC Pelatih asal Spanyol itu berpendapat, wasit seharusnya bisa meredam permainan kasar para pemain dengan keputusannya memberikan hukuman sepadan sehingga tak menekan kasus cedera para pemain. Kebijakan itu juga harus didukung Federasi Sepak Bola Inggris (FA). “Saya belum pernah berdiskusi dengan FA tentang masalah ini. Mereka hanya fokus pada aksi diving terkait pelanggaran pemain.” “Saya tahu kontak badan diperbolehkan di sini melebihi dari liga-liga lainnya, tapi tetap harus ada batasannya,” ucap Guardiola. Kebijakan melindungi pemain, Guardiola menambahkan, tak harus mengubah gaya permainan sarat fisik di kompetisi sepak bola Inggris. “Tentu ada batasnya ketika Anda sudah bertindak di luar batas dan itu berbahaya. Kami cukup beruntung karena di masa sebelumnya para pemain kami masih tetap bertahan.” “Kadang karena permainan sepak bola yang cepat hal itu [pelanggaran berbahaya] kerap terjadi dan mereka memang tak berniat mencelakai pemain lain. Tapi mereka tetap bisa cedera dalam waktu lama,” terang pelatih berkepala plontos itu. (bac)\""
      ]
    },
    {
      "cell_type": "code",
      "execution_count": null,
      "metadata": {
        "id": "n1UFVK7btdVr"
      },
      "outputs": [],
      "source": [
        "nowhite = ' '.join(document.split())"
      ]
    },
    {
      "cell_type": "code",
      "execution_count": null,
      "metadata": {
        "colab": {
          "base_uri": "https://localhost:8080/",
          "height": 105
        },
        "id": "SRWF701StdVr",
        "outputId": "542ef54f-490b-482a-a726-80f5002df207"
      },
      "outputs": [
        {
          "output_type": "execute_result",
          "data": {
            "text/plain": [
              "'Jakarta, CNN Indonesia -- Pep Guardiola akhirnya harus merasakan kesialan yang pernah dirasakan manajer-manajer klub lainnya musim ini. Ya, dua pemain Manchester City mengalami cedera saat ditahan imbang tanpa gol tim tuan rumah Crystal Palace di Stadion Selhurst Park, Minggu (31/12). Mereka adalah Gabriel Jesus dan Kevin De Bruyne. Jesus dipastikan bakal absen sekitar sebulan akibat cedera parah. Sedangkan De Bruyne diperkirakan absen hanya dalam dua laga ke ke depan. Guardiola mengaku cukup pusing dengan cedera yang dialami dua pemainnya di ManCity. Tak ayal, ia meminta wasit agar memberikan perlindungan yang lebih besar lagi kepada para pemain sehingga terhindar dari cedera. “Saya mengagumi permainan sarat fisik di Liga Primer Inggris, tapi para wasit seharusnya melindungi para pemain, bukan hanya para pemain bintang, tapi semua pemain,” ujar Guardiola dikutip dari BBC Pelatih asal Spanyol itu berpendapat, wasit seharusnya bisa meredam permainan kasar para pemain dengan keputusannya memberikan hukuman sepadan sehingga tak menekan kasus cedera para pemain. Kebijakan itu juga harus didukung Federasi Sepak Bola Inggris (FA). “Saya belum pernah berdiskusi dengan FA tentang masalah ini. Mereka hanya fokus pada aksi diving terkait pelanggaran pemain.” “Saya tahu kontak badan diperbolehkan di sini melebihi dari liga-liga lainnya, tapi tetap harus ada batasannya,” ucap Guardiola. Kebijakan melindungi pemain, Guardiola menambahkan, tak harus mengubah gaya permainan sarat fisik di kompetisi sepak bola Inggris. “Tentu ada batasnya ketika Anda sudah bertindak di luar batas dan itu berbahaya. Kami cukup beruntung karena di masa sebelumnya para pemain kami masih tetap bertahan.” “Kadang karena permainan sepak bola yang cepat hal itu [pelanggaran berbahaya] kerap terjadi dan mereka memang tak berniat mencelakai pemain lain. Tapi mereka tetap bisa cedera dalam waktu lama,” terang pelatih berkepala plontos itu. (bac)'"
            ],
            "application/vnd.google.colaboratory.intrinsic+json": {
              "type": "string"
            }
          },
          "metadata": {},
          "execution_count": 68
        }
      ],
      "source": [
        "nowhite"
      ]
    }
  ],
  "metadata": {
    "kernelspec": {
      "display_name": "Python 3 (ipykernel)",
      "language": "python",
      "name": "python3"
    },
    "language_info": {
      "codemirror_mode": {
        "name": "ipython",
        "version": 3
      },
      "file_extension": ".py",
      "mimetype": "text/x-python",
      "name": "python",
      "nbconvert_exporter": "python",
      "pygments_lexer": "ipython3",
      "version": "3.9.5"
    },
    "colab": {
      "provenance": []
    }
  },
  "nbformat": 4,
  "nbformat_minor": 0
}