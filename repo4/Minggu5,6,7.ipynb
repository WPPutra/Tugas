{
  "nbformat": 4,
  "nbformat_minor": 0,
  "metadata": {
    "colab": {
      "provenance": []
    },
    "kernelspec": {
      "name": "python3",
      "display_name": "Python 3"
    },
    "language_info": {
      "name": "python"
    }
  },
  "cells": [
    {
      "cell_type": "code",
      "execution_count": 1,
      "metadata": {
        "colab": {
          "base_uri": "https://localhost:8080/",
          "height": 112
        },
        "id": "rHDq3MuZprFT",
        "outputId": "47f888c8-e5cd-4e81-afac-19b82aa2e6ac"
      },
      "outputs": [
        {
          "output_type": "execute_result",
          "data": {
            "text/plain": [
              "   also  boy  he  is  lazy  neeraj  person  she\n",
              "0     1    1   1   2     2       0       0    1\n",
              "1     0    0   0   1     1       1       1    0"
            ],
            "text/html": [
              "\n",
              "  <div id=\"df-d609f7dc-9666-477d-a56f-d3f63686f061\" class=\"colab-df-container\">\n",
              "    <div>\n",
              "<style scoped>\n",
              "    .dataframe tbody tr th:only-of-type {\n",
              "        vertical-align: middle;\n",
              "    }\n",
              "\n",
              "    .dataframe tbody tr th {\n",
              "        vertical-align: top;\n",
              "    }\n",
              "\n",
              "    .dataframe thead th {\n",
              "        text-align: right;\n",
              "    }\n",
              "</style>\n",
              "<table border=\"1\" class=\"dataframe\">\n",
              "  <thead>\n",
              "    <tr style=\"text-align: right;\">\n",
              "      <th></th>\n",
              "      <th>also</th>\n",
              "      <th>boy</th>\n",
              "      <th>he</th>\n",
              "      <th>is</th>\n",
              "      <th>lazy</th>\n",
              "      <th>neeraj</th>\n",
              "      <th>person</th>\n",
              "      <th>she</th>\n",
              "    </tr>\n",
              "  </thead>\n",
              "  <tbody>\n",
              "    <tr>\n",
              "      <th>0</th>\n",
              "      <td>1</td>\n",
              "      <td>1</td>\n",
              "      <td>1</td>\n",
              "      <td>2</td>\n",
              "      <td>2</td>\n",
              "      <td>0</td>\n",
              "      <td>0</td>\n",
              "      <td>1</td>\n",
              "    </tr>\n",
              "    <tr>\n",
              "      <th>1</th>\n",
              "      <td>0</td>\n",
              "      <td>0</td>\n",
              "      <td>0</td>\n",
              "      <td>1</td>\n",
              "      <td>1</td>\n",
              "      <td>1</td>\n",
              "      <td>1</td>\n",
              "      <td>0</td>\n",
              "    </tr>\n",
              "  </tbody>\n",
              "</table>\n",
              "</div>\n",
              "    <div class=\"colab-df-buttons\">\n",
              "\n",
              "  <div class=\"colab-df-container\">\n",
              "    <button class=\"colab-df-convert\" onclick=\"convertToInteractive('df-d609f7dc-9666-477d-a56f-d3f63686f061')\"\n",
              "            title=\"Convert this dataframe to an interactive table.\"\n",
              "            style=\"display:none;\">\n",
              "\n",
              "  <svg xmlns=\"http://www.w3.org/2000/svg\" height=\"24px\" viewBox=\"0 -960 960 960\">\n",
              "    <path d=\"M120-120v-720h720v720H120Zm60-500h600v-160H180v160Zm220 220h160v-160H400v160Zm0 220h160v-160H400v160ZM180-400h160v-160H180v160Zm440 0h160v-160H620v160ZM180-180h160v-160H180v160Zm440 0h160v-160H620v160Z\"/>\n",
              "  </svg>\n",
              "    </button>\n",
              "\n",
              "  <style>\n",
              "    .colab-df-container {\n",
              "      display:flex;\n",
              "      gap: 12px;\n",
              "    }\n",
              "\n",
              "    .colab-df-convert {\n",
              "      background-color: #E8F0FE;\n",
              "      border: none;\n",
              "      border-radius: 50%;\n",
              "      cursor: pointer;\n",
              "      display: none;\n",
              "      fill: #1967D2;\n",
              "      height: 32px;\n",
              "      padding: 0 0 0 0;\n",
              "      width: 32px;\n",
              "    }\n",
              "\n",
              "    .colab-df-convert:hover {\n",
              "      background-color: #E2EBFA;\n",
              "      box-shadow: 0px 1px 2px rgba(60, 64, 67, 0.3), 0px 1px 3px 1px rgba(60, 64, 67, 0.15);\n",
              "      fill: #174EA6;\n",
              "    }\n",
              "\n",
              "    .colab-df-buttons div {\n",
              "      margin-bottom: 4px;\n",
              "    }\n",
              "\n",
              "    [theme=dark] .colab-df-convert {\n",
              "      background-color: #3B4455;\n",
              "      fill: #D2E3FC;\n",
              "    }\n",
              "\n",
              "    [theme=dark] .colab-df-convert:hover {\n",
              "      background-color: #434B5C;\n",
              "      box-shadow: 0px 1px 3px 1px rgba(0, 0, 0, 0.15);\n",
              "      filter: drop-shadow(0px 1px 2px rgba(0, 0, 0, 0.3));\n",
              "      fill: #FFFFFF;\n",
              "    }\n",
              "  </style>\n",
              "\n",
              "    <script>\n",
              "      const buttonEl =\n",
              "        document.querySelector('#df-d609f7dc-9666-477d-a56f-d3f63686f061 button.colab-df-convert');\n",
              "      buttonEl.style.display =\n",
              "        google.colab.kernel.accessAllowed ? 'block' : 'none';\n",
              "\n",
              "      async function convertToInteractive(key) {\n",
              "        const element = document.querySelector('#df-d609f7dc-9666-477d-a56f-d3f63686f061');\n",
              "        const dataTable =\n",
              "          await google.colab.kernel.invokeFunction('convertToInteractive',\n",
              "                                                    [key], {});\n",
              "        if (!dataTable) return;\n",
              "\n",
              "        const docLinkHtml = 'Like what you see? Visit the ' +\n",
              "          '<a target=\"_blank\" href=https://colab.research.google.com/notebooks/data_table.ipynb>data table notebook</a>'\n",
              "          + ' to learn more about interactive tables.';\n",
              "        element.innerHTML = '';\n",
              "        dataTable['output_type'] = 'display_data';\n",
              "        await google.colab.output.renderOutput(dataTable, element);\n",
              "        const docLink = document.createElement('div');\n",
              "        docLink.innerHTML = docLinkHtml;\n",
              "        element.appendChild(docLink);\n",
              "      }\n",
              "    </script>\n",
              "  </div>\n",
              "\n",
              "\n",
              "<div id=\"df-dd2c4981-579b-4d42-a11d-dc00185767e6\">\n",
              "  <button class=\"colab-df-quickchart\" onclick=\"quickchart('df-dd2c4981-579b-4d42-a11d-dc00185767e6')\"\n",
              "            title=\"Suggest charts.\"\n",
              "            style=\"display:none;\">\n",
              "\n",
              "<svg xmlns=\"http://www.w3.org/2000/svg\" height=\"24px\"viewBox=\"0 0 24 24\"\n",
              "     width=\"24px\">\n",
              "    <g>\n",
              "        <path d=\"M19 3H5c-1.1 0-2 .9-2 2v14c0 1.1.9 2 2 2h14c1.1 0 2-.9 2-2V5c0-1.1-.9-2-2-2zM9 17H7v-7h2v7zm4 0h-2V7h2v10zm4 0h-2v-4h2v4z\"/>\n",
              "    </g>\n",
              "</svg>\n",
              "  </button>\n",
              "\n",
              "<style>\n",
              "  .colab-df-quickchart {\n",
              "      --bg-color: #E8F0FE;\n",
              "      --fill-color: #1967D2;\n",
              "      --hover-bg-color: #E2EBFA;\n",
              "      --hover-fill-color: #174EA6;\n",
              "      --disabled-fill-color: #AAA;\n",
              "      --disabled-bg-color: #DDD;\n",
              "  }\n",
              "\n",
              "  [theme=dark] .colab-df-quickchart {\n",
              "      --bg-color: #3B4455;\n",
              "      --fill-color: #D2E3FC;\n",
              "      --hover-bg-color: #434B5C;\n",
              "      --hover-fill-color: #FFFFFF;\n",
              "      --disabled-bg-color: #3B4455;\n",
              "      --disabled-fill-color: #666;\n",
              "  }\n",
              "\n",
              "  .colab-df-quickchart {\n",
              "    background-color: var(--bg-color);\n",
              "    border: none;\n",
              "    border-radius: 50%;\n",
              "    cursor: pointer;\n",
              "    display: none;\n",
              "    fill: var(--fill-color);\n",
              "    height: 32px;\n",
              "    padding: 0;\n",
              "    width: 32px;\n",
              "  }\n",
              "\n",
              "  .colab-df-quickchart:hover {\n",
              "    background-color: var(--hover-bg-color);\n",
              "    box-shadow: 0 1px 2px rgba(60, 64, 67, 0.3), 0 1px 3px 1px rgba(60, 64, 67, 0.15);\n",
              "    fill: var(--button-hover-fill-color);\n",
              "  }\n",
              "\n",
              "  .colab-df-quickchart-complete:disabled,\n",
              "  .colab-df-quickchart-complete:disabled:hover {\n",
              "    background-color: var(--disabled-bg-color);\n",
              "    fill: var(--disabled-fill-color);\n",
              "    box-shadow: none;\n",
              "  }\n",
              "\n",
              "  .colab-df-spinner {\n",
              "    border: 2px solid var(--fill-color);\n",
              "    border-color: transparent;\n",
              "    border-bottom-color: var(--fill-color);\n",
              "    animation:\n",
              "      spin 1s steps(1) infinite;\n",
              "  }\n",
              "\n",
              "  @keyframes spin {\n",
              "    0% {\n",
              "      border-color: transparent;\n",
              "      border-bottom-color: var(--fill-color);\n",
              "      border-left-color: var(--fill-color);\n",
              "    }\n",
              "    20% {\n",
              "      border-color: transparent;\n",
              "      border-left-color: var(--fill-color);\n",
              "      border-top-color: var(--fill-color);\n",
              "    }\n",
              "    30% {\n",
              "      border-color: transparent;\n",
              "      border-left-color: var(--fill-color);\n",
              "      border-top-color: var(--fill-color);\n",
              "      border-right-color: var(--fill-color);\n",
              "    }\n",
              "    40% {\n",
              "      border-color: transparent;\n",
              "      border-right-color: var(--fill-color);\n",
              "      border-top-color: var(--fill-color);\n",
              "    }\n",
              "    60% {\n",
              "      border-color: transparent;\n",
              "      border-right-color: var(--fill-color);\n",
              "    }\n",
              "    80% {\n",
              "      border-color: transparent;\n",
              "      border-right-color: var(--fill-color);\n",
              "      border-bottom-color: var(--fill-color);\n",
              "    }\n",
              "    90% {\n",
              "      border-color: transparent;\n",
              "      border-bottom-color: var(--fill-color);\n",
              "    }\n",
              "  }\n",
              "</style>\n",
              "\n",
              "  <script>\n",
              "    async function quickchart(key) {\n",
              "      const quickchartButtonEl =\n",
              "        document.querySelector('#' + key + ' button');\n",
              "      quickchartButtonEl.disabled = true;  // To prevent multiple clicks.\n",
              "      quickchartButtonEl.classList.add('colab-df-spinner');\n",
              "      try {\n",
              "        const charts = await google.colab.kernel.invokeFunction(\n",
              "            'suggestCharts', [key], {});\n",
              "      } catch (error) {\n",
              "        console.error('Error during call to suggestCharts:', error);\n",
              "      }\n",
              "      quickchartButtonEl.classList.remove('colab-df-spinner');\n",
              "      quickchartButtonEl.classList.add('colab-df-quickchart-complete');\n",
              "    }\n",
              "    (() => {\n",
              "      let quickchartButtonEl =\n",
              "        document.querySelector('#df-dd2c4981-579b-4d42-a11d-dc00185767e6 button');\n",
              "      quickchartButtonEl.style.display =\n",
              "        google.colab.kernel.accessAllowed ? 'block' : 'none';\n",
              "    })();\n",
              "  </script>\n",
              "</div>\n",
              "    </div>\n",
              "  </div>\n"
            ]
          },
          "metadata": {},
          "execution_count": 1
        }
      ],
      "source": [
        "from sklearn.feature_extraction.text import CountVectorizer\n",
        "import pandas as pd\n",
        "\n",
        "doc1 = \"He is a lazy boy. She is also lazy.\"\n",
        "doc2 = \"Neeraj is a lazy person.\"\n",
        "\n",
        "bow_vectorizer = CountVectorizer()\n",
        "\n",
        "X = bow_vectorizer.fit_transform([doc1,doc2])\n",
        "\n",
        "bow_df = pd.DataFrame(X.toarray(),columns=bow_vectorizer.get_feature_names_out())\n",
        "bow_df.head()"
      ]
    },
    {
      "cell_type": "code",
      "source": [
        "import numpy as np\n",
        "np.random.seed(42)\n",
        "v_revenge = np.array([0,0,1,0,0,0]) #\"revenge\"\n",
        "print(v_revenge)\n",
        "\n",
        "weight = np.random.random_sample((6,3))\n",
        "print(weight)\n",
        "\n",
        "hidden_layer_sg = np.dot(v_revenge,weight)\n",
        "print(hidden_layer_sg)\n",
        "\n",
        "weight_prime = np.random.random_sample((3,6))\n",
        "print(weight_prime)\n",
        "\n",
        "o_the = np.dot(hidden_layer_sg, weight_prime)\n",
        "print(o_the)"
      ],
      "metadata": {
        "colab": {
          "base_uri": "https://localhost:8080/"
        },
        "id": "8qfSGgaprN2x",
        "outputId": "eb5541e1-ce86-481b-cbf1-e56418cb28e7"
      },
      "execution_count": 12,
      "outputs": [
        {
          "output_type": "stream",
          "name": "stdout",
          "text": [
            "[0 0 1 0 0 0]\n",
            "[[0.37454012 0.95071431 0.73199394]\n",
            " [0.59865848 0.15601864 0.15599452]\n",
            " [0.05808361 0.86617615 0.60111501]\n",
            " [0.70807258 0.02058449 0.96990985]\n",
            " [0.83244264 0.21233911 0.18182497]\n",
            " [0.18340451 0.30424224 0.52475643]]\n",
            "[0.05808361 0.86617615 0.60111501]\n",
            "[[0.43194502 0.29122914 0.61185289 0.13949386 0.29214465 0.36636184]\n",
            " [0.45606998 0.78517596 0.19967378 0.51423444 0.59241457 0.04645041]\n",
            " [0.60754485 0.17052412 0.06505159 0.94888554 0.96563203 0.80839735]]\n",
            "[0.7853302  0.79952094 0.24759478 1.02390925 1.1105601  0.54745364]\n"
          ]
        }
      ]
    },
    {
      "cell_type": "code",
      "source": [
        "v_the = np.array([0,0,1,0,0,0]) #\"the\"\n",
        "print(v_the)\n",
        "\n",
        "hidden_layer_cbow = np.dot(v_the,weight)\n",
        "print(hidden_layer_cbow)\n",
        "\n",
        "o_revenge = np.dot(hidden_layer_cbow, weight_prime)\n",
        "print(o_revenge)"
      ],
      "metadata": {
        "colab": {
          "base_uri": "https://localhost:8080/"
        },
        "id": "4Ojj1M7xrd12",
        "outputId": "9a9a63b9-42c4-4f78-84b9-43ce69faf657"
      },
      "execution_count": 13,
      "outputs": [
        {
          "output_type": "stream",
          "name": "stdout",
          "text": [
            "[0 0 1 0 0 0]\n",
            "[0.05808361 0.86617615 0.60111501]\n",
            "[0.7853302  0.79952094 0.24759478 1.02390925 1.1105601  0.54745364]\n"
          ]
        }
      ]
    },
    {
      "cell_type": "code",
      "source": [
        "import re\n",
        "import numpy as np\n",
        "\n",
        "from gensim.models import Word2Vec\n",
        "from nltk.corpus import gutenberg\n",
        "from multiprocessing import Pool\n",
        "from scipy import spatial\n",
        "\n",
        "import gensim\n",
        "from gensim.models import Word2Vec\n",
        "from nltk.tokenize import word_tokenize\n",
        "import string\n"
      ],
      "metadata": {
        "id": "e1gwIu22qXjJ"
      },
      "execution_count": 3,
      "outputs": []
    },
    {
      "cell_type": "code",
      "source": [
        "import nltk\n",
        "\n",
        "from nltk.corpus import gutenberg"
      ],
      "metadata": {
        "id": "JBe6BlluqYml"
      },
      "execution_count": 4,
      "outputs": []
    },
    {
      "cell_type": "code",
      "source": [
        "import pandas as pd\n",
        "# DATASET DARI FILE PERTEMUAN KE 3 (BOOLEAN MODEL)\n",
        "# Baca teks dari file 'lee quan yew.txt'\n",
        "with open('/content/data.txt', 'r', encoding='utf-8') as file:\n",
        "    text = file.read()\n",
        "\n",
        "# Buat DataFrame dari teks\n",
        "df = pd.DataFrame({'Text': [text]})\n",
        "\n",
        "# Tampilkan DataFrame\n",
        "print(df)\n"
      ],
      "metadata": {
        "colab": {
          "base_uri": "https://localhost:8080/"
        },
        "id": "rqwtBsQQqcc3",
        "outputId": "e9f955c4-7ca6-425d-f1eb-3b33008cd76e"
      },
      "execution_count": 2,
      "outputs": [
        {
          "output_type": "stream",
          "name": "stdout",
          "text": [
            "                                                Text\n",
            "0  Jakarta, CNN Indonesia -- Pep Guardiola akhirn...\n"
          ]
        }
      ]
    },
    {
      "cell_type": "code",
      "source": [
        "# Membangun model Word2Vec\n",
        "model = Word2Vec(df['Text'], vector_size=100, window=5, min_count=1, sg=0)\n",
        "\n",
        "# Melatih model\n",
        "model.train(df['Text'], total_examples=len(df['Text']), epochs=10)\n"
      ],
      "metadata": {
        "colab": {
          "base_uri": "https://localhost:8080/"
        },
        "id": "Cft4pKGMqfYz",
        "outputId": "7ac1abd7-01b2-4e75-fa87-61653cac0c3b"
      },
      "execution_count": 5,
      "outputs": [
        {
          "output_type": "stream",
          "name": "stderr",
          "text": [
            "WARNING:gensim.models.word2vec:Each 'sentences' item should be a list of words (usually unicode strings). First item here is instead plain <class 'str'>.\n",
            "WARNING:gensim.models.word2vec:Effective 'alpha' higher than previous training cycles\n"
          ]
        },
        {
          "output_type": "execute_result",
          "data": {
            "text/plain": [
              "(5594, 26630)"
            ]
          },
          "metadata": {},
          "execution_count": 5
        }
      ]
    },
    {
      "cell_type": "code",
      "source": [
        "# Mencari kata-kata yang ada dalam kosakata model\n",
        "vocab = model.wv.index_to_key\n",
        "print(vocab)\n"
      ],
      "metadata": {
        "colab": {
          "base_uri": "https://localhost:8080/"
        },
        "id": "f5RHVyqwqhva",
        "outputId": "8bb53ae1-5340-4416-e96b-859370bf51ec"
      },
      "execution_count": 6,
      "outputs": [
        {
          "output_type": "stream",
          "name": "stdout",
          "text": [
            "[' ', 'a', 'e', 'i', 'n', 't', 'r', 's', 'u', 'd', 'm', 'l', 'p', 'g', 'k', 'h', 'o', 'b', 'y', 'c', '.', ',', 'w', 'f', 'S', 'j', 'G', 'M', 'P', '-', 'K', 'v', '“', '1', '”', 'I', 'C', 'B', 'J', 'A', 'F', '(', '2', ')', 'T', 'L', 'H', \"'\", 'N', 'Y', 'D', '3', '9', '[', ']', 'W', '/', 'O', '0', '5', '7']\n"
          ]
        }
      ]
    },
    {
      "cell_type": "code",
      "source": [
        "similar_words = model.wv.most_similar('s', topn=10)\n",
        "print(similar_words)\n"
      ],
      "metadata": {
        "colab": {
          "base_uri": "https://localhost:8080/"
        },
        "id": "jKxKmVmyqh3I",
        "outputId": "5eb0f916-8fbf-4cf1-b5f8-7f43d73f5618"
      },
      "execution_count": 7,
      "outputs": [
        {
          "output_type": "stream",
          "name": "stdout",
          "text": [
            "[('B', 0.9992157220840454), ('1', 0.9992015957832336), ('o', 0.9991753101348877), ('r', 0.999172031879425), ('c', 0.9991673231124878), ('.', 0.9991466999053955), (' ', 0.999122679233551), ('e', 0.9991074204444885), ('I', 0.9990980625152588), ('l', 0.9990413784980774)]\n"
          ]
        }
      ]
    },
    {
      "cell_type": "code",
      "source": [
        "from gensim.models import Word2Vec\n",
        "\n",
        "# Membangun model Skip-gram\n",
        "skipgram_model = Word2Vec(df['Text'], vector_size=100, window=5, min_count=1, sg=1)\n",
        "\n",
        "# Melatih model Skip-gram\n",
        "skipgram_model.train(df['Text'], total_examples=len(df['Text']), epochs=10)"
      ],
      "metadata": {
        "colab": {
          "base_uri": "https://localhost:8080/"
        },
        "id": "AHyTm9AkqqCv",
        "outputId": "51fe3088-6e07-47da-b48f-3211f43debe7"
      },
      "execution_count": 8,
      "outputs": [
        {
          "output_type": "stream",
          "name": "stderr",
          "text": [
            "WARNING:gensim.models.word2vec:Each 'sentences' item should be a list of words (usually unicode strings). First item here is instead plain <class 'str'>.\n",
            "WARNING:gensim.models.word2vec:Effective 'alpha' higher than previous training cycles\n"
          ]
        },
        {
          "output_type": "execute_result",
          "data": {
            "text/plain": [
              "(5594, 26630)"
            ]
          },
          "metadata": {},
          "execution_count": 8
        }
      ]
    },
    {
      "cell_type": "code",
      "source": [
        "# Mencari kata-kata serupa dengan kata tertentu dari model skipgram\n",
        "similar_words = skipgram_model.wv.most_similar('s', topn=10)\n",
        "print(\"Kata-kata serupa dengan 's' (dari model Skip-gram):\")\n",
        "for word, score in similar_words:\n",
        "    print(f\"{word}: {score}\")\n",
        "\n",
        "# Menampilkan vektor kata untuk kata tertentu\n",
        "vector = skipgram_model.wv['s']\n",
        "print(\"Vektor kata untuk 's' (dari model Skip-gram):\")\n",
        "print(vector)"
      ],
      "metadata": {
        "colab": {
          "base_uri": "https://localhost:8080/"
        },
        "id": "QCFTD937qty3",
        "outputId": "ff2857f9-6e00-4186-c216-b7c6686bf6cf"
      },
      "execution_count": 9,
      "outputs": [
        {
          "output_type": "stream",
          "name": "stdout",
          "text": [
            "Kata-kata serupa dengan 's' (dari model Skip-gram):\n",
            "c: 0.9970273375511169\n",
            "v: 0.9969329833984375\n",
            "W: 0.9965360760688782\n",
            "l: 0.9964099526405334\n",
            "i: 0.9962394833564758\n",
            "f: 0.9962062835693359\n",
            "Y: 0.9962048530578613\n",
            "]: 0.9961782693862915\n",
            "O: 0.9961727857589722\n",
            "': 0.996157705783844\n",
            "Vektor kata untuk 's' (dari model Skip-gram):\n",
            "[-0.00874494  0.12464108  0.03574384  0.14272512  0.08611456 -0.09261786\n",
            "  0.16854893  0.18440428 -0.11285492 -0.11765001  0.08798005 -0.14399342\n",
            "  0.00304949  0.14000782 -0.02119653  0.0078637   0.2231428   0.04148151\n",
            " -0.12348541 -0.24825583  0.11272263 -0.04387752  0.22559768 -0.10781479\n",
            " -0.03130107  0.03287421 -0.18757881  0.13537943 -0.04000556  0.01165437\n",
            "  0.14182568 -0.03698987  0.10675681 -0.20878492 -0.02886928  0.00826764\n",
            "  0.10621784  0.07483903 -0.05122445 -0.00385018  0.00367029 -0.04452657\n",
            " -0.03720948  0.02539654  0.07674455 -0.02296766 -0.04204811 -0.05377861\n",
            "  0.09011387  0.0895918   0.05728262 -0.06498325 -0.06077159 -0.12871476\n",
            " -0.01655697 -0.06576777  0.08119086  0.07379561  0.03766982  0.03832407\n",
            " -0.07943287 -0.13778833  0.17022109  0.06004264 -0.11378954  0.12869887\n",
            "  0.01817448  0.12434623 -0.18562376  0.11122715 -0.03915976  0.02312646\n",
            "  0.13007501  0.10768826  0.04416619 -0.1226225   0.00733633  0.05996266\n",
            " -0.05370834 -0.07843041 -0.26448995 -0.02552728 -0.01287277  0.08931904\n",
            " -0.01898341 -0.11923157  0.19150804 -0.05850023  0.03173498  0.00792786\n",
            "  0.07013001 -0.03183766  0.05051009 -0.03228912  0.17029503  0.00329499\n",
            "  0.07692388  0.02296231 -0.06517666  0.07741692]\n"
          ]
        }
      ]
    },
    {
      "cell_type": "code",
      "source": [
        "from gensim.models import Word2Vec\n",
        "\n",
        "# Membangun model CBOW\n",
        "cbow_model = Word2Vec(df['Text'], vector_size=100, window=5, min_count=1, sg=0)\n",
        "\n",
        "# Melatih model CBOW\n",
        "cbow_model.train(df['Text'], total_examples=len(df['Text']), epochs=10)"
      ],
      "metadata": {
        "colab": {
          "base_uri": "https://localhost:8080/"
        },
        "id": "Cui1C79-qyUm",
        "outputId": "cb7330ab-95cc-466d-e6db-b0ddb5b83add"
      },
      "execution_count": 10,
      "outputs": [
        {
          "output_type": "stream",
          "name": "stderr",
          "text": [
            "WARNING:gensim.models.word2vec:Each 'sentences' item should be a list of words (usually unicode strings). First item here is instead plain <class 'str'>.\n",
            "WARNING:gensim.models.word2vec:Effective 'alpha' higher than previous training cycles\n"
          ]
        },
        {
          "output_type": "execute_result",
          "data": {
            "text/plain": [
              "(5594, 26630)"
            ]
          },
          "metadata": {},
          "execution_count": 10
        }
      ]
    },
    {
      "cell_type": "code",
      "source": [
        "# Mencari kata-kata serupa dengan kata tertentu dari model CBOW\n",
        "similar_words = cbow_model.wv.most_similar('l', topn=10)\n",
        "print(\"Kata-kata serupa dengan 'l' (dari model CBOW):\")\n",
        "for word, score in similar_words:\n",
        "    print(f\"{word}: {score}\")\n",
        "\n",
        "# Menampilkan vektor kata untuk kata tertentu dari model CBOW\n",
        "vector = cbow_model.wv['l']\n",
        "print(\"Vektor kata untuk 'l' (dari model CBOW):\")\n",
        "print(vector)"
      ],
      "metadata": {
        "colab": {
          "base_uri": "https://localhost:8080/"
        },
        "id": "KoAqgyueqyq5",
        "outputId": "47e57101-a95b-4862-b273-dee128fce5cb"
      },
      "execution_count": 11,
      "outputs": [
        {
          "output_type": "stream",
          "name": "stdout",
          "text": [
            "Kata-kata serupa dengan 'l' (dari model CBOW):\n",
            ".: 0.999252200126648\n",
            "e: 0.9992106556892395\n",
            "1: 0.9991708993911743\n",
            ",: 0.9991546273231506\n",
            "2: 0.9990965723991394\n",
            "B: 0.9990777373313904\n",
            "r: 0.9990472197532654\n",
            "s: 0.9990412592887878\n",
            "M: 0.9990251064300537\n",
            "K: 0.999021589756012\n",
            "Vektor kata untuk 'l' (dari model CBOW):\n",
            "[-4.07433137e-02  1.75450951e-01  5.72798364e-02  1.65822744e-01\n",
            "  7.20779151e-02 -2.08211392e-01  2.50145704e-01  3.88814092e-01\n",
            " -1.98451728e-01 -2.77288586e-01  1.70949802e-01 -2.25610003e-01\n",
            " -3.07260938e-02  1.64102390e-01  1.12849334e-02 -3.89799452e-03\n",
            "  3.30636650e-01  6.05613962e-02 -1.61332265e-01 -4.64793563e-01\n",
            "  1.12569697e-01 -3.03764082e-02  3.66806448e-01 -1.31036982e-01\n",
            " -2.62527522e-02  5.69016859e-02 -2.62700111e-01  1.61943853e-01\n",
            " -8.95879418e-02  2.62997188e-02  2.18944818e-01 -1.00923873e-01\n",
            "  1.86496779e-01 -3.05560201e-01 -7.94532970e-02  7.85703138e-02\n",
            "  1.48762316e-01  4.03451435e-02 -1.05619229e-01 -5.96827641e-02\n",
            "  3.01863272e-02 -9.72791165e-02 -1.05927035e-01  7.50322565e-02\n",
            "  1.27511084e-01 -8.09763446e-02 -6.47459403e-02 -9.85023677e-02\n",
            "  1.02008954e-01  1.43268332e-01  8.25864747e-02 -1.27539366e-01\n",
            " -1.05585642e-01 -1.21283762e-01 -4.25642617e-02 -1.26718715e-01\n",
            "  1.21395826e-01  2.23197276e-03  3.58729735e-02  3.63281704e-02\n",
            " -1.15812145e-01 -1.66223288e-01  3.31417739e-01  6.77526593e-02\n",
            " -2.21867338e-01  2.86211163e-01  1.65113285e-02  1.99280813e-01\n",
            " -3.20880264e-01  1.23321034e-01 -2.42244729e-04  1.75174028e-01\n",
            "  2.04647616e-01  1.52739182e-01  1.60853863e-01 -9.84065831e-02\n",
            "  4.49958444e-02  1.24124765e-01 -9.38291177e-02 -1.14326954e-01\n",
            " -3.17090482e-01 -4.13797982e-02  4.70409775e-03  1.69254035e-01\n",
            " -2.26805713e-02 -1.67591348e-01  2.78790981e-01 -1.05352744e-01\n",
            "  4.35698032e-02  4.85088155e-02  1.27432197e-01  1.19690001e-02\n",
            "  1.17783651e-01 -4.62152697e-02  3.60802770e-01  8.31273478e-03\n",
            "  1.20181516e-01 -1.02297571e-02 -3.21495160e-02  9.63961557e-02]\n"
          ]
        }
      ]
    }
  ]
}